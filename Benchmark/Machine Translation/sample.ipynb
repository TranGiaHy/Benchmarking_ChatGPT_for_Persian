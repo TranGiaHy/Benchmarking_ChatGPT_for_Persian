{
  "cells": [
    {
      "cell_type": "code",
      "execution_count": 4,
      "metadata": {},
      "outputs": [
        {
          "name": "stdout",
          "output_type": "stream",
          "text": [
            "Requirement already satisfied: nltk in c:\\users\\giahytran\\appdata\\local\\programs\\python\\python311\\lib\\site-packages (3.9.1)\n",
            "Requirement already satisfied: click in c:\\users\\giahytran\\appdata\\local\\programs\\python\\python311\\lib\\site-packages (from nltk) (8.2.1)\n",
            "Requirement already satisfied: joblib in c:\\users\\giahytran\\appdata\\local\\programs\\python\\python311\\lib\\site-packages (from nltk) (1.5.1)\n",
            "Requirement already satisfied: regex>=2021.8.3 in c:\\users\\giahytran\\appdata\\local\\programs\\python\\python311\\lib\\site-packages (from nltk) (2024.11.6)\n",
            "Requirement already satisfied: tqdm in c:\\users\\giahytran\\appdata\\local\\programs\\python\\python311\\lib\\site-packages (from nltk) (4.67.1)\n",
            "Requirement already satisfied: colorama in c:\\users\\giahytran\\appdata\\local\\programs\\python\\python311\\lib\\site-packages (from click->nltk) (0.4.6)\n"
          ]
        },
        {
          "name": "stderr",
          "output_type": "stream",
          "text": [
            "\n",
            "[notice] A new release of pip is available: 24.0 -> 25.1.1\n",
            "[notice] To update, run: C:\\Users\\GiaHyTran\\AppData\\Local\\Programs\\Python\\Python311\\python.exe -m pip install --upgrade pip\n"
          ]
        }
      ],
      "source": [
        "!pip install nltk"
      ]
    },
    {
      "cell_type": "code",
      "execution_count": 1,
      "metadata": {},
      "outputs": [
        {
          "name": "stdout",
          "output_type": "stream",
          "text": [
            "Đang kiểm tra và tải tài nguyên 'punkt' cho NLTK...\n"
          ]
        },
        {
          "name": "stderr",
          "output_type": "stream",
          "text": [
            "[nltk_data] Downloading package punkt to\n",
            "[nltk_data]     C:\\Users\\GiaHyTran\\AppData\\Roaming\\nltk_data...\n",
            "[nltk_data]   Package punkt is already up-to-date!\n"
          ]
        },
        {
          "name": "stdout",
          "output_type": "stream",
          "text": [
            "Tải thành công!\n"
          ]
        }
      ],
      "source": [
        "import json\n",
        "import time\n",
        "import pandas as pd\n",
        "from openai import OpenAI\n",
        "from tqdm import tqdm\n",
        "from nltk.translate.bleu_score import sentence_bleu, SmoothingFunction\n",
        "import nltk\n",
        "\n",
        "# Tải tài nguyên 'punkt' cần thiết cho NLTK\n",
        "# NLTK sẽ tự động kiểm tra và chỉ tải nếu chưa có\n",
        "print(\"Đang kiểm tra và tải tài nguyên 'punkt' cho NLTK...\")\n",
        "nltk.download('punkt')\n",
        "print(\"Tải thành công!\")\n",
        "\n",
        "# Import TẤT CẢ các mẫu prompt từ file prompt.py\n",
        "from prompt import *"
      ]
    },
    {
      "cell_type": "code",
      "execution_count": null,
      "metadata": {},
      "outputs": [
        {
          "name": "stdout",
          "output_type": "stream",
          "text": [
            "✅ Đã tải thành công 200 cặp câu.\n",
            "   -> Sử dụng 200 mẫu cho chiều Anh -> Ba Tư.\n",
            "   -> Sử dụng 0 mẫu cho chiều Ba Tư -> Anh.\n"
          ]
        }
      ],
      "source": [
        "# !!! QUAN TRỌNG: Hãy điền API Key của bạn vào đây\n",
        "api_key = \"...\"  # Thay thế bằng API Key của bạn\n",
        "\n",
        "# 1. Khởi tạo Client với API Key\n",
        "client = OpenAI(api_key=api_key)\n",
        "\n",
        "# 2. Định nghĩa các model và các kịch bản prompt\n",
        "MODELS_TO_COMPARE = [\"gpt-3.5-turbo\", \"gpt-4o-mini\"]\n",
        "PROMPTS_TO_TEST = {\n",
        "    \"English -> Persian\": {\n",
        "        \"English Prompt (Zero-shot)\": ENGLISH_ZERO,\n",
        "        \"English Prompt (1-shot)\": ENGLISH_ONE,\n",
        "        \"English Prompt (3-shot)\": ENGLISH_THREE,\n",
        "        \"Persian Prompt (Zero-shot)\": PERSIAN_ZERO,\n",
        "        \"Persian Prompt (1-shot)\": PERSIAN_ONE,\n",
        "        \"Persian Prompt (3-shot)\": PERSIAN_THREE,\n",
        "    }\n",
        "    # phần \"Persian -> English\" vì không có dữ liệu\n",
        "}\n",
        "\n",
        "# 3. Tải và xử lý dữ liệu từ file MT.jsonl\n",
        "try:\n",
        "    full_data = []\n",
        "    # Dùng đúng tên file dữ liệu bạn đã cung cấp\n",
        "    with open('MT.jsonl', 'r', encoding='utf-8') as reader:\n",
        "        for line in reader:\n",
        "            full_data.append(json.loads(line))\n",
        "    \n",
        "    # 4. Tách dữ liệu theo chiều dịch dựa vào trường \"type\"\n",
        "    en_to_fa_data = [item for item in full_data if item['type'] == 'En-Per']\n",
        "    fa_to_en_data = [item for item in full_data if item['type'] == 'Per-En']\n",
        "    \n",
        "    # === THAY ĐỔI QUAN TRỌNG NHẤT ===\n",
        "    SAMPLE_SIZE = 200 \n",
        "    \n",
        "    # Lấy một phần nhỏ của dữ liệu để chạy thử\n",
        "    en_to_fa_sample = en_to_fa_data[:SAMPLE_SIZE]\n",
        "    fa_to_en_sample = fa_to_en_data[:SAMPLE_SIZE]\n",
        "    \n",
        "    print(f\"✅ Đã tải thành công {len(full_data)} cặp câu.\")\n",
        "    print(f\"   -> Sử dụng {len(en_to_fa_sample)} mẫu cho chiều Anh -> Ba Tư.\")\n",
        "    print(f\"   -> Sử dụng {len(fa_to_en_sample)} mẫu cho chiều Ba Tư -> Anh.\")\n",
        "\n",
        "except FileNotFoundError:\n",
        "    print(\"❌ Lỗi: Không tìm thấy file 'MT.jsonl'.\")"
      ]
    },
    {
      "cell_type": "code",
      "execution_count": 3,
      "metadata": {},
      "outputs": [],
      "source": [
        "def get_translation_from_model(prompt, model_name):\n",
        "    \"\"\"\n",
        "    Hàm này nhận một prompt và tên model, sau đó trả về bản dịch.\n",
        "    \"\"\"\n",
        "    try:\n",
        "        response = client.chat.completions.create(\n",
        "          model=model_name,\n",
        "          messages=[\n",
        "                {\"role\": \"system\", \"content\": \"You are an expert translator.\"},\n",
        "                {\"role\": \"user\", \"content\": prompt}\n",
        "            ],\n",
        "          temperature=0,\n",
        "          max_tokens=256  # Tăng giới hạn token cho các câu dài\n",
        "        )\n",
        "        return response.choices[0].message.content.strip()\n",
        "    except Exception as e:\n",
        "        print(f\"\\nLỗi khi gọi model {model_name}: {e}\")\n",
        "        return \"ERROR\""
      ]
    },
    {
      "cell_type": "code",
      "execution_count": 4,
      "metadata": {},
      "outputs": [
        {
          "name": "stdout",
          "output_type": "stream",
          "text": [
            "\n",
            "==================== BẮT ĐẦU TÁC VỤ: English -> Persian ====================\n",
            "---------- Bắt đầu Model: gpt-3.5-turbo ----------\n",
            "--- 🚀 Đang chạy kịch bản: English Prompt (Zero-shot) ---\n"
          ]
        },
        {
          "name": "stderr",
          "output_type": "stream",
          "text": [
            "Querying English Prompt (Zero-shot): 100%|██████████| 200/200 [07:19<00:00,  2.20s/it]\n"
          ]
        },
        {
          "name": "stdout",
          "output_type": "stream",
          "text": [
            "--- 🎉 Hoàn thành. Điểm BLEU: 7.17 ---\n",
            "\n",
            "--- 🚀 Đang chạy kịch bản: English Prompt (1-shot) ---\n"
          ]
        },
        {
          "name": "stderr",
          "output_type": "stream",
          "text": [
            "Querying English Prompt (1-shot): 100%|██████████| 200/200 [07:15<00:00,  2.18s/it]\n"
          ]
        },
        {
          "name": "stdout",
          "output_type": "stream",
          "text": [
            "--- 🎉 Hoàn thành. Điểm BLEU: 6.95 ---\n",
            "\n",
            "--- 🚀 Đang chạy kịch bản: English Prompt (3-shot) ---\n"
          ]
        },
        {
          "name": "stderr",
          "output_type": "stream",
          "text": [
            "Querying English Prompt (3-shot): 100%|██████████| 200/200 [07:25<00:00,  2.23s/it]\n"
          ]
        },
        {
          "name": "stdout",
          "output_type": "stream",
          "text": [
            "--- 🎉 Hoàn thành. Điểm BLEU: 6.72 ---\n",
            "\n",
            "--- 🚀 Đang chạy kịch bản: Persian Prompt (Zero-shot) ---\n"
          ]
        },
        {
          "name": "stderr",
          "output_type": "stream",
          "text": [
            "Querying Persian Prompt (Zero-shot): 100%|██████████| 200/200 [07:43<00:00,  2.32s/it]\n"
          ]
        },
        {
          "name": "stdout",
          "output_type": "stream",
          "text": [
            "--- 🎉 Hoàn thành. Điểm BLEU: 4.94 ---\n",
            "\n",
            "--- 🚀 Đang chạy kịch bản: Persian Prompt (1-shot) ---\n"
          ]
        },
        {
          "name": "stderr",
          "output_type": "stream",
          "text": [
            "Querying Persian Prompt (1-shot): 100%|██████████| 200/200 [07:27<00:00,  2.24s/it]\n"
          ]
        },
        {
          "name": "stdout",
          "output_type": "stream",
          "text": [
            "--- 🎉 Hoàn thành. Điểm BLEU: 5.03 ---\n",
            "\n",
            "--- 🚀 Đang chạy kịch bản: Persian Prompt (3-shot) ---\n"
          ]
        },
        {
          "name": "stderr",
          "output_type": "stream",
          "text": [
            "Querying Persian Prompt (3-shot): 100%|██████████| 200/200 [07:11<00:00,  2.16s/it]\n"
          ]
        },
        {
          "name": "stdout",
          "output_type": "stream",
          "text": [
            "--- 🎉 Hoàn thành. Điểm BLEU: 6.70 ---\n",
            "\n",
            "---------- Bắt đầu Model: gpt-4o-mini ----------\n",
            "--- 🚀 Đang chạy kịch bản: English Prompt (Zero-shot) ---\n"
          ]
        },
        {
          "name": "stderr",
          "output_type": "stream",
          "text": [
            "Querying English Prompt (Zero-shot): 100%|██████████| 200/200 [07:23<00:00,  2.22s/it]\n"
          ]
        },
        {
          "name": "stdout",
          "output_type": "stream",
          "text": [
            "--- 🎉 Hoàn thành. Điểm BLEU: 8.79 ---\n",
            "\n",
            "--- 🚀 Đang chạy kịch bản: English Prompt (1-shot) ---\n"
          ]
        },
        {
          "name": "stderr",
          "output_type": "stream",
          "text": [
            "Querying English Prompt (1-shot): 100%|██████████| 200/200 [07:33<00:00,  2.27s/it]\n"
          ]
        },
        {
          "name": "stdout",
          "output_type": "stream",
          "text": [
            "--- 🎉 Hoàn thành. Điểm BLEU: 8.78 ---\n",
            "\n",
            "--- 🚀 Đang chạy kịch bản: English Prompt (3-shot) ---\n"
          ]
        },
        {
          "name": "stderr",
          "output_type": "stream",
          "text": [
            "Querying English Prompt (3-shot): 100%|██████████| 200/200 [07:48<00:00,  2.34s/it]\n"
          ]
        },
        {
          "name": "stdout",
          "output_type": "stream",
          "text": [
            "--- 🎉 Hoàn thành. Điểm BLEU: 8.43 ---\n",
            "\n",
            "--- 🚀 Đang chạy kịch bản: Persian Prompt (Zero-shot) ---\n"
          ]
        },
        {
          "name": "stderr",
          "output_type": "stream",
          "text": [
            "Querying Persian Prompt (Zero-shot): 100%|██████████| 200/200 [07:43<00:00,  2.32s/it]\n"
          ]
        },
        {
          "name": "stdout",
          "output_type": "stream",
          "text": [
            "--- 🎉 Hoàn thành. Điểm BLEU: 8.54 ---\n",
            "\n",
            "--- 🚀 Đang chạy kịch bản: Persian Prompt (1-shot) ---\n"
          ]
        },
        {
          "name": "stderr",
          "output_type": "stream",
          "text": [
            "Querying Persian Prompt (1-shot): 100%|██████████| 200/200 [07:38<00:00,  2.29s/it]\n"
          ]
        },
        {
          "name": "stdout",
          "output_type": "stream",
          "text": [
            "--- 🎉 Hoàn thành. Điểm BLEU: 8.47 ---\n",
            "\n",
            "--- 🚀 Đang chạy kịch bản: Persian Prompt (3-shot) ---\n"
          ]
        },
        {
          "name": "stderr",
          "output_type": "stream",
          "text": [
            "Querying Persian Prompt (3-shot): 100%|██████████| 200/200 [07:27<00:00,  2.24s/it]"
          ]
        },
        {
          "name": "stdout",
          "output_type": "stream",
          "text": [
            "--- 🎉 Hoàn thành. Điểm BLEU: 8.82 ---\n",
            "\n",
            "✨ Đã hoàn thành tất cả các thử nghiệm.\n"
          ]
        },
        {
          "name": "stderr",
          "output_type": "stream",
          "text": [
            "\n"
          ]
        }
      ],
      "source": [
        "# Dictionary để lưu kết quả cuối cùng\n",
        "final_results = {}\n",
        "chencherry = SmoothingFunction()\n",
        "\n",
        "# Dictionary để chứa dữ liệu mẫu cho mỗi tác vụ\n",
        "tasks_data = {\n",
        "    \"English -> Persian\": en_to_fa_sample,\n",
        "    \"Persian -> English\": fa_to_en_sample\n",
        "}\n",
        "\n",
        "# Bắt đầu vòng lặp lớn\n",
        "for task_name, prompts in PROMPTS_TO_TEST.items():\n",
        "    print(f\"\\n==================== BẮT ĐẦU TÁC VỤ: {task_name} ====================\")\n",
        "    final_results[task_name] = {}\n",
        "    \n",
        "    current_data = tasks_data[task_name]\n",
        "    if not current_data:\n",
        "        print(f\"Bỏ qua tác vụ {task_name} vì không có dữ liệu mẫu.\")\n",
        "        continue\n",
        "\n",
        "    # Xác định ngôn ngữ nguồn và đích dựa trên tên tác vụ\n",
        "    source_key, target_key, source_lang_name, target_lang_name = \\\n",
        "        ('En_sentence', 'Per_sentence', 'English', 'Persian') if task_name == \"English -> Persian\" else \\\n",
        "        ('Per_sentence', 'En_sentence', 'Persian', 'English')\n",
        "    \n",
        "    reference_translations = [sample[target_key] for sample in current_data]\n",
        "\n",
        "    for model_name in MODELS_TO_COMPARE:\n",
        "        final_results[task_name][model_name] = {}\n",
        "        print(f\"---------- Bắt đầu Model: {model_name} ----------\")\n",
        "\n",
        "        for prompt_name, prompt_template in prompts.items():\n",
        "            print(f\"--- 🚀 Đang chạy kịch bản: {prompt_name} ---\")\n",
        "            \n",
        "            model_translations = []\n",
        "            \n",
        "            for sample in tqdm(current_data, desc=f\"Querying {prompt_name}\"):\n",
        "                # Điền đầy đủ các thông tin vào prompt\n",
        "                prompt = prompt_template.format(\n",
        "                    source_language=source_lang_name,\n",
        "                    target_language=target_lang_name,\n",
        "                    input=sample[source_key]\n",
        "                )\n",
        "                answer = get_translation_from_model(prompt, model_name)\n",
        "                model_translations.append(answer)\n",
        "                time.sleep(1)\n",
        "\n",
        "            # Tính điểm BLEU\n",
        "            total_bleu = 0\n",
        "            for ref, trans in zip(reference_translations, model_translations):\n",
        "                # Tách từ cho câu tham chiếu và câu dịch (logic từ code gốc)\n",
        "                ref_tokens = [ref.split()]\n",
        "                trans_tokens = trans.split()\n",
        "                total_bleu += sentence_bleu(ref_tokens, trans_tokens, smoothing_function=chencherry.method1)\n",
        "            \n",
        "            avg_bleu = (total_bleu / len(current_data)) * 100\n",
        "            final_results[task_name][model_name][prompt_name] = avg_bleu\n",
        "            print(f\"--- 🎉 Hoàn thành. Điểm BLEU: {avg_bleu:.2f} ---\\n\")\n",
        "\n",
        "print(\"✨ Đã hoàn thành tất cả các thử nghiệm.\")"
      ]
    },
    {
      "cell_type": "code",
      "execution_count": 5,
      "metadata": {
        "ExecuteTime": {
          "end_time": "2024-03-09T20:08:45.742117Z",
          "start_time": "2024-03-09T20:08:45.732644Z"
        },
        "colab": {
          "base_uri": "https://localhost:8080/"
        },
        "id": "fed76f5deade2ed3",
        "outputId": "c125d3ad-b9d6-4fbc-c964-710692f34dcc"
      },
      "outputs": [
        {
          "name": "stdout",
          "output_type": "stream",
          "text": [
            "\n",
            "  شرح وظیفه:\n",
            "  در ادامه‌، وظیفه‌ (تکلیفی) برای شما درنظر گرفته شده است، که مربوط به ترجمه ماشینی است.\n",
            "  به این منظور جمله‌ای به زبان English به شما نشان داده می‌شود  \n",
            "  در نتیجه، شما باید آن جمله را به شکل مناسب و دقیق به زبان Persian ترجمه کنید.\n",
            "\n",
            "  مثال‌هایی از ترجمه‌ی جملات نمونه از زبان English به Persian:\n",
            "  'I love programming.'\n",
            "  ->'من برنامه‌نویسی را دوست دارم.'\n",
            "  'Cooking a delicious meal requires a combination of ingredients and techniques.'\n",
            "  -> 'پخت یک وعده غذای خوشمزه نیازمند ترکیبی از مواد اولیه و تکنیک‌هاست.'\n",
            "  'In the realm of artificial intelligence, neural networks play a pivotal role.'\n",
            "  -> 'در دنیای هوش مصنوعی، شبکه‌های عصبی نقشی کلیدی ایفا می‌کنند.'\n",
            "\n",
            "  ورودی:\n",
            "  all the papers were ready for Richard down at Aldmixton whenever the time came; the Labour Government she meant.\n",
            "  \n"
          ]
        }
      ],
      "source": [
        "print(prompt)"
      ]
    },
    {
      "cell_type": "code",
      "execution_count": 6,
      "metadata": {},
      "outputs": [
        {
          "name": "stdout",
          "output_type": "stream",
          "text": [
            "\n",
            "\n",
            "📊=============== BẢNG SO SÁNH HIỆU NĂNG DỊCH MÁY (ĐIỂM BLEU) ===============📊\n",
            "|                                                      |   gpt-3.5-turbo |   gpt-4o-mini |\n",
            "|:-----------------------------------------------------|----------------:|--------------:|\n",
            "| ('English -> Persian', 'English Prompt (1-shot)')    |            6.95 |          8.78 |\n",
            "| ('English -> Persian', 'English Prompt (3-shot)')    |            6.72 |          8.43 |\n",
            "| ('English -> Persian', 'English Prompt (Zero-shot)') |            7.17 |          8.79 |\n",
            "| ('English -> Persian', 'Persian Prompt (1-shot)')    |            5.03 |          8.47 |\n",
            "| ('English -> Persian', 'Persian Prompt (3-shot)')    |            6.7  |          8.82 |\n",
            "| ('English -> Persian', 'Persian Prompt (Zero-shot)') |            4.94 |          8.54 |\n"
          ]
        }
      ],
      "source": [
        "print(\"\\n\\n📊=============== BẢNG SO SÁNH HIỆU NĂNG DỊCH MÁY (ĐIỂM BLEU) ===============📊\")\n",
        "\n",
        "# Chuẩn bị dữ liệu để tạo DataFrame\n",
        "table_data = []\n",
        "for task_name, model_results in final_results.items():\n",
        "    for model_name, prompt_results in model_results.items():\n",
        "        for prompt_name, bleu_score in prompt_results.items():\n",
        "            table_data.append({\n",
        "                \"Tác vụ Dịch (Task)\": task_name,\n",
        "                \"Model\": model_name,\n",
        "                \"Kịch bản Prompt\": prompt_name,\n",
        "                \"Điểm BLEU\": f\"{bleu_score:.2f}\"\n",
        "            })\n",
        "\n",
        "# Tạo DataFrame từ pandas\n",
        "summary_df = pd.DataFrame(table_data)\n",
        "\n",
        "# Dùng pivot_table để có định dạng bảng đẹp hơn\n",
        "pivot_df = summary_df.pivot_table(index=[\"Tác vụ Dịch (Task)\", \"Kịch bản Prompt\"], \n",
        "                                  columns=\"Model\", \n",
        "                                  values=\"Điểm BLEU\",\n",
        "                                  aggfunc='first')\n",
        "\n",
        "# In ra bảng dưới dạng Markdown\n",
        "print(pivot_df.to_markdown())"
      ]
    },
    {
      "cell_type": "code",
      "execution_count": 11,
      "metadata": {},
      "outputs": [
        {
          "data": {
            "image/png": "[encoded data removed]",
            "text/plain": [
              "<Figure size 862.25x600 with 1 Axes>"
            ]
          },
          "metadata": {},
          "output_type": "display_data"
        }
      ],
      "source": [
        "import matplotlib.pyplot as plt\n",
        "import seaborn as sns\n",
        "import pandas as pd\n",
        "\n",
        "# Dữ liệu hiệu suất BLEU \n",
        "mt_data = {\n",
        "    'Model': [\n",
        "        'gpt-3.5-turbo', 'gpt-3.5-turbo', 'gpt-3.5-turbo', 'gpt-3.5-turbo', 'gpt-3.5-turbo', 'gpt-3.5-turbo',\n",
        "        'gpt-4o-mini', 'gpt-4o-mini', 'gpt-4o-mini', 'gpt-4o-mini', 'gpt-4o-mini', 'gpt-4o-mini'\n",
        "    ],\n",
        "    'Task': [\n",
        "        'English -> Persian', 'English -> Persian', 'English -> Persian',\n",
        "        'English -> Persian', 'English -> Persian', 'English -> Persian',\n",
        "        'English -> Persian', 'English -> Persian', 'English -> Persian',\n",
        "        'English -> Persian', 'English -> Persian', 'English -> Persian'\n",
        "    ],\n",
        "    'Prompt': [\n",
        "        'English Prompt (1-shot)', 'English Prompt (3-shot)', 'English Prompt (Zero-shot)',\n",
        "        'Persian Prompt (1-shot)', 'Persian Prompt (3-shot)', 'Persian Prompt (Zero-shot)',\n",
        "        'English Prompt (1-shot)', 'English Prompt (3-shot)', 'English Prompt (Zero-shot)',\n",
        "        'Persian Prompt (1-shot)', 'Persian Prompt (3-shot)', 'Persian Prompt (Zero-shot)'\n",
        "    ],\n",
        "    'BLEU_Score': [\n",
        "        # gpt-3.5-turbo scores\n",
        "        6.95, 6.72, 7.17, 5.03, 6.70, 4.94,\n",
        "        # gpt-4o-mini scores\n",
        "        8.78, 8.43, 8.79, 8.47, 8.82, 8.54\n",
        "    ]\n",
        "}\n",
        "\n",
        "df_mt = pd.DataFrame(mt_data)\n",
        "\n",
        "# --- Vẽ biểu đồ so sánh ---\n",
        "g = sns.catplot(\n",
        "    data=df_mt, \n",
        "    x='Prompt', \n",
        "    y='BLEU_Score', \n",
        "    hue='Model', \n",
        "    col='Task',        # 'col' sẽ tạo ra các cột riêng cho mỗi Task\n",
        "    kind='bar',        # Chỉ định loại biểu đồ là 'bar'\n",
        "    palette='coolwarm',\n",
        "    height=6,          # Chiều cao của mỗi biểu đồ con\n",
        "    aspect=1.2         # Tỷ lệ chiều rộng/chiều cao\n",
        ")\n",
        "\n",
        "# Tùy chỉnh biểu đồ (bằng tiếng Anh)\n",
        "g.fig.suptitle('Biểu đồ so sánh hiệu suất dịnh máy (Machine Translation)', fontsize=20, y=1.03)\n",
        "g.set_axis_labels(\"Prompt Scenario\", \"BLEU Score\")\n",
        "g.set_titles(\"Task: {col_name}\")\n",
        "g.set_xticklabels(rotation=45, ha='right')\n",
        "g.despine(left=True)\n",
        "\n",
        "plt.show()"
      ]
    },
    {
      "cell_type": "code",
      "execution_count": 1,
      "metadata": {},
      "outputs": [
        {
          "data": {
            "image/png": "[encoded data removed]",
            "text/plain": [
              "<Figure size 800x500 with 1 Axes>"
            ]
          },
          "metadata": {},
          "output_type": "display_data"
        }
      ],
      "source": [
        "import matplotlib.pyplot as plt\n",
        "\n",
        "# BLEU Scores từ bảng\n",
        "gpt_35_turbo_scores = [6.95, 6.72, 7.17, 5.03, 6.7, 4.94]\n",
        "gpt_4o_mini_scores = [8.78, 8.43, 8.79, 8.47, 8.82, 8.54]\n",
        "\n",
        "# Tính BLEU trung bình\n",
        "average_gpt_35_turbo = sum(gpt_35_turbo_scores) / len(gpt_35_turbo_scores)\n",
        "average_gpt_4o_mini = sum(gpt_4o_mini_scores) / len(gpt_4o_mini_scores)\n",
        "\n",
        "# Dữ liệu để vẽ biểu đồ\n",
        "models = ['gpt-3.5-turbo', 'gpt-4o-mini']\n",
        "bleu_scores = [average_gpt_35_turbo, average_gpt_4o_mini]\n",
        "\n",
        "# Vẽ biểu đồ\n",
        "plt.figure(figsize=(8, 5))\n",
        "bars = plt.bar(models, bleu_scores, color=['skyblue', 'lightgreen'])\n",
        "\n",
        "# Thêm nhãn số lên mỗi cột\n",
        "for bar in bars:\n",
        "    height = bar.get_height()\n",
        "    plt.text(bar.get_x() + bar.get_width()/2, height + 0.1,\n",
        "             f'{height:.2f}', ha='center', va='bottom', fontsize=12)\n",
        "\n",
        "# Tùy chỉnh biểu đồ\n",
        "plt.title('So sánh BLEU trung bình giữa hai mô hình dịch máy', fontsize=14)\n",
        "plt.ylabel('BLEU Score Trung Bình')\n",
        "plt.ylim(0, 10)\n",
        "plt.grid(axis='y', linestyle='--', alpha=0.7)\n",
        "\n",
        "plt.tight_layout()\n",
        "plt.show()\n"
      ]
    }
  ],
  "metadata": {
    "colab": {
      "provenance": []
    },
    "kernelspec": {
      "display_name": "Python 3",
      "name": "python3"
    },
    "language_info": {
      "codemirror_mode": {
        "name": "ipython",
        "version": 3
      },
      "file_extension": ".py",
      "mimetype": "text/x-python",
      "name": "python",
      "nbconvert_exporter": "python",
      "pygments_lexer": "ipython3",
      "version": "3.10.0"
    }
  },
  "nbformat": 4,
  "nbformat_minor": 0
}
