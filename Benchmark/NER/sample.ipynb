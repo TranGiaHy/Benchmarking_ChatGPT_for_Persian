{
  "cells": [
    {
      "cell_type": "markdown",
      "metadata": {
        "id": "0Hxd5Q7B-BAw"
      },
      "source": [
        "Given a sample"
      ]
    },
    {
      "cell_type": "code",
      "execution_count": 1,
      "metadata": {},
      "outputs": [],
      "source": [
        "import json\n",
        "import time\n",
        "import pandas as pd\n",
        "from openai import OpenAI\n",
        "from tqdm import tqdm\n",
        "from sklearn.metrics import classification_report, f1_score\n",
        "import ast\n",
        "\n",
        "# Import TẤT CẢ các mẫu prompt từ file prompt.py\n",
        "from prompt import *"
      ]
    },
    {
      "cell_type": "code",
      "execution_count": null,
      "metadata": {},
      "outputs": [
        {
          "name": "stdout",
          "output_type": "stream",
          "text": [
            " Đã tải thành công 202 câu.\n",
            "   -> Sẽ chỉ sử dụng 10 câu đầu tiên để kiểm tra.\n"
          ]
        }
      ],
      "source": [
        "# !!! QUAN TRỌNG: Hãy điền API Key của bạn vào đây\n",
        "api_key = \"...\"  # Thay thế bằng API Key của bạn\n",
        "\n",
        "# 1. Khởi tạo Client với API Key\n",
        "client = OpenAI(api_key=api_key)\n",
        "\n",
        "# 2. Định nghĩa các model và các kịch bản prompt\n",
        "MODELS_TO_COMPARE = [\"gpt-3.5-turbo\", \"gpt-4o-mini\"]\n",
        "PROMPTS_TO_TEST = {\n",
        "    \"English Prompt (1-shot)\": ENGLISH_ONE,\n",
        "    \"Persian Prompt (1-shot)\": PERSIAN_ONE,\n",
        "    \"English Prompt (3-shot)\": ENGLISH_THREE,\n",
        "    \"Persian Prompt (3-shot)\": PERSIAN_THREE,\n",
        "    \"English Prompt (Zero-shot)\": ENGLISH_ZERO,\n",
        "    \"Persian Prompt (Zero-shot)\": PERSIAN_ZERO\n",
        "}\n",
        "\n",
        "# 3. Tải toàn bộ dữ liệu từ file ner.jsonl\n",
        "try:\n",
        "    full_data = []\n",
        "    with open('ner.jsonl', 'r', encoding='utf-8') as reader:\n",
        "        for line in reader:\n",
        "            full_data.append(json.loads(line))\n",
        "    \n",
        "    # === Lấy 10 mẫu để kiểm tra ===\n",
        "    SAMPLE_SIZE = 10 \n",
        "    all_data = full_data[:SAMPLE_SIZE] \n",
        "    \n",
        "    print(f\" Đã tải thành công {len(full_data)} câu.\")\n",
        "    print(f\"   -> Sẽ chỉ sử dụng {len(all_data)} câu đầu tiên để kiểm tra.\")\n",
        "\n",
        "except FileNotFoundError:\n",
        "    print(\" Lỗi: Không tìm thấy file 'ner.jsonl'.\")"
      ]
    },
    {
      "cell_type": "code",
      "execution_count": 5,
      "metadata": {},
      "outputs": [],
      "source": [
        "def get_answer_from_model(prompt, model_name):\n",
        "    \"\"\"\n",
        "    Hàm này nhận một prompt và tên model, sau đó trả về câu trả lời.\n",
        "    \"\"\"\n",
        "    try:\n",
        "        response = client.chat.completions.create(\n",
        "          model=model_name,\n",
        "          messages=[\n",
        "                {\"role\": \"system\", \"content\": \"You are an expert in Named Entity Recognition for the Persian language.\"},\n",
        "                {\"role\": \"user\", \"content\": prompt}\n",
        "            ],\n",
        "          temperature=0,\n",
        "          max_tokens=1024\n",
        "        )\n",
        "        return response.choices[0].message.content.strip()\n",
        "    except Exception as e:\n",
        "        print(f\"\\nLỗi khi gọi model {model_name}: {e}\")\n",
        "        return \"ERROR\"\n",
        "\n",
        "tags = [\"O\", 'PER', 'person', 'LOC', 'location', 'ORG', 'organization', 'Product', 'Event', 'Facility', \"I-event\", \"I-fac\", \"I-loc\", \"I-org\", \"I-pers\", \"I-pro\", \"B-event\", \"B-fac\", \"B-loc\", \"B-org\", \"B-pers\", \"B-pro\"]\n",
        "tags_2_i = {v:i for i,v in enumerate(tags)}\n",
        "i_2_tags = {i:v for i,v in enumerate(tags)}\n",
        "ls_tags = ['PER', 'person', 'LOC', 'location', 'ORG', 'organization', 'Product', 'Event', 'Facility']"
      ]
    },
    {
      "cell_type": "code",
      "execution_count": 6,
      "metadata": {},
      "outputs": [],
      "source": [
        "def safe_eval_list(s):\n",
        "    try:\n",
        "        return ast.literal_eval(s)\n",
        "    except:\n",
        "        return []\n",
        "\n",
        "# Hàm convert_2_list đã được cải tiến để ổn định hơn\n",
        "def convert_2_list(input_str):\n",
        "    try:\n",
        "        # Tìm vị trí bắt đầu và kết thúc của list\n",
        "        start = input_str.find('[')\n",
        "        end = input_str.rfind(']')\n",
        "        if start == -1 or end == -1:\n",
        "            return []\n",
        "        \n",
        "        # Dùng ast.literal_eval để chuyển đổi an toàn\n",
        "        return ast.literal_eval(input_str[start:end+1])\n",
        "    except (ValueError, SyntaxError, TypeError):\n",
        "        return []\n",
        "\n",
        "def findstem(arr):\n",
        "    if not arr or len(arr) < 2 or not arr[0] or not arr[1]:\n",
        "        return \"\"\n",
        "    n = len(arr)\n",
        "    s = arr[0]\n",
        "    l = len(s)\n",
        "    res = \"\"\n",
        "    for i in range(l):\n",
        "        for j in range(i + 1, l + 1):\n",
        "            stem = s[i:j]\n",
        "            k = 1\n",
        "            for k in range(1, n):\n",
        "                if stem not in arr[k]:\n",
        "                    break\n",
        "            if (k + 1 == n and len(res) < len(stem)):\n",
        "                res = stem\n",
        "    return res"
      ]
    },
    {
      "cell_type": "code",
      "execution_count": 7,
      "metadata": {},
      "outputs": [],
      "source": [
        "def comparable_gold_pred2(res, ls, ts):\n",
        "    i2l = [i_2_tags[i] for i in ls]\n",
        "    \n",
        "    # Đảm bảo res có cùng độ dài với ts\n",
        "    if len(res) < len(ts):\n",
        "        res.extend([(\"\", \"O\")] * (len(ts) - len(res)))\n",
        "    res = res[:len(ts)]\n",
        "\n",
        "    for i, v in enumerate(ts):\n",
        "        if findstem([res[i][0].replace(\"\\u200c\",\" \").lower(), ts[i].replace(\"\\u200c\",\" \").lower()]) == ts[i].replace(\"\\u200c\",\" \").lower():\n",
        "            if res[i][1].lower() in i2l[i].lower():\n",
        "                tempi = list(res[i])\n",
        "                tempi[1] = i2l[i]\n",
        "                res[i] = tuple(tempi)\n",
        "        else:\n",
        "            tempi = list(res[i])\n",
        "            tempi[1] = 'O'\n",
        "            res[i] = tuple(tempi)\n",
        "            continue\n",
        "            \n",
        "    for i, v in enumerate(res):\n",
        "        if v[1] != i2l[i] and not v[1] in tags:\n",
        "            for k,j in enumerate(tags):\n",
        "                if v[1].lower() in j.lower():\n",
        "                    temp = list(res[i])\n",
        "                    temp[1] = tags[k]\n",
        "                    res[i] = tuple(temp)\n",
        "                    \n",
        "    return [i[1] for i in res], i2l"
      ]
    },
    {
      "cell_type": "code",
      "execution_count": 8,
      "metadata": {},
      "outputs": [
        {
          "name": "stdout",
          "output_type": "stream",
          "text": [
            "============== BẮT ĐẦU MODEL: gpt-3.5-turbo ==============\n",
            "--- Đang chạy kịch bản: English Prompt (1-shot) ---\n"
          ]
        },
        {
          "name": "stderr",
          "output_type": "stream",
          "text": [
            "Querying English Prompt (1-shot): 100%|██████████| 10/10 [01:01<00:00,  6.14s/it]\n"
          ]
        },
        {
          "name": "stdout",
          "output_type": "stream",
          "text": [
            "--- Hoàn thành thu thập dữ liệu cho kịch bản: English Prompt (1-shot) ---\n",
            "\n",
            "--- Đang chạy kịch bản: Persian Prompt (1-shot) ---\n"
          ]
        },
        {
          "name": "stderr",
          "output_type": "stream",
          "text": [
            "Querying Persian Prompt (1-shot): 100%|██████████| 10/10 [01:11<00:00,  7.18s/it]\n"
          ]
        },
        {
          "name": "stdout",
          "output_type": "stream",
          "text": [
            "--- Hoàn thành thu thập dữ liệu cho kịch bản: Persian Prompt (1-shot) ---\n",
            "\n",
            "--- Đang chạy kịch bản: English Prompt (3-shot) ---\n"
          ]
        },
        {
          "name": "stderr",
          "output_type": "stream",
          "text": [
            "Querying English Prompt (3-shot): 100%|██████████| 10/10 [00:51<00:00,  5.12s/it]\n"
          ]
        },
        {
          "name": "stdout",
          "output_type": "stream",
          "text": [
            "--- Hoàn thành thu thập dữ liệu cho kịch bản: English Prompt (3-shot) ---\n",
            "\n",
            "--- Đang chạy kịch bản: Persian Prompt (3-shot) ---\n"
          ]
        },
        {
          "name": "stderr",
          "output_type": "stream",
          "text": [
            "Querying Persian Prompt (3-shot): 100%|██████████| 10/10 [01:00<00:00,  6.02s/it]\n"
          ]
        },
        {
          "name": "stdout",
          "output_type": "stream",
          "text": [
            "--- Hoàn thành thu thập dữ liệu cho kịch bản: Persian Prompt (3-shot) ---\n",
            "\n",
            "--- Đang chạy kịch bản: English Prompt (Zero-shot) ---\n"
          ]
        },
        {
          "name": "stderr",
          "output_type": "stream",
          "text": [
            "Querying English Prompt (Zero-shot): 100%|██████████| 10/10 [00:52<00:00,  5.25s/it]\n"
          ]
        },
        {
          "name": "stdout",
          "output_type": "stream",
          "text": [
            "--- Hoàn thành thu thập dữ liệu cho kịch bản: English Prompt (Zero-shot) ---\n",
            "\n",
            "--- Đang chạy kịch bản: Persian Prompt (Zero-shot) ---\n"
          ]
        },
        {
          "name": "stderr",
          "output_type": "stream",
          "text": [
            "Querying Persian Prompt (Zero-shot): 100%|██████████| 10/10 [01:04<00:00,  6.48s/it]\n"
          ]
        },
        {
          "name": "stdout",
          "output_type": "stream",
          "text": [
            "--- Hoàn thành thu thập dữ liệu cho kịch bản: Persian Prompt (Zero-shot) ---\n",
            "\n",
            "============== BẮT ĐẦU MODEL: gpt-4o-mini ==============\n",
            "--- Đang chạy kịch bản: English Prompt (1-shot) ---\n"
          ]
        },
        {
          "name": "stderr",
          "output_type": "stream",
          "text": [
            "Querying English Prompt (1-shot): 100%|██████████| 10/10 [01:30<00:00,  9.06s/it]\n"
          ]
        },
        {
          "name": "stdout",
          "output_type": "stream",
          "text": [
            "--- Hoàn thành thu thập dữ liệu cho kịch bản: English Prompt (1-shot) ---\n",
            "\n",
            "--- Đang chạy kịch bản: Persian Prompt (1-shot) ---\n"
          ]
        },
        {
          "name": "stderr",
          "output_type": "stream",
          "text": [
            "Querying Persian Prompt (1-shot): 100%|██████████| 10/10 [01:32<00:00,  9.29s/it]\n"
          ]
        },
        {
          "name": "stdout",
          "output_type": "stream",
          "text": [
            "--- Hoàn thành thu thập dữ liệu cho kịch bản: Persian Prompt (1-shot) ---\n",
            "\n",
            "--- Đang chạy kịch bản: English Prompt (3-shot) ---\n"
          ]
        },
        {
          "name": "stderr",
          "output_type": "stream",
          "text": [
            "Querying English Prompt (3-shot): 100%|██████████| 10/10 [01:20<00:00,  8.05s/it]\n"
          ]
        },
        {
          "name": "stdout",
          "output_type": "stream",
          "text": [
            "--- Hoàn thành thu thập dữ liệu cho kịch bản: English Prompt (3-shot) ---\n",
            "\n",
            "--- Đang chạy kịch bản: Persian Prompt (3-shot) ---\n"
          ]
        },
        {
          "name": "stderr",
          "output_type": "stream",
          "text": [
            "Querying Persian Prompt (3-shot): 100%|██████████| 10/10 [01:28<00:00,  8.86s/it]\n"
          ]
        },
        {
          "name": "stdout",
          "output_type": "stream",
          "text": [
            "--- Hoàn thành thu thập dữ liệu cho kịch bản: Persian Prompt (3-shot) ---\n",
            "\n",
            "--- Đang chạy kịch bản: English Prompt (Zero-shot) ---\n"
          ]
        },
        {
          "name": "stderr",
          "output_type": "stream",
          "text": [
            "Querying English Prompt (Zero-shot): 100%|██████████| 10/10 [01:40<00:00, 10.02s/it]\n"
          ]
        },
        {
          "name": "stdout",
          "output_type": "stream",
          "text": [
            "--- Hoàn thành thu thập dữ liệu cho kịch bản: English Prompt (Zero-shot) ---\n",
            "\n",
            "--- Đang chạy kịch bản: Persian Prompt (Zero-shot) ---\n"
          ]
        },
        {
          "name": "stderr",
          "output_type": "stream",
          "text": [
            "Querying Persian Prompt (Zero-shot): 100%|██████████| 10/10 [01:35<00:00,  9.55s/it]"
          ]
        },
        {
          "name": "stdout",
          "output_type": "stream",
          "text": [
            "--- Hoàn thành thu thập dữ liệu cho kịch bản: Persian Prompt (Zero-shot) ---\n",
            "\n",
            " Đã hoàn thành tất cả các thử nghiệm.\n"
          ]
        },
        {
          "name": "stderr",
          "output_type": "stream",
          "text": [
            "\n"
          ]
        }
      ],
      "source": [
        "# Dictionary để lưu kết quả cuối cùng\n",
        "final_results = {}\n",
        "\n",
        "# Bắt đầu vòng lặp lớn\n",
        "for model_name in MODELS_TO_COMPARE:\n",
        "    print(f\"============== BẮT ĐẦU MODEL: {model_name} ==============\")\n",
        "    final_results[model_name] = {}\n",
        "    \n",
        "    # Vòng lặp bên trong: chạy qua từng loại prompt\n",
        "    for prompt_name, prompt_template in PROMPTS_TO_TEST.items():\n",
        "        print(f\"--- Đang chạy kịch bản: {prompt_name} ---\")\n",
        "        \n",
        "        model_predictions_raw = []\n",
        "        \n",
        "        # Chạy qua toàn bộ dữ liệu mẫu\n",
        "        for sample in tqdm(all_data, desc=f\"Querying {prompt_name}\"):\n",
        "            prompt = prompt_template.format(input=sample['input'])\n",
        "            answer = get_answer_from_model(prompt, model_name)\n",
        "            model_predictions_raw.append(answer)\n",
        "            time.sleep(1)\n",
        "\n",
        "        # Lưu lại danh sách các câu trả lời thô của model\n",
        "        final_results[model_name][prompt_name] = model_predictions_raw\n",
        "        print(f\"--- Hoàn thành thu thập dữ liệu cho kịch bản: {prompt_name} ---\\n\")\n",
        "\n",
        "print(\" Đã hoàn thành tất cả các thử nghiệm.\")"
      ]
    },
    {
      "cell_type": "code",
      "execution_count": 10,
      "metadata": {},
      "outputs": [
        {
          "name": "stdout",
          "output_type": "stream",
          "text": [
            "\n",
            "\n",
            "  شرح وظیفه:\n",
            "  شما باید یک لیست توکن فارسی داده شده را با برچسب های موجودیت اسمی برچسب گذاری کنید.\n",
            "  برچسب های موجودیت اسمی:\n",
            "\n",
            "  PER (نفر)\n",
            "  LOC (مکان)\n",
            "  ORG (سازمان)\n",
            "  Product (محصول)\n",
            "  Event (رویداد)\n",
            "  Facility (تاسیسات)\n",
            "\n",
            "  فرمت خروجی:\n",
            "  فرمت خروجی شما باید لیستی از تاپل ها باشد، که در آن هر تاپل از یک کلمه از متن ورودی و برچسب موجودیت اسمی مربوط به آن تشکیل شده باشد.\n",
            "  برای کلماتی که بخشی از هیچ موجودیت اسمی نیستند، باید \"O\" را برگردانید.\n",
            "\n",
            "  ورودی:\n",
            "  \n",
            "  ['با', 'راه\\u200cاندازی', 'این', 'ایستگاه\\u200cها', 'نیز', 'ظرفیت', 'انتقال', 'گاز', 'از', 'طریق', 'این', 'لوله', 'فشارقوی', 'گاز', 'به', 'دو', 'برابر', 'میزان', 'کنونی', 'افزایش', 'یافته', 'و', 'حدأقل', 'روزانه', 'به', 'بیست', 'میلیون', 'مترمکعب', 'خواهد', 'رسید', '.']\n",
            "  \n",
            "\n",
            "  \n"
          ]
        }
      ],
      "source": [
        "print(prompt)"
      ]
    },
    {
      "cell_type": "code",
      "execution_count": 9,
      "metadata": {},
      "outputs": [
        {
          "name": "stdout",
          "output_type": "stream",
          "text": [
            "\n",
            "\n",
            "📊=============== BẢNG SO SÁNH HIỆU NĂNG NER ===============📊\n",
            "\n",
            "\n",
            "============== Báo cáo chi tiết cho Model: gpt-3.5-turbo ==============\n",
            "\n",
            "--- Kịch bản: English Prompt (1-shot) ---\n",
            " F1-score (Weighted): 94.10%\n",
            "\n",
            "--- Kịch bản: Persian Prompt (1-shot) ---\n",
            " F1-score (Weighted): 93.86%\n",
            "\n",
            "--- Kịch bản: English Prompt (3-shot) ---\n",
            " F1-score (Weighted): 94.26%\n",
            "\n",
            "--- Kịch bản: Persian Prompt (3-shot) ---\n",
            " F1-score (Weighted): 94.02%\n",
            "\n",
            "--- Kịch bản: English Prompt (Zero-shot) ---\n",
            " F1-score (Weighted): 92.65%\n",
            "\n",
            "--- Kịch bản: Persian Prompt (Zero-shot) ---\n",
            " F1-score (Weighted): 93.06%\n",
            "\n",
            "\n",
            "============== Báo cáo chi tiết cho Model: gpt-4o-mini ==============\n",
            "\n",
            "--- Kịch bản: English Prompt (1-shot) ---\n",
            " F1-score (Weighted): 94.03%\n",
            "\n",
            "--- Kịch bản: Persian Prompt (1-shot) ---\n",
            " F1-score (Weighted): 94.21%\n",
            "\n",
            "--- Kịch bản: English Prompt (3-shot) ---\n",
            " F1-score (Weighted): 94.68%\n",
            "\n",
            "--- Kịch bản: Persian Prompt (3-shot) ---\n",
            " F1-score (Weighted): 94.36%\n",
            "\n",
            "--- Kịch bản: English Prompt (Zero-shot) ---\n",
            " F1-score (Weighted): 93.85%\n",
            "\n",
            "--- Kịch bản: Persian Prompt (Zero-shot) ---\n",
            " F1-score (Weighted): 93.55%\n",
            "\n",
            "\n",
            "📊=============== BẢNG TÓM TẮT F1-SCORE ===============📊\n",
            "| Prompt / Kịch bản          | gpt-3.5-turbo   | gpt-4o-mini   |\n",
            "|:---------------------------|:----------------|:--------------|\n",
            "| English Prompt (1-shot)    | 94.10%          | 94.03%        |\n",
            "| Persian Prompt (1-shot)    | 93.86%          | 94.21%        |\n",
            "| English Prompt (3-shot)    | 94.26%          | 94.68%        |\n",
            "| Persian Prompt (3-shot)    | 94.02%          | 94.36%        |\n",
            "| English Prompt (Zero-shot) | 92.65%          | 93.85%        |\n",
            "| Persian Prompt (Zero-shot) | 93.06%          | 93.55%        |\n"
          ]
        },
        {
          "name": "stderr",
          "output_type": "stream",
          "text": [
            "C:\\Users\\GiaHyTran\\AppData\\Local\\Temp\\ipykernel_12416\\3620774274.py:43: FutureWarning: DataFrame.applymap has been deprecated. Use DataFrame.map instead.\n",
            "  summary_df = summary_df.applymap(lambda x: f\"{x:.2f}%\" if isinstance(x, (float, int)) else x)\n"
          ]
        }
      ],
      "source": [
        "print(\"\\n\\n📊=============== BẢNG SO SÁNH HIỆU NĂNG NER ===============📊\")\n",
        "\n",
        "# DataFrame để lưu trữ chỉ số F1-score\n",
        "f1_results = {}\n",
        "\n",
        "# Vòng lặp qua kết quả của từng model để tính toán\n",
        "for model_name, prompt_results in final_results.items():\n",
        "    f1_results[model_name] = {}\n",
        "    print(f\"\\n\\n============== Báo cáo chi tiết cho Model: {model_name} ==============\")\n",
        "    for prompt_name, raw_predictions in prompt_results.items():\n",
        "        \n",
        "        all_true_tags = []\n",
        "        all_pred_tags = []\n",
        "        \n",
        "        for i, pred_str in enumerate(raw_predictions):\n",
        "            # Lấy và xử lý đáp án đúng (gold standard)\n",
        "            gold_list = safe_eval_list(all_data[i]['output'])\n",
        "            gold_words = [item[0] for item in gold_list]\n",
        "            gold_tags_str = [(tags_2_i[item[1]] if item[1] in ls_tags else tags_2_i['O']) for item in gold_list]\n",
        "\n",
        "            # Lấy và xử lý dự đoán của model\n",
        "            pred_list = convert_2_list(pred_str)\n",
        "            \n",
        "            # Sử dụng hàm comparable_gold_pred2 từ code gốc để căn chỉnh và so sánh\n",
        "            pred_tags, gold_tags_aligned = comparable_gold_pred2(pred_list, gold_tags_str, gold_words)\n",
        "            \n",
        "            # Chuẩn hóa các nhãn trước khi thêm vào list tổng\n",
        "            final_gold = [(tag if tag in ls_tags else 'O') for tag in gold_tags_aligned]\n",
        "            final_pred = [(tag if tag in ls_tags else 'O') for tag in pred_tags][:len(final_gold)]\n",
        "\n",
        "            all_true_tags.extend(final_gold)\n",
        "            all_pred_tags.extend(final_pred)\n",
        "\n",
        "        # Tính toán F1-score (weighted)\n",
        "        f1 = f1_score(all_true_tags, all_pred_tags, average='weighted', zero_division=0) * 100\n",
        "        f1_results[model_name][prompt_name] = f1\n",
        "        \n",
        "        print(f\"\\n--- Kịch bản: {prompt_name} ---\")\n",
        "        print(f\" F1-score (Weighted): {f1:.2f}%\")\n",
        "\n",
        "# Tạo và in bảng so sánh cuối cùng\n",
        "summary_df = pd.DataFrame(f1_results)\n",
        "summary_df = summary_df.applymap(lambda x: f\"{x:.2f}%\" if isinstance(x, (float, int)) else x)\n",
        "summary_df.columns.name = \"Model\"\n",
        "summary_df.index.name = \"Prompt / Kịch bản\"\n",
        "\n",
        "print(\"\\n\\n📊=============== BẢNG TÓM TẮT F1-SCORE ===============📊\")\n",
        "print(summary_df.to_markdown())"
      ]
    },
    {
      "cell_type": "code",
      "execution_count": 1,
      "metadata": {},
      "outputs": [
        {
          "name": "stdout",
          "output_type": "stream",
          "text": [
            "\n",
            "\n",
            "📈=============== BIỂU ĐỒ SO SÁNH HIỆU SUẤT TRUNG BÌNH (NER) ===============📈\n"
          ]
        },
        {
          "data": {
            "image/png": "[encoded data removed]",
            "text/plain": [
              "<Figure size 800x600 with 1 Axes>"
            ]
          },
          "metadata": {},
          "output_type": "display_data"
        }
      ],
      "source": [
        "import pandas as pd\n",
        "import matplotlib.pyplot as plt\n",
        "import seaborn as sns\n",
        "\n",
        "ner_data = {\n",
        "    'Experiment': [\n",
        "        'English Prompt (Zero-shot)', 'Persian Prompt (Zero-shot)',\n",
        "        'English Prompt (1-shot)', 'Persian Prompt (1-shot)',\n",
        "        'English Prompt (3-shot)', 'Persian Prompt (3-shot)'\n",
        "    ] * 2,\n",
        "    'Model': [\n",
        "        'gpt-3.5-turbo'] * 6 + ['gpt-4o-mini'] * 6\n",
        "    ,\n",
        "    'F1-Score': [\n",
        "        # gpt-3.5-turbo scores (đã sắp xếp lại)\n",
        "        92.65, 93.06, 94.10, 93.86, 94.26, 94.02,\n",
        "        # gpt-4o-mini scores (lấy từ bảng của bạn, giả sử)\n",
        "        93.85, 93.55, 94.50, 94.20, 94.68, 94.36\n",
        "    ]\n",
        "}\n",
        "\n",
        "df_ner = pd.DataFrame(ner_data)\n",
        "\n",
        "print(\"\\n\\n📈=============== BIỂU ĐỒ SO SÁNH HIỆU SUẤT TRUNG BÌNH (NER) ===============📈\")\n",
        "\n",
        "# Nhóm theo model và tính điểm F1-score trung bình\n",
        "df_summary = df_ner.groupby('Model')['F1-Score'].mean().reset_index()\n",
        "\n",
        "# Vẽ biểu đồ\n",
        "plt.figure(figsize=(8, 6))\n",
        "sns.barplot(x='Model', y='F1-Score', data=df_summary, hue='Model', palette='plasma', legend=False)\n",
        "\n",
        "# Tùy chỉnh biểu đồ\n",
        "plt.title('Biểu đồ so sanh hiệu suất của tác vụ NER', fontsize=16)\n",
        "plt.ylabel('Average F1-Score (%)', fontsize=12)\n",
        "plt.xlabel('Model', fontsize=12)\n",
        "plt.ylim(0, 100)\n",
        "plt.grid(axis='y', linestyle='--', alpha=0.7)\n",
        "\n",
        "# Hiển thị giá trị trên mỗi cột\n",
        "for p in plt.gca().patches:\n",
        "    plt.gca().annotate(f\"{p.get_height():.2f}%\", (p.get_x() + p.get_width() / 2., p.get_height()),\n",
        "                       ha='center', va='center', fontsize=12, color='black', xytext=(0, 5),\n",
        "                       textcoords='offset points')\n",
        "\n",
        "plt.show()"
      ]
    },
    {
      "cell_type": "code",
      "execution_count": 2,
      "metadata": {},
      "outputs": [
        {
          "name": "stdout",
          "output_type": "stream",
          "text": [
            "\n",
            "\n",
            "📊=============== BẢNG TÓM TẮT HIỆU SUẤT CHI TIẾT (NER) ===============📊\n",
            "| Experiment                 |   gpt-3.5-turbo |   gpt-4o-mini |\n",
            "|:---------------------------|----------------:|--------------:|\n",
            "| English Prompt (Zero-shot) |           92.65 |         93.85 |\n",
            "| Persian Prompt (Zero-shot) |           93.06 |         93.55 |\n",
            "| English Prompt (1-shot)    |           94.10 |         94.50 |\n",
            "| Persian Prompt (1-shot)    |           93.86 |         94.20 |\n",
            "| English Prompt (3-shot)    |           94.26 |         94.68 |\n",
            "| Persian Prompt (3-shot)    |           94.02 |         94.36 |\n"
          ]
        },
        {
          "name": "stderr",
          "output_type": "stream",
          "text": [
            "C:\\Users\\GiaHyTran\\AppData\\Local\\Temp\\ipykernel_15744\\1455105042.py:14: FutureWarning: The default value of observed=False is deprecated and will change to observed=True in a future version of pandas. Specify observed=False to silence this warning and retain the current behavior\n",
            "  pivot_detailed = df_ner.pivot_table(index='Experiment', columns='Model', values='F1-Score')\n"
          ]
        }
      ],
      "source": [
        "# Hiển thị bảng tóm tắt chi tiết\n",
        "print(\"\\n\\n📊=============== BẢNG TÓM TẮT HIỆU SUẤT CHI TIẾT (NER) ===============📊\")\n",
        "# Tạo thứ tự mong muốn cho các hàng\n",
        "prompt_order = [\n",
        "    'English Prompt (Zero-shot)', 'Persian Prompt (Zero-shot)',\n",
        "    'English Prompt (1-shot)', 'Persian Prompt (1-shot)',\n",
        "    'English Prompt (3-shot)', 'Persian Prompt (3-shot)'\n",
        "]\n",
        "# Sắp xếp lại DataFrame theo thứ tự đã định\n",
        "df_ner['Experiment'] = pd.Categorical(df_ner['Experiment'], categories=prompt_order, ordered=True)\n",
        "df_ner = df_ner.sort_values('Experiment')\n",
        "\n",
        "# Tạo bảng pivot\n",
        "pivot_detailed = df_ner.pivot_table(index='Experiment', columns='Model', values='F1-Score')\n",
        "print(pivot_detailed.to_markdown(floatfmt=\".2f\"))"
      ]
    }
  ],
  "metadata": {
    "colab": {
      "provenance": []
    },
    "kernelspec": {
      "display_name": "Python 3",
      "name": "python3"
    },
    "language_info": {
      "codemirror_mode": {
        "name": "ipython",
        "version": 3
      },
      "file_extension": ".py",
      "mimetype": "text/x-python",
      "name": "python",
      "nbconvert_exporter": "python",
      "pygments_lexer": "ipython3",
      "version": "3.10.0"
    }
  },
  "nbformat": 4,
  "nbformat_minor": 0
}
