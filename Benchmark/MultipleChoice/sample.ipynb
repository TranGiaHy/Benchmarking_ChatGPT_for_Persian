{
  "cells": [
    {
      "cell_type": "code",
      "execution_count": null,
      "metadata": {},
      "outputs": [],
      "source": [
        "    import json\n",
        "    import time\n",
        "    import pandas as pd\n",
        "    from openai import OpenAI\n",
        "    from tqdm import tqdm\n",
        "    import numpy as np\n",
        "    import importlib.util # Thư viện để tải prompt động\n",
        "    import sys"
      ]
    },
    {
      "cell_type": "code",
      "execution_count": null,
      "metadata": {},
      "outputs": [
        {
          "name": "stdout",
          "output_type": "stream",
          "text": [
            " Đã tải 200 câu hỏi cho 'Knowledge'. Sử dụng 200 mẫu.\n",
            " Đã tải 200 câu hỏi cho 'Literature'. Sử dụng 200 mẫu.\n",
            " Đã tải 200 câu hỏi cho 'Math'. Sử dụng 200 mẫu.\n"
          ]
        }
      ],
      "source": [
        "# !!! QUAN TRỌNG: Hãy điền API Key của bạn vào đây\n",
        "api_key = \"...\"  # Thay thế bằng API Key của bạn\n",
        "\n",
        "# 1. Khởi tạo Client với API Key\n",
        "client = OpenAI(api_key=api_key)\n",
        "\n",
        "# 2. Định nghĩa các model\n",
        "MODELS_TO_COMPARE = [\"gpt-3.5-turbo\", \"gpt-4o-mini\"]\n",
        "\n",
        "# 3. Định nghĩa các tác vụ và file tương ứng\n",
        "TASKS = {\n",
        "    \"Knowledge\": {\n",
        "        \"data_file\": \"Knowledge/common_knowledge.jsonl\",\n",
        "        \"prompt_file\": \"Knowledge/prompt.py\"\n",
        "    },\n",
        "    \"Literature\": {\n",
        "        \"data_file\": \"Literature/literature.jsonl\",\n",
        "        \"prompt_file\": \"Literature/prompt.py\"\n",
        "    },\n",
        "    \"Math\": {\n",
        "        \"data_file\": \"Math/math_and_logic.jsonl\",\n",
        "        \"prompt_file\": \"Math/prompt.py\"\n",
        "    }\n",
        "}\n",
        "\n",
        "# 4. Tải dữ liệu và lấy mẫu\n",
        "SAMPLE_SIZE = 200\n",
        "tasks_data = {}\n",
        "\n",
        "for task_name, paths in TASKS.items():\n",
        "    try:\n",
        "        with open(paths['data_file'], 'r', encoding='utf-8') as f:\n",
        "            full_data = [json.loads(line) for line in f]\n",
        "            tasks_data[task_name] = full_data[:SAMPLE_SIZE]\n",
        "            print(f\" Đã tải {len(full_data)} câu hỏi cho '{task_name}'. Sử dụng {len(tasks_data[task_name])} mẫu.\")\n",
        "    except FileNotFoundError:\n",
        "        print(f\" Lỗi: Không tìm thấy file {paths['data_file']}.\")\n",
        "        tasks_data[task_name] = []"
      ]
    },
    {
      "cell_type": "code",
      "execution_count": 3,
      "metadata": {},
      "outputs": [],
      "source": [
        "def get_answer_from_model(prompt, model_name):\n",
        "    \"\"\"\n",
        "    Hàm này nhận một prompt và tên model, sau đó trả về câu trả lời.\n",
        "    \"\"\"\n",
        "    try:\n",
        "        response = client.chat.completions.create(\n",
        "          model=model_name,\n",
        "          messages=[\n",
        "                {\"role\": \"system\", \"content\": \"You are a helpful assistant. Please answer the multiple choice question by providing only the correct option.\"},\n",
        "                {\"role\": \"user\", \"content\": prompt}\n",
        "            ],\n",
        "          temperature=0,\n",
        "          max_tokens=50 # Tăng token phòng trường hợp câu trả lời dài\n",
        "        )\n",
        "        return response.choices[0].message.content.strip()\n",
        "    except Exception as e:\n",
        "        print(f\"\\nLỗi khi gọi model {model_name}: {e}\")\n",
        "        return \"ERROR\"\n",
        "\n",
        "def load_prompts_from_file(path):\n",
        "    \"\"\"\n",
        "    Hàm này tải động các biến prompt từ một file .py.\n",
        "    \"\"\"\n",
        "    spec = importlib.util.spec_from_file_location(\"prompt_module\", path)\n",
        "    prompt_module = importlib.util.module_from_spec(spec)\n",
        "    spec.loader.exec_module(prompt_module)\n",
        "    return {\n",
        "        \"English Prompt (Zero-shot)\": prompt_module.ENGLISH_ZERO,\n",
        "        \"English Prompt (Few-shot)\": prompt_module.ENGLISH_ONE,\n",
        "        \"Persian Prompt (Zero-shot)\": prompt_module.PERSIAN_ZERO,\n",
        "        \"Persian Prompt (Few-shot)\": prompt_module.PERSIAN_ONE,\n",
        "    }"
      ]
    },
    {
      "cell_type": "code",
      "execution_count": 4,
      "metadata": {},
      "outputs": [
        {
          "name": "stdout",
          "output_type": "stream",
          "text": [
            "\n",
            "\n",
            "==================== BẮT ĐẦU TÁC VỤ: Knowledge ====================\n",
            "---------- Bắt đầu Model: gpt-3.5-turbo ----------\n",
            "--- Đang chạy kịch bản: English Prompt (Zero-shot) ---\n"
          ]
        },
        {
          "name": "stderr",
          "output_type": "stream",
          "text": [
            "Querying English Prompt (Zero-shot):   0%|          | 0/200 [00:00<?, ?it/s]"
          ]
        },
        {
          "name": "stderr",
          "output_type": "stream",
          "text": [
            "Querying English Prompt (Zero-shot): 100%|██████████| 200/200 [05:46<00:00,  1.73s/it]\n"
          ]
        },
        {
          "name": "stdout",
          "output_type": "stream",
          "text": [
            "--- Hoàn thành thu thập dữ liệu cho kịch bản: English Prompt (Zero-shot) ---\n",
            "\n",
            "--- Đang chạy kịch bản: English Prompt (Few-shot) ---\n"
          ]
        },
        {
          "name": "stderr",
          "output_type": "stream",
          "text": [
            "Querying English Prompt (Few-shot): 100%|██████████| 200/200 [05:39<00:00,  1.70s/it]\n"
          ]
        },
        {
          "name": "stdout",
          "output_type": "stream",
          "text": [
            "--- Hoàn thành thu thập dữ liệu cho kịch bản: English Prompt (Few-shot) ---\n",
            "\n",
            "--- Đang chạy kịch bản: Persian Prompt (Zero-shot) ---\n"
          ]
        },
        {
          "name": "stderr",
          "output_type": "stream",
          "text": [
            "Querying Persian Prompt (Zero-shot): 100%|██████████| 200/200 [05:36<00:00,  1.68s/it]\n"
          ]
        },
        {
          "name": "stdout",
          "output_type": "stream",
          "text": [
            "--- Hoàn thành thu thập dữ liệu cho kịch bản: Persian Prompt (Zero-shot) ---\n",
            "\n",
            "--- Đang chạy kịch bản: Persian Prompt (Few-shot) ---\n"
          ]
        },
        {
          "name": "stderr",
          "output_type": "stream",
          "text": [
            "Querying Persian Prompt (Few-shot): 100%|██████████| 200/200 [05:48<00:00,  1.74s/it]\n"
          ]
        },
        {
          "name": "stdout",
          "output_type": "stream",
          "text": [
            "--- Hoàn thành thu thập dữ liệu cho kịch bản: Persian Prompt (Few-shot) ---\n",
            "\n",
            "---------- Bắt đầu Model: gpt-4o-mini ----------\n",
            "--- Đang chạy kịch bản: English Prompt (Zero-shot) ---\n"
          ]
        },
        {
          "name": "stderr",
          "output_type": "stream",
          "text": [
            "Querying English Prompt (Zero-shot): 100%|██████████| 200/200 [05:42<00:00,  1.71s/it]\n"
          ]
        },
        {
          "name": "stdout",
          "output_type": "stream",
          "text": [
            "--- Hoàn thành thu thập dữ liệu cho kịch bản: English Prompt (Zero-shot) ---\n",
            "\n",
            "--- Đang chạy kịch bản: English Prompt (Few-shot) ---\n"
          ]
        },
        {
          "name": "stderr",
          "output_type": "stream",
          "text": [
            "Querying English Prompt (Few-shot): 100%|██████████| 200/200 [05:43<00:00,  1.72s/it]\n"
          ]
        },
        {
          "name": "stdout",
          "output_type": "stream",
          "text": [
            "--- Hoàn thành thu thập dữ liệu cho kịch bản: English Prompt (Few-shot) ---\n",
            "\n",
            "--- Đang chạy kịch bản: Persian Prompt (Zero-shot) ---\n"
          ]
        },
        {
          "name": "stderr",
          "output_type": "stream",
          "text": [
            "Querying Persian Prompt (Zero-shot): 100%|██████████| 200/200 [06:08<00:00,  1.84s/it]\n"
          ]
        },
        {
          "name": "stdout",
          "output_type": "stream",
          "text": [
            "--- Hoàn thành thu thập dữ liệu cho kịch bản: Persian Prompt (Zero-shot) ---\n",
            "\n",
            "--- Đang chạy kịch bản: Persian Prompt (Few-shot) ---\n"
          ]
        },
        {
          "name": "stderr",
          "output_type": "stream",
          "text": [
            "Querying Persian Prompt (Few-shot): 100%|██████████| 200/200 [05:38<00:00,  1.69s/it]\n"
          ]
        },
        {
          "name": "stdout",
          "output_type": "stream",
          "text": [
            "--- Hoàn thành thu thập dữ liệu cho kịch bản: Persian Prompt (Few-shot) ---\n",
            "\n",
            "\n",
            "\n",
            "==================== BẮT ĐẦU TÁC VỤ: Literature ====================\n",
            "---------- Bắt đầu Model: gpt-3.5-turbo ----------\n",
            "--- Đang chạy kịch bản: English Prompt (Zero-shot) ---\n"
          ]
        },
        {
          "name": "stderr",
          "output_type": "stream",
          "text": [
            "Querying English Prompt (Zero-shot): 100%|██████████| 200/200 [05:47<00:00,  1.74s/it]\n"
          ]
        },
        {
          "name": "stdout",
          "output_type": "stream",
          "text": [
            "--- Hoàn thành thu thập dữ liệu cho kịch bản: English Prompt (Zero-shot) ---\n",
            "\n",
            "--- Đang chạy kịch bản: English Prompt (Few-shot) ---\n"
          ]
        },
        {
          "name": "stderr",
          "output_type": "stream",
          "text": [
            "Querying English Prompt (Few-shot): 100%|██████████| 200/200 [05:40<00:00,  1.70s/it]\n"
          ]
        },
        {
          "name": "stdout",
          "output_type": "stream",
          "text": [
            "--- Hoàn thành thu thập dữ liệu cho kịch bản: English Prompt (Few-shot) ---\n",
            "\n",
            "--- Đang chạy kịch bản: Persian Prompt (Zero-shot) ---\n"
          ]
        },
        {
          "name": "stderr",
          "output_type": "stream",
          "text": [
            "Querying Persian Prompt (Zero-shot): 100%|██████████| 200/200 [15:48<00:00,  4.74s/it]   \n"
          ]
        },
        {
          "name": "stdout",
          "output_type": "stream",
          "text": [
            "--- Hoàn thành thu thập dữ liệu cho kịch bản: Persian Prompt (Zero-shot) ---\n",
            "\n",
            "--- Đang chạy kịch bản: Persian Prompt (Few-shot) ---\n"
          ]
        },
        {
          "name": "stderr",
          "output_type": "stream",
          "text": [
            "Querying Persian Prompt (Few-shot): 100%|██████████| 200/200 [05:48<00:00,  1.74s/it]\n"
          ]
        },
        {
          "name": "stdout",
          "output_type": "stream",
          "text": [
            "--- Hoàn thành thu thập dữ liệu cho kịch bản: Persian Prompt (Few-shot) ---\n",
            "\n",
            "---------- Bắt đầu Model: gpt-4o-mini ----------\n",
            "--- Đang chạy kịch bản: English Prompt (Zero-shot) ---\n"
          ]
        },
        {
          "name": "stderr",
          "output_type": "stream",
          "text": [
            "Querying English Prompt (Zero-shot): 100%|██████████| 200/200 [06:03<00:00,  1.82s/it]\n"
          ]
        },
        {
          "name": "stdout",
          "output_type": "stream",
          "text": [
            "--- Hoàn thành thu thập dữ liệu cho kịch bản: English Prompt (Zero-shot) ---\n",
            "\n",
            "--- Đang chạy kịch bản: English Prompt (Few-shot) ---\n"
          ]
        },
        {
          "name": "stderr",
          "output_type": "stream",
          "text": [
            "Querying English Prompt (Few-shot): 100%|██████████| 200/200 [06:21<00:00,  1.91s/it]\n"
          ]
        },
        {
          "name": "stdout",
          "output_type": "stream",
          "text": [
            "--- Hoàn thành thu thập dữ liệu cho kịch bản: English Prompt (Few-shot) ---\n",
            "\n",
            "--- Đang chạy kịch bản: Persian Prompt (Zero-shot) ---\n"
          ]
        },
        {
          "name": "stderr",
          "output_type": "stream",
          "text": [
            "Querying Persian Prompt (Zero-shot): 100%|██████████| 200/200 [06:04<00:00,  1.82s/it]\n"
          ]
        },
        {
          "name": "stdout",
          "output_type": "stream",
          "text": [
            "--- Hoàn thành thu thập dữ liệu cho kịch bản: Persian Prompt (Zero-shot) ---\n",
            "\n",
            "--- Đang chạy kịch bản: Persian Prompt (Few-shot) ---\n"
          ]
        },
        {
          "name": "stderr",
          "output_type": "stream",
          "text": [
            "Querying Persian Prompt (Few-shot): 100%|██████████| 200/200 [05:57<00:00,  1.79s/it]\n"
          ]
        },
        {
          "name": "stdout",
          "output_type": "stream",
          "text": [
            "--- Hoàn thành thu thập dữ liệu cho kịch bản: Persian Prompt (Few-shot) ---\n",
            "\n",
            "\n",
            "\n",
            "==================== BẮT ĐẦU TÁC VỤ: Math ====================\n",
            "---------- Bắt đầu Model: gpt-3.5-turbo ----------\n",
            "--- Đang chạy kịch bản: English Prompt (Zero-shot) ---\n"
          ]
        },
        {
          "name": "stderr",
          "output_type": "stream",
          "text": [
            "Querying English Prompt (Zero-shot): 100%|██████████| 200/200 [05:39<00:00,  1.70s/it]\n"
          ]
        },
        {
          "name": "stdout",
          "output_type": "stream",
          "text": [
            "--- Hoàn thành thu thập dữ liệu cho kịch bản: English Prompt (Zero-shot) ---\n",
            "\n",
            "--- Đang chạy kịch bản: English Prompt (Few-shot) ---\n"
          ]
        },
        {
          "name": "stderr",
          "output_type": "stream",
          "text": [
            "Querying English Prompt (Few-shot): 100%|██████████| 200/200 [05:28<00:00,  1.64s/it]\n"
          ]
        },
        {
          "name": "stdout",
          "output_type": "stream",
          "text": [
            "--- Hoàn thành thu thập dữ liệu cho kịch bản: English Prompt (Few-shot) ---\n",
            "\n",
            "--- Đang chạy kịch bản: Persian Prompt (Zero-shot) ---\n"
          ]
        },
        {
          "name": "stderr",
          "output_type": "stream",
          "text": [
            "Querying Persian Prompt (Zero-shot): 100%|██████████| 200/200 [15:27<00:00,  4.64s/it] \n"
          ]
        },
        {
          "name": "stdout",
          "output_type": "stream",
          "text": [
            "--- Hoàn thành thu thập dữ liệu cho kịch bản: Persian Prompt (Zero-shot) ---\n",
            "\n",
            "--- Đang chạy kịch bản: Persian Prompt (Few-shot) ---\n"
          ]
        },
        {
          "name": "stderr",
          "output_type": "stream",
          "text": [
            "Querying Persian Prompt (Few-shot): 100%|██████████| 200/200 [05:21<00:00,  1.61s/it]\n"
          ]
        },
        {
          "name": "stdout",
          "output_type": "stream",
          "text": [
            "--- Hoàn thành thu thập dữ liệu cho kịch bản: Persian Prompt (Few-shot) ---\n",
            "\n",
            "---------- Bắt đầu Model: gpt-4o-mini ----------\n",
            "--- Đang chạy kịch bản: English Prompt (Zero-shot) ---\n"
          ]
        },
        {
          "name": "stderr",
          "output_type": "stream",
          "text": [
            "Querying English Prompt (Zero-shot): 100%|██████████| 200/200 [05:39<00:00,  1.70s/it]\n"
          ]
        },
        {
          "name": "stdout",
          "output_type": "stream",
          "text": [
            "--- Hoàn thành thu thập dữ liệu cho kịch bản: English Prompt (Zero-shot) ---\n",
            "\n",
            "--- Đang chạy kịch bản: English Prompt (Few-shot) ---\n"
          ]
        },
        {
          "name": "stderr",
          "output_type": "stream",
          "text": [
            "Querying English Prompt (Few-shot): 100%|██████████| 200/200 [05:31<00:00,  1.66s/it]\n"
          ]
        },
        {
          "name": "stdout",
          "output_type": "stream",
          "text": [
            "--- Hoàn thành thu thập dữ liệu cho kịch bản: English Prompt (Few-shot) ---\n",
            "\n",
            "--- Đang chạy kịch bản: Persian Prompt (Zero-shot) ---\n"
          ]
        },
        {
          "name": "stderr",
          "output_type": "stream",
          "text": [
            "Querying Persian Prompt (Zero-shot): 100%|██████████| 200/200 [05:36<00:00,  1.68s/it]\n"
          ]
        },
        {
          "name": "stdout",
          "output_type": "stream",
          "text": [
            "--- Hoàn thành thu thập dữ liệu cho kịch bản: Persian Prompt (Zero-shot) ---\n",
            "\n",
            "--- Đang chạy kịch bản: Persian Prompt (Few-shot) ---\n"
          ]
        },
        {
          "name": "stderr",
          "output_type": "stream",
          "text": [
            "Querying Persian Prompt (Few-shot): 100%|██████████| 200/200 [05:40<00:00,  1.70s/it]"
          ]
        },
        {
          "name": "stdout",
          "output_type": "stream",
          "text": [
            "--- Hoàn thành thu thập dữ liệu cho kịch bản: Persian Prompt (Few-shot) ---\n",
            "\n",
            "✨ Đã hoàn thành tất cả các thử nghiệm.\n"
          ]
        },
        {
          "name": "stderr",
          "output_type": "stream",
          "text": [
            "\n"
          ]
        }
      ],
      "source": [
        "# Dictionary để lưu kết quả cuối cùng\n",
        "final_results = {}\n",
        "\n",
        "# Bắt đầu vòng lặp lớn\n",
        "for task_name, all_data in tasks_data.items():\n",
        "    if not all_data:\n",
        "        continue\n",
        "    \n",
        "    print(f\"\\n\\n==================== BẮT ĐẦU TÁC VỤ: {task_name} ====================\")\n",
        "    final_results[task_name] = {}\n",
        "    \n",
        "    # Tải các prompt tương ứng với tác vụ\n",
        "    prompts_to_test = load_prompts_from_file(TASKS[task_name]['prompt_file'])\n",
        "    true_answers = [sample['target'] for sample in all_data]\n",
        "\n",
        "    for model_name in MODELS_TO_COMPARE:\n",
        "        final_results[task_name][model_name] = {}\n",
        "        print(f\"---------- Bắt đầu Model: {model_name} ----------\")\n",
        "\n",
        "        for prompt_name, prompt_template in prompts_to_test.items():\n",
        "            print(f\"--- Đang chạy kịch bản: {prompt_name} ---\")\n",
        "            \n",
        "            model_predictions = []\n",
        "            \n",
        "            for sample in tqdm(all_data, desc=f\"Querying {prompt_name}\"):\n",
        "                prompt = prompt_template.format(question=sample['question'], candidates=sample['candidates'])\n",
        "                answer = get_answer_from_model(prompt, model_name)\n",
        "                model_predictions.append(answer)\n",
        "                time.sleep(1)\n",
        "\n",
        "            # Lưu lại danh sách các câu trả lời của model\n",
        "            final_results[task_name][model_name][prompt_name] = model_predictions\n",
        "            print(f\"--- Hoàn thành thu thập dữ liệu cho kịch bản: {prompt_name} ---\\n\")\n",
        "\n",
        "print(\"✨ Đã hoàn thành tất cả các thử nghiệm.\")"
      ]
    },
    {
      "cell_type": "code",
      "execution_count": 8,
      "metadata": {},
      "outputs": [
        {
          "name": "stdout",
          "output_type": "stream",
          "text": [
            "\n",
            "\n",
            "📊=============== Bảng: So sánh độ chính xác của trắc nghiệm (PersianMath & PersianSAT) ===============📊\n",
            "| Tác vụ      |   gpt-3.5-turbo |   gpt-4o-mini |\n",
            "|:------------|----------------:|--------------:|\n",
            "| PersianMath |           43.50 |         53.00 |\n",
            "| PersianSAT  |           35.56 |         53.88 |\n"
          ]
        }
      ],
      "source": [
        "import pandas as pd\n",
        "import matplotlib.pyplot as plt\n",
        "import seaborn as sns\n",
        "import numpy as np\n",
        "\n",
        "accuracy_results = {}\n",
        "def normalize_text(text):\n",
        "    return str(text).strip().lower()\n",
        "\n",
        "for task_name, model_results in final_results.items():\n",
        "    true_answers = [sample['target'] for sample in tasks_data[task_name]]\n",
        "    for model_name, prompt_results in model_results.items():\n",
        "        for prompt_name, predictions in prompt_results.items():\n",
        "            correct_count = np.array([1 if normalize_text(true_ans) in normalize_text(pred) else 0 for pred, true_ans in zip(predictions, true_answers)]).sum()\n",
        "            accuracy = (correct_count / len(true_answers)) * 100\n",
        "            if model_name not in accuracy_results:\n",
        "                accuracy_results[model_name] = {}\n",
        "            if task_name not in accuracy_results[model_name]:\n",
        "                accuracy_results[model_name][task_name] = {}\n",
        "            accuracy_results[model_name][task_name][prompt_name] = accuracy\n",
        "\n",
        "summary_data = []\n",
        "for model in MODELS_TO_COMPARE:\n",
        "    # Tính điểm trung bình cho PersianMath\n",
        "    math_scores = accuracy_results.get(model, {}).get('Math', {}).values()\n",
        "    avg_math_score = np.mean(list(math_scores)) if math_scores else 0\n",
        "    summary_data.append({\"Tác vụ\": \"PersianMath\", \"Model\": model, \"Accuracy\": avg_math_score})\n",
        "\n",
        "    # Tính điểm trung bình cho PersianSAT (gộp Knowledge và Literature)\n",
        "    knowledge_scores = accuracy_results.get(model, {}).get('Knowledge', {}).values()\n",
        "    literature_scores = accuracy_results.get(model, {}).get('Literature', {}).values()\n",
        "    sat_scores = list(knowledge_scores) + list(literature_scores)\n",
        "    avg_sat_score = np.mean(sat_scores) if sat_scores else 0\n",
        "    summary_data.append({\"Tác vụ\": \"PersianSAT\", \"Model\": model, \"Accuracy\": avg_sat_score})\n",
        "    \n",
        "# Tạo DataFrame từ dữ liệu đã tổng hợp\n",
        "summary_df = pd.DataFrame(summary_data)\n",
        "\n",
        "# --- Hiển thị bảng so sánh ---\n",
        "final_pivot_table = summary_df.pivot_table(index=\"Tác vụ\", columns=\"Model\", values=\"Accuracy\")\n",
        "print(\"\\n\\n📊=============== Bảng: So sánh độ chính xác của trắc nghiệm (PersianMath & PersianSAT) ===============📊\")\n",
        "print(final_pivot_table.to_markdown(floatfmt=\".2f\"))"
      ]
    },
    {
      "cell_type": "code",
      "execution_count": 15,
      "metadata": {},
      "outputs": [
        {
          "name": "stdout",
          "output_type": "stream",
          "text": [
            "\n",
            "\n",
            "📈=============== Biểu đồ so sánh hiệu suất PersianMath & PersianSAT ===============📈\n"
          ]
        },
        {
          "data": {
            "image/png": "[encoded data removed]",
            "text/plain": [
              "<Figure size 1000x600 with 1 Axes>"
            ]
          },
          "metadata": {},
          "output_type": "display_data"
        }
      ],
      "source": [
        "# --- Vẽ biểu đồ so sánh ---\n",
        "print(\"\\n\\n📈=============== Biểu đồ so sánh hiệu suất PersianMath & PersianSAT ===============📈\")\n",
        "plt.figure(figsize=(10, 6))\n",
        "sns.barplot(data=summary_df, x='Tác vụ', y='Accuracy', hue='Model', palette='rocket')\n",
        "\n",
        "# Tùy chỉnh biểu đồ\n",
        "plt.title('Performance Comparison: PersianMath vs PersianSAT', fontsize=16)\n",
        "plt.ylabel('Average Accuracy (%)', fontsize=12)\n",
        "plt.xlabel('Task', fontsize=12)\n",
        "plt.ylim(0, 100)\n",
        "plt.legend(title='Model')\n",
        "plt.grid(axis='y', linestyle='--', alpha=0.7)\n",
        "\n",
        "# Hiển thị giá trị trên mỗi cột\n",
        "for p in plt.gca().patches:\n",
        "    plt.gca().annotate(f\"{p.get_height():.2f}%\", (p.get_x() + p.get_width() / 2., p.get_height()),\n",
        "                       ha='center', va='center', fontsize=11, color='black', xytext=(0, 5),\n",
        "                       textcoords='offset points')\n",
        "\n",
        "plt.show()"
      ]
    }
  ],
  "metadata": {
    "colab": {
      "provenance": []
    },
    "kernelspec": {
      "display_name": "Python 3",
      "name": "python3"
    },
    "language_info": {
      "codemirror_mode": {
        "name": "ipython",
        "version": 3
      },
      "file_extension": ".py",
      "mimetype": "text/x-python",
      "name": "python",
      "nbconvert_exporter": "python",
      "pygments_lexer": "ipython3",
      "version": "3.10.0"
    }
  },
  "nbformat": 4,
  "nbformat_minor": 0
}
