{
 "cells": [
  {
   "cell_type": "code",
   "execution_count": null,
   "id": "c2ad28b4",
   "metadata": {},
   "outputs": [
    {
     "name": "stdout",
     "output_type": "stream",
     "text": [
      "Found existing installation: evaluate 0.4.5\n",
      "Uninstalling evaluate-0.4.5:\n",
      "  Successfully uninstalled evaluate-0.4.5\n",
      "Found existing installation: datasets 4.0.0\n",
      "Uninstalling datasets-4.0.0:\n",
      "  Successfully uninstalled datasets-4.0.0\n",
      "Found existing installation: transformers 4.53.3\n",
      "Uninstalling transformers-4.53.3:\n",
      "  Successfully uninstalled transformers-4.53.3\n",
      "Found existing installation: torch 2.7.1\n",
      "Uninstalling torch-2.7.1:\n",
      "  Successfully uninstalled torch-2.7.1\n",
      "Found existing installation: torchvision 0.22.1\n",
      "Uninstalling torchvision-0.22.1:\n",
      "  Successfully uninstalled torchvision-0.22.1\n",
      "Collecting torch\n",
      "  Using cached torch-2.7.1-cp311-cp311-win_amd64.whl.metadata (28 kB)\n",
      "Collecting torchvision\n",
      "  Using cached torchvision-0.22.1-cp311-cp311-win_amd64.whl.metadata (6.1 kB)\n",
      "Requirement already satisfied: filelock in c:\\users\\giahytran\\appdata\\local\\programs\\python\\python311\\lib\\site-packages (from torch) (3.18.0)\n",
      "Requirement already satisfied: typing-extensions>=4.10.0 in c:\\users\\giahytran\\appdata\\local\\programs\\python\\python311\\lib\\site-packages (from torch) (4.14.1)\n",
      "Requirement already satisfied: sympy>=1.13.3 in c:\\users\\giahytran\\appdata\\local\\programs\\python\\python311\\lib\\site-packages (from torch) (1.14.0)\n",
      "Requirement already satisfied: networkx in c:\\users\\giahytran\\appdata\\local\\programs\\python\\python311\\lib\\site-packages (from torch) (3.5)\n",
      "Requirement already satisfied: jinja2 in c:\\users\\giahytran\\appdata\\local\\programs\\python\\python311\\lib\\site-packages (from torch) (3.1.6)\n",
      "Requirement already satisfied: fsspec in c:\\users\\giahytran\\appdata\\local\\programs\\python\\python311\\lib\\site-packages (from torch) (2025.3.0)\n",
      "Requirement already satisfied: numpy in c:\\users\\giahytran\\appdata\\local\\programs\\python\\python311\\lib\\site-packages (from torchvision) (2.1.3)\n",
      "Requirement already satisfied: pillow!=8.3.*,>=5.3.0 in c:\\users\\giahytran\\appdata\\local\\programs\\python\\python311\\lib\\site-packages (from torchvision) (11.3.0)\n",
      "Requirement already satisfied: mpmath<1.4,>=1.1.0 in c:\\users\\giahytran\\appdata\\local\\programs\\python\\python311\\lib\\site-packages (from sympy>=1.13.3->torch) (1.3.0)\n",
      "Requirement already satisfied: MarkupSafe>=2.0 in c:\\users\\giahytran\\appdata\\local\\programs\\python\\python311\\lib\\site-packages (from jinja2->torch) (3.0.2)\n",
      "Using cached torch-2.7.1-cp311-cp311-win_amd64.whl (216.1 MB)\n",
      "Using cached torchvision-0.22.1-cp311-cp311-win_amd64.whl (1.7 MB)\n",
      "Installing collected packages: torch, torchvision\n",
      "Successfully installed torch-2.7.1 torchvision-0.22.1\n"
     ]
    },
    {
     "name": "stderr",
     "output_type": "stream",
     "text": [
      "\n",
      "[notice] A new release of pip is available: 24.0 -> 25.1.1\n",
      "[notice] To update, run: C:\\Users\\GiaHyTran\\AppData\\Local\\Programs\\Python\\Python311\\python.exe -m pip install --upgrade pip\n",
      "\n",
      "[notice] A new release of pip is available: 24.0 -> 25.1.1\n",
      "[notice] To update, run: C:\\Users\\GiaHyTran\\AppData\\Local\\Programs\\Python\\Python311\\python.exe -m pip install --upgrade pip\n"
     ]
    }
   ],
   "source": [
    "# Gỡ cài đặt các phiên bản có thể gây xung đột để làm sạch môi trường\n",
    "!pip uninstall -y evaluate datasets transformers torch torchvision\n",
    "\n",
    "# Cài đặt lại các thư viện theo đúng thứ tự\n",
    "!pip install torch torchvision\n",
    "!pip install -q evaluate transformers\n",
    "\n",
    "# py -3.10 -m pip install torch torchvision\n",
    "# py -3.10 -m pip install -q evaluate transformers"
   ]
  },
  {
   "cell_type": "code",
   "execution_count": 3,
   "id": "5befce16",
   "metadata": {},
   "outputs": [
    {
     "name": "stdout",
     "output_type": "stream",
     "text": [
      "^C\n"
     ]
    },
    {
     "name": "stdout",
     "output_type": "stream",
     "text": [
      "Collecting git+https://github.com/hendrycks/math.git#subdirectory=math_equivalence\n",
      "  Cloning https://github.com/hendrycks/math.git to c:\\users\\giahytran\\appdata\\local\\temp\\pip-req-build-dpbcb2ix\n"
     ]
    },
    {
     "name": "stderr",
     "output_type": "stream",
     "text": [
      "  Running command git clone --filter=blob:none --quiet https://github.com/hendrycks/math.git 'C:\\Users\\GiaHyTran\\AppData\\Local\\Temp\\pip-req-build-dpbcb2ix'\n",
      "  error: RPC failed; curl 56 Recv failure: Connection was reset\n",
      "  error: 2433 bytes of body are still expected\n",
      "  fetch-pack: unexpected disconnect while reading sideband packet\n",
      "  fatal: early EOF\n",
      "  fatal: index-pack failed\n",
      "  fatal: could not fetch 2884bd5e0ebe3af32f148e407ca9648153b6f2fa from promisor remote\n",
      "  warning: Clone succeeded, but checkout failed.\n",
      "  You can inspect what was checked out with 'git status'\n",
      "  and retry with 'git restore --source=HEAD :/'\n",
      "\n",
      "  error: subprocess-exited-with-error\n",
      "  \n",
      "  × git clone --filter=blob:none --quiet https://github.com/hendrycks/math.git 'C:\\Users\\GiaHyTran\\AppData\\Local\\Temp\\pip-req-build-dpbcb2ix' did not run successfully.\n",
      "  │ exit code: 128\n",
      "  ╰─> See above for output.\n",
      "  \n",
      "  note: This error originates from a subprocess, and is likely not a problem with pip.\n",
      "error: subprocess-exited-with-error\n",
      "\n",
      "× git clone --filter=blob:none --quiet https://github.com/hendrycks/math.git 'C:\\Users\\GiaHyTran\\AppData\\Local\\Temp\\pip-req-build-dpbcb2ix' did not run successfully.\n",
      "│ exit code: 128\n",
      "╰─> See above for output.\n",
      "\n",
      "note: This error originates from a subprocess, and is likely not a problem with pip.\n",
      "\n",
      "[notice] A new release of pip is available: 24.0 -> 25.1.1\n",
      "[notice] To update, run: C:\\Users\\GiaHyTran\\AppData\\Local\\Programs\\Python\\Python311\\python.exe -m pip install --upgrade pip\n"
     ]
    }
   ],
   "source": [
    "!pip install git+https://github.com/hendrycks/math.git#subdirectory=math_equivalence    "
   ]
  },
  {
   "cell_type": "code",
   "execution_count": 1,
   "id": "95c1fbbf",
   "metadata": {},
   "outputs": [
    {
     "name": "stderr",
     "output_type": "stream",
     "text": [
      "c:\\Users\\GiaHyTran\\AppData\\Local\\Programs\\Python\\Python310\\lib\\site-packages\\tqdm\\auto.py:21: TqdmWarning: IProgress not found. Please update jupyter and ipywidgets. See https://ipywidgets.readthedocs.io/en/stable/user_install.html\n",
      "  from .autonotebook import tqdm as notebook_tqdm\n"
     ]
    }
   ],
   "source": [
    "import json\n",
    "import time\n",
    "import pandas as pd\n",
    "from openai import OpenAI\n",
    "from tqdm import tqdm\n",
    "from evaluate import load\n",
    "\n",
    "# Import TẤT CẢ các mẫu prompt từ file prompt.py\n",
    "from prompt import *"
   ]
  },
  {
   "cell_type": "code",
   "execution_count": null,
   "id": "2a2dc241",
   "metadata": {},
   "outputs": [
    {
     "name": "stdout",
     "output_type": "stream",
     "text": [
      "✅ Đã tải thành công 178 bài toán.\n",
      " dụng một nửa số lượng mẫu: 178 bài toán.\n"
     ]
    }
   ],
   "source": [
    "# !!! QUAN TRỌNG: Hãy điền API Key của bạn vào đây\n",
    "api_key = \"...\"  # Thay thế bằng API Key của bạn\n",
    "\n",
    "# 1. Khởi tạo Client với API Key\n",
    "client = OpenAI(api_key=api_key)\n",
    "\n",
    "# 2. Định nghĩa các model và các kịch bản prompt\n",
    "MODELS_TO_COMPARE = [\"gpt-3.5-turbo\", \"gpt-4o-mini\"]\n",
    "PROMPTS_TO_TEST = {\n",
    "    \"English Prompt (Zero-shot)\": ENGLISH_ZERO,\n",
    "    \"English Prompt (Few-shot)\": ENGLISH_ONE,\n",
    "    \"English Prompt (CoT)\": ENGLISH_THREE,\n",
    "    \"Persian Prompt (Zero-shot)\": PERSIAN_ZERO,\n",
    "    \"Persian Prompt (Few-shot)\": PERSIAN_ONE,\n",
    "    \"Persian Prompt (CoT)\": PERSIAN_THREE,\n",
    "}\n",
    "\n",
    "# 3. Tải toàn bộ dữ liệu từ file math.jsonl\n",
    "try:\n",
    "    full_data = []\n",
    "    with open('math.jsonl', 'r', encoding='utf-8') as reader:\n",
    "        for line in reader:\n",
    "            full_data.append(json.loads(line))\n",
    "    \n",
    "    # Tự động tính toán và lấy một nửa số lượng mẫu\n",
    "    SAMPLE_SIZE = 178\n",
    "    \n",
    "    # Lấy một phần dữ liệu để chạy thử\n",
    "    all_data = full_data[:SAMPLE_SIZE] \n",
    "    \n",
    "    print(f\"✅ Đã tải thành công {len(full_data)} bài toán.\")\n",
    "    print(f\" dụng một nửa số lượng mẫu: {len(all_data)} bài toán.\")\n",
    "\n",
    "except FileNotFoundError:\n",
    "    print(\"❌ Lỗi: Không tìm thấy file 'math.jsonl'.\")"
   ]
  },
  {
   "cell_type": "code",
   "execution_count": 3,
   "id": "b1ce2cd1",
   "metadata": {},
   "outputs": [],
   "source": [
    "def get_answer_from_model(prompt, model_name):\n",
    "    \"\"\"\n",
    "    Hàm này nhận một prompt và tên model, sau đó trả về câu trả lời.\n",
    "    \"\"\"\n",
    "    try:\n",
    "        response = client.chat.completions.create(\n",
    "          model=model_name,\n",
    "          messages=[\n",
    "                {\"role\": \"system\", \"content\": \"You are a math expert. Provide a step-by-step solution and enclose the final answer in [پاسخ] tags.\"},\n",
    "                {\"role\": \"user\", \"content\": prompt}\n",
    "            ],\n",
    "          temperature=0,\n",
    "          max_tokens=512 # Tăng token để chứa cả phần giải thích\n",
    "        )\n",
    "        return response.choices[0].message.content.strip()\n",
    "    except Exception as e:\n",
    "        print(f\"\\nLỗi khi gọi model {model_name}: {e}\")\n",
    "        return \"ERROR\"\n",
    "\n",
    "def preserve_digit(input_string):\n",
    "    \"\"\"\n",
    "    Hàm này từ code gốc, dùng để trích xuất phần số từ câu trả lời.\n",
    "    \"\"\"\n",
    "    end_idx = len(input_string) - 1\n",
    "    while end_idx >= 0 and not input_string[end_idx].isdigit():\n",
    "        end_idx -= 1\n",
    "    start_idx = end_idx\n",
    "\n",
    "    while start_idx >= 0 and (input_string[start_idx].isdigit() or input_string[start_idx] in ['.', ',', '/', '\\\\', '{', '}']):\n",
    "        start_idx -= 1\n",
    "        \n",
    "    return input_string[start_idx+1:end_idx+1]\n",
    "\n",
    "def extract_answer(response_text):\n",
    "    \"\"\"\n",
    "    Hàm này tìm thẻ [پاسخ], sau đó dùng preserve_digit để lấy câu trả lời cuối cùng.\n",
    "    \"\"\"\n",
    "    try:\n",
    "        answer_idx = response_text.rfind(\"[پاسخ]\")\n",
    "        if answer_idx != -1:\n",
    "            result_part = response_text[answer_idx:]\n",
    "            return preserve_digit(result_part)\n",
    "        else:\n",
    "            return preserve_digit(response_text)\n",
    "    except:\n",
    "        return \"\""
   ]
  },
  {
   "cell_type": "code",
   "execution_count": 4,
   "id": "69cfebfb",
   "metadata": {},
   "outputs": [
    {
     "name": "stdout",
     "output_type": "stream",
     "text": [
      "============== BẮT ĐẦU MODEL: gpt-3.5-turbo ==============\n",
      "--- Đang chạy kịch bản: English Prompt (Zero-shot) ---\n"
     ]
    },
    {
     "name": "stderr",
     "output_type": "stream",
     "text": [
      "Querying English Prompt (Zero-shot): 100%|██████████| 178/178 [13:10<00:00,  4.44s/it]\n"
     ]
    },
    {
     "name": "stdout",
     "output_type": "stream",
     "text": [
      "--- Hoàn thành thu thập dữ liệu cho kịch bản: English Prompt (Zero-shot) ---\n",
      "\n",
      "--- Đang chạy kịch bản: English Prompt (Few-shot) ---\n"
     ]
    },
    {
     "name": "stderr",
     "output_type": "stream",
     "text": [
      "Querying English Prompt (Few-shot): 100%|██████████| 178/178 [12:14<00:00,  4.13s/it]\n"
     ]
    },
    {
     "name": "stdout",
     "output_type": "stream",
     "text": [
      "--- Hoàn thành thu thập dữ liệu cho kịch bản: English Prompt (Few-shot) ---\n",
      "\n",
      "--- Đang chạy kịch bản: English Prompt (CoT) ---\n"
     ]
    },
    {
     "name": "stderr",
     "output_type": "stream",
     "text": [
      "Querying English Prompt (CoT): 100%|██████████| 178/178 [10:41<00:00,  3.61s/it]\n"
     ]
    },
    {
     "name": "stdout",
     "output_type": "stream",
     "text": [
      "--- Hoàn thành thu thập dữ liệu cho kịch bản: English Prompt (CoT) ---\n",
      "\n",
      "--- Đang chạy kịch bản: Persian Prompt (Zero-shot) ---\n"
     ]
    },
    {
     "name": "stderr",
     "output_type": "stream",
     "text": [
      "Querying Persian Prompt (Zero-shot): 100%|██████████| 178/178 [14:11<00:00,  4.78s/it]\n"
     ]
    },
    {
     "name": "stdout",
     "output_type": "stream",
     "text": [
      "--- Hoàn thành thu thập dữ liệu cho kịch bản: Persian Prompt (Zero-shot) ---\n",
      "\n",
      "--- Đang chạy kịch bản: Persian Prompt (Few-shot) ---\n"
     ]
    },
    {
     "name": "stderr",
     "output_type": "stream",
     "text": [
      "Querying Persian Prompt (Few-shot): 100%|██████████| 178/178 [12:26<00:00,  4.19s/it]\n"
     ]
    },
    {
     "name": "stdout",
     "output_type": "stream",
     "text": [
      "--- Hoàn thành thu thập dữ liệu cho kịch bản: Persian Prompt (Few-shot) ---\n",
      "\n",
      "--- Đang chạy kịch bản: Persian Prompt (CoT) ---\n"
     ]
    },
    {
     "name": "stderr",
     "output_type": "stream",
     "text": [
      "Querying Persian Prompt (CoT): 100%|██████████| 178/178 [11:26<00:00,  3.86s/it]\n"
     ]
    },
    {
     "name": "stdout",
     "output_type": "stream",
     "text": [
      "--- Hoàn thành thu thập dữ liệu cho kịch bản: Persian Prompt (CoT) ---\n",
      "\n",
      "============== BẮT ĐẦU MODEL: gpt-4o-mini ==============\n",
      "--- Đang chạy kịch bản: English Prompt (Zero-shot) ---\n"
     ]
    },
    {
     "name": "stderr",
     "output_type": "stream",
     "text": [
      "Querying English Prompt (Zero-shot): 100%|██████████| 178/178 [25:11<00:00,  8.49s/it]\n"
     ]
    },
    {
     "name": "stdout",
     "output_type": "stream",
     "text": [
      "--- Hoàn thành thu thập dữ liệu cho kịch bản: English Prompt (Zero-shot) ---\n",
      "\n",
      "--- Đang chạy kịch bản: English Prompt (Few-shot) ---\n"
     ]
    },
    {
     "name": "stderr",
     "output_type": "stream",
     "text": [
      "Querying English Prompt (Few-shot): 100%|██████████| 178/178 [20:42<00:00,  6.98s/it]\n"
     ]
    },
    {
     "name": "stdout",
     "output_type": "stream",
     "text": [
      "--- Hoàn thành thu thập dữ liệu cho kịch bản: English Prompt (Few-shot) ---\n",
      "\n",
      "--- Đang chạy kịch bản: English Prompt (CoT) ---\n"
     ]
    },
    {
     "name": "stderr",
     "output_type": "stream",
     "text": [
      "Querying English Prompt (CoT): 100%|██████████| 178/178 [19:41<00:00,  6.64s/it]\n"
     ]
    },
    {
     "name": "stdout",
     "output_type": "stream",
     "text": [
      "--- Hoàn thành thu thập dữ liệu cho kịch bản: English Prompt (CoT) ---\n",
      "\n",
      "--- Đang chạy kịch bản: Persian Prompt (Zero-shot) ---\n"
     ]
    },
    {
     "name": "stderr",
     "output_type": "stream",
     "text": [
      "Querying Persian Prompt (Zero-shot): 100%|██████████| 178/178 [23:07<00:00,  7.80s/it]\n"
     ]
    },
    {
     "name": "stdout",
     "output_type": "stream",
     "text": [
      "--- Hoàn thành thu thập dữ liệu cho kịch bản: Persian Prompt (Zero-shot) ---\n",
      "\n",
      "--- Đang chạy kịch bản: Persian Prompt (Few-shot) ---\n"
     ]
    },
    {
     "name": "stderr",
     "output_type": "stream",
     "text": [
      "Querying Persian Prompt (Few-shot): 100%|██████████| 178/178 [17:25<00:00,  5.87s/it]\n"
     ]
    },
    {
     "name": "stdout",
     "output_type": "stream",
     "text": [
      "--- Hoàn thành thu thập dữ liệu cho kịch bản: Persian Prompt (Few-shot) ---\n",
      "\n",
      "--- Đang chạy kịch bản: Persian Prompt (CoT) ---\n"
     ]
    },
    {
     "name": "stderr",
     "output_type": "stream",
     "text": [
      "Querying Persian Prompt (CoT): 100%|██████████| 178/178 [18:45<00:00,  6.32s/it]"
     ]
    },
    {
     "name": "stdout",
     "output_type": "stream",
     "text": [
      "--- Hoàn thành thu thập dữ liệu cho kịch bản: Persian Prompt (CoT) ---\n",
      "\n",
      "✨ Đã hoàn thành tất cả các thử nghiệm.\n"
     ]
    },
    {
     "name": "stderr",
     "output_type": "stream",
     "text": [
      "\n"
     ]
    }
   ],
   "source": [
    "# Dictionary để lưu kết quả cuối cùng\n",
    "final_results = {}\n",
    "\n",
    "# Bắt đầu vòng lặp lớn\n",
    "for model_name in MODELS_TO_COMPARE:\n",
    "    print(f\"============== BẮT ĐẦU MODEL: {model_name} ==============\")\n",
    "    final_results[model_name] = {}\n",
    "    \n",
    "    # Vòng lặp bên trong: chạy qua từng loại prompt\n",
    "    for prompt_name, prompt_template in PROMPTS_TO_TEST.items():\n",
    "        print(f\"--- Đang chạy kịch bản: {prompt_name} ---\")\n",
    "        \n",
    "        model_predictions_raw = []\n",
    "        \n",
    "        # Chạy qua toàn bộ dữ liệu mẫu\n",
    "        for sample in tqdm(all_data, desc=f\"Querying {prompt_name}\"):\n",
    "            prompt = prompt_template.format(problem=sample['problem'])\n",
    "            answer = get_answer_from_model(prompt, model_name)\n",
    "            model_predictions_raw.append(answer)\n",
    "            time.sleep(1)\n",
    "\n",
    "        # Lưu lại danh sách các câu trả lời thô của model\n",
    "        final_results[model_name][prompt_name] = model_predictions_raw\n",
    "        print(f\"--- Hoàn thành thu thập dữ liệu cho kịch bản: {prompt_name} ---\\n\")\n",
    "\n",
    "print(\"✨ Đã hoàn thành tất cả các thử nghiệm.\")"
   ]
  },
  {
   "cell_type": "code",
   "execution_count": 5,
   "id": "1d142ee6",
   "metadata": {},
   "outputs": [
    {
     "name": "stdout",
     "output_type": "stream",
     "text": [
      "\n",
      "\n",
      "=============== BẢNG SO SÁNH HIỆU NĂNG GIẢI TOÁN ===============\n",
      "\n",
      "\n",
      "=============== BẢNG TÓM TẮT ACCURACY (Đối sánh chính xác) ===============\n",
      "| Prompt / Kịch bản          | gpt-3.5-turbo   | gpt-4o-mini   |\n",
      "|:---------------------------|:----------------|:--------------|\n",
      "| English Prompt (Zero-shot) | 37.64%          | 42.13%        |\n",
      "| English Prompt (Few-shot)  | 39.89%          | 60.67%        |\n",
      "| English Prompt (CoT)       | 35.96%          | 61.24%        |\n",
      "| Persian Prompt (Zero-shot) | 34.27%          | 52.25%        |\n",
      "| Persian Prompt (Few-shot)  | 37.08%          | 56.74%        |\n",
      "| Persian Prompt (CoT)       | 36.52%          | 59.55%        |\n"
     ]
    },
    {
     "name": "stderr",
     "output_type": "stream",
     "text": [
      "C:\\Users\\GiaHyTran\\AppData\\Local\\Temp\\ipykernel_22252\\1237559391.py:28: FutureWarning: DataFrame.applymap has been deprecated. Use DataFrame.map instead.\n",
      "  summary_df = summary_df.applymap(lambda x: f\"{x:.2f}%\" if isinstance(x, float) else x)\n"
     ]
    }
   ],
   "source": [
    "print(\"\\n\\n=============== BẢNG SO SÁNH HIỆU NĂNG GIẢI TOÁN ===============\")\n",
    "\n",
    "# Tải evaluator từ thư viện evaluate\n",
    "evaluator = load(\"competition_math\")\n",
    "\n",
    "# DataFrame để lưu trữ chỉ số Accuracy\n",
    "accuracy_results = {}\n",
    "\n",
    "# Lấy danh sách đáp án đúng\n",
    "true_answers = [sample['target'] for sample in all_data]\n",
    "\n",
    "# Vòng lặp qua kết quả của từng model để tính toán\n",
    "for model_name, prompt_results in final_results.items():\n",
    "    accuracy_results[model_name] = {}\n",
    "    for prompt_name, raw_predictions in prompt_results.items():\n",
    "        # Trích xuất câu trả lời cuối cùng từ mỗi dự đoán thô\n",
    "        cleaned_predictions = [extract_answer(pred) for pred in raw_predictions]\n",
    "        \n",
    "        # Dùng evaluator để tính toán\n",
    "        results = evaluator.compute(references=true_answers, predictions=cleaned_predictions)\n",
    "        \n",
    "        # Lưu kết quả accuracy (dưới dạng %)\n",
    "        accuracy = results['accuracy'] * 100\n",
    "        accuracy_results[model_name][prompt_name] = accuracy\n",
    "\n",
    "# Tạo và in bảng so sánh cuối cùng\n",
    "summary_df = pd.DataFrame(accuracy_results)\n",
    "summary_df = summary_df.applymap(lambda x: f\"{x:.2f}%\" if isinstance(x, float) else x)\n",
    "summary_df.columns.name = \"Model\"\n",
    "summary_df.index.name = \"Prompt / Kịch bản\"\n",
    "\n",
    "print(\"\\n\\n=============== BẢNG TÓM TẮT ACCURACY (Đối sánh chính xác) ===============\")\n",
    "print(summary_df.to_markdown())"
   ]
  },
  {
   "cell_type": "code",
   "execution_count": 6,
   "id": "f7a70386",
   "metadata": {},
   "outputs": [
    {
     "name": "stdout",
     "output_type": "stream",
     "text": [
      "\n",
      "\n",
      "📈=============== BIỂU ĐỒ SO SÁNH HIỆU SUẤT TRUNG BÌNH (GIẢI TOÁN) ===============📈\n"
     ]
    },
    {
     "data": {
      "image/png": "[encoded data removed]",
      "text/plain": [
       "<Figure size 800x600 with 1 Axes>"
      ]
     },
     "metadata": {},
     "output_type": "display_data"
    }
   ],
   "source": [
    "import pandas as pd\n",
    "import matplotlib.pyplot as plt\n",
    "import seaborn as sns\n",
    "\n",
    "math_data = {\n",
    "    'Experiment': [\n",
    "        'English Prompt (Zero-shot)', 'Persian Prompt (Zero-shot)',\n",
    "        'English Prompt (Few-shot)', 'Persian Prompt (Few-shot)',\n",
    "        'English Prompt (CoT)', 'Persian Prompt (CoT)'\n",
    "    ] * 2,\n",
    "    'Model': [\n",
    "        'gpt-3.5-turbo'] * 6 + ['gpt-4o-mini'] * 6\n",
    "    ,\n",
    "    'Accuracy': [\n",
    "        # gpt-3.5-turbo scores\n",
    "        37.64, 34.27, 39.89, 37.08, 35.96, 36.52,\n",
    "        # gpt-4o-mini scores\n",
    "        42.13, 52.25, 60.67, 56.74, 61.24, 59.55\n",
    "    ]\n",
    "}\n",
    "\n",
    "df_math = pd.DataFrame(math_data)\n",
    "\n",
    "print(\"\\n\\n📈=============== BIỂU ĐỒ SO SÁNH HIỆU SUẤT TRUNG BÌNH (GIẢI TOÁN) ===============📈\")\n",
    "\n",
    "# Nhóm theo model và tính điểm accuracy trung bình\n",
    "df_summary = df_math.groupby('Model')['Accuracy'].mean().reset_index()\n",
    "\n",
    "# Vẽ biểu đồ\n",
    "plt.figure(figsize=(8, 6))\n",
    "sns.barplot(x='Model', y='Accuracy', data=df_summary, hue='Model', palette='magma', legend=False)\n",
    "\n",
    "# Tùy chỉnh biểu đồ\n",
    "plt.title('Average Performance Comparison (Math Task)', fontsize=16)\n",
    "plt.ylabel('Average Accuracy (%)', fontsize=12)\n",
    "plt.xlabel('Model', fontsize=12)\n",
    "plt.ylim(0, 100)\n",
    "plt.grid(axis='y', linestyle='--', alpha=0.7)\n",
    "\n",
    "# Hiển thị giá trị trên mỗi cột\n",
    "for p in plt.gca().patches:\n",
    "    plt.gca().annotate(f\"{p.get_height():.2f}%\", (p.get_x() + p.get_width() / 2., p.get_height()),\n",
    "                       ha='center', va='center', fontsize=12, color='black', xytext=(0, 5),\n",
    "                       textcoords='offset points')\n",
    "\n",
    "plt.show()"
   ]
  },
  {
   "cell_type": "code",
   "execution_count": 7,
   "id": "4787cc4e",
   "metadata": {},
   "outputs": [
    {
     "name": "stdout",
     "output_type": "stream",
     "text": [
      "\n",
      "\n",
      "📊=============== BẢNG TÓM TẮT HIỆU SUẤT CHI TIẾT (GIẢI TOÁN) ===============📊\n",
      "| Experiment                 |   gpt-3.5-turbo |   gpt-4o-mini |\n",
      "|:---------------------------|----------------:|--------------:|\n",
      "| English Prompt (Zero-shot) |           37.64 |         42.13 |\n",
      "| Persian Prompt (Zero-shot) |           34.27 |         52.25 |\n",
      "| English Prompt (Few-shot)  |           39.89 |         60.67 |\n",
      "| Persian Prompt (Few-shot)  |           37.08 |         56.74 |\n",
      "| English Prompt (CoT)       |           35.96 |         61.24 |\n",
      "| Persian Prompt (CoT)       |           36.52 |         59.55 |\n"
     ]
    },
    {
     "name": "stderr",
     "output_type": "stream",
     "text": [
      "C:\\Users\\GiaHyTran\\AppData\\Local\\Temp\\ipykernel_22252\\210507618.py:13: FutureWarning: The default value of observed=False is deprecated and will change to observed=True in a future version of pandas. Specify observed=False to silence this warning and retain the current behavior\n",
      "  pivot_detailed = df_math.pivot_table(index='Experiment', columns='Model', values='Accuracy')\n"
     ]
    }
   ],
   "source": [
    "# Hiển thị bảng tóm tắt chi tiết\n",
    "print(\"\\n\\n📊=============== BẢNG TÓM TẮT HIỆU SUẤT CHI TIẾT (GIẢI TOÁN) ===============📊\")\n",
    "# Sắp xếp lại DataFrame theo thứ tự mong muốn\n",
    "prompt_order = [\n",
    "    'English Prompt (Zero-shot)', 'Persian Prompt (Zero-shot)',\n",
    "    'English Prompt (Few-shot)', 'Persian Prompt (Few-shot)', # Few-shot is like 1-shot\n",
    "    'English Prompt (CoT)', 'Persian Prompt (CoT)' # CoT is like 3-shot\n",
    "]\n",
    "df_math['Experiment'] = pd.Categorical(df_math['Experiment'], categories=prompt_order, ordered=True)\n",
    "df_math = df_math.sort_values('Experiment')\n",
    "\n",
    "# Tạo bảng pivot\n",
    "pivot_detailed = df_math.pivot_table(index='Experiment', columns='Model', values='Accuracy')\n",
    "print(pivot_detailed.to_markdown(floatfmt=\".2f\"))"
   ]
  }
 ],
 "metadata": {
  "colab": {
   "provenance": []
  },
  "kernelspec": {
   "display_name": "Python 3",
   "language": "python",
   "name": "python3"
  },
  "language_info": {
   "codemirror_mode": {
    "name": "ipython",
    "version": 3
   },
   "file_extension": ".py",
   "mimetype": "text/x-python",
   "name": "python",
   "nbconvert_exporter": "python",
   "pygments_lexer": "ipython3",
   "version": "3.10.0"
  },
  "widgets": {
   "application/vnd.jupyter.widget-state+json": {
    "13439294a7894c8db39c403d942bac7d": {
     "model_module": "@jupyter-widgets/controls",
     "model_module_version": "1.5.0",
     "model_name": "HBoxModel",
     "state": {
      "_dom_classes": [],
      "_model_module": "@jupyter-widgets/controls",
      "_model_module_version": "1.5.0",
      "_model_name": "HBoxModel",
      "_view_count": null,
      "_view_module": "@jupyter-widgets/controls",
      "_view_module_version": "1.5.0",
      "_view_name": "HBoxView",
      "box_style": "",
      "children": [
       "IPY_MODEL_f93d43b298c7499a83a40d69003ffca7",
       "IPY_MODEL_8ef95582dbb043e4a58971ee57b6549b",
       "IPY_MODEL_854e7e1a008b4e0699c2ba4bec26c23c"
      ],
      "layout": "IPY_MODEL_fe8281abae804b518fd9467a4f2f33a8"
     }
    },
    "19d5a756458f4de8b2964c8994b839cd": {
     "model_module": "@jupyter-widgets/base",
     "model_module_version": "1.2.0",
     "model_name": "LayoutModel",
     "state": {
      "_model_module": "@jupyter-widgets/base",
      "_model_module_version": "1.2.0",
      "_model_name": "LayoutModel",
      "_view_count": null,
      "_view_module": "@jupyter-widgets/base",
      "_view_module_version": "1.2.0",
      "_view_name": "LayoutView",
      "align_content": null,
      "align_items": null,
      "align_self": null,
      "border": null,
      "bottom": null,
      "display": null,
      "flex": null,
      "flex_flow": null,
      "grid_area": null,
      "grid_auto_columns": null,
      "grid_auto_flow": null,
      "grid_auto_rows": null,
      "grid_column": null,
      "grid_gap": null,
      "grid_row": null,
      "grid_template_areas": null,
      "grid_template_columns": null,
      "grid_template_rows": null,
      "height": null,
      "justify_content": null,
      "justify_items": null,
      "left": null,
      "margin": null,
      "max_height": null,
      "max_width": null,
      "min_height": null,
      "min_width": null,
      "object_fit": null,
      "object_position": null,
      "order": null,
      "overflow": null,
      "overflow_x": null,
      "overflow_y": null,
      "padding": null,
      "right": null,
      "top": null,
      "visibility": null,
      "width": null
     }
    },
    "675e898480c94839bf8321bab00a9bd6": {
     "model_module": "@jupyter-widgets/controls",
     "model_module_version": "1.5.0",
     "model_name": "DescriptionStyleModel",
     "state": {
      "_model_module": "@jupyter-widgets/controls",
      "_model_module_version": "1.5.0",
      "_model_name": "DescriptionStyleModel",
      "_view_count": null,
      "_view_module": "@jupyter-widgets/base",
      "_view_module_version": "1.2.0",
      "_view_name": "StyleView",
      "description_width": ""
     }
    },
    "854e7e1a008b4e0699c2ba4bec26c23c": {
     "model_module": "@jupyter-widgets/controls",
     "model_module_version": "1.5.0",
     "model_name": "HTMLModel",
     "state": {
      "_dom_classes": [],
      "_model_module": "@jupyter-widgets/controls",
      "_model_module_version": "1.5.0",
      "_model_name": "HTMLModel",
      "_view_count": null,
      "_view_module": "@jupyter-widgets/controls",
      "_view_module_version": "1.5.0",
      "_view_name": "HTMLView",
      "description": "",
      "description_tooltip": null,
      "layout": "IPY_MODEL_fa2c6acc7c424b5ba8ccf80cc1a19768",
      "placeholder": "​",
      "style": "IPY_MODEL_675e898480c94839bf8321bab00a9bd6",
      "value": " 3.24k/3.24k [00:00&lt;00:00, 139kB/s]"
     }
    },
    "8ef95582dbb043e4a58971ee57b6549b": {
     "model_module": "@jupyter-widgets/controls",
     "model_module_version": "1.5.0",
     "model_name": "FloatProgressModel",
     "state": {
      "_dom_classes": [],
      "_model_module": "@jupyter-widgets/controls",
      "_model_module_version": "1.5.0",
      "_model_name": "FloatProgressModel",
      "_view_count": null,
      "_view_module": "@jupyter-widgets/controls",
      "_view_module_version": "1.5.0",
      "_view_name": "ProgressView",
      "bar_style": "success",
      "description": "",
      "description_tooltip": null,
      "layout": "IPY_MODEL_eb6e16b421c44d318ca5f4e8b9b1cb07",
      "max": 3240,
      "min": 0,
      "orientation": "horizontal",
      "style": "IPY_MODEL_e6e8c48bf5754158b36ab08b1c6c9ac5",
      "value": 3240
     }
    },
    "9d98e58d1e3e4e1283f82eadd802ce37": {
     "model_module": "@jupyter-widgets/controls",
     "model_module_version": "1.5.0",
     "model_name": "DescriptionStyleModel",
     "state": {
      "_model_module": "@jupyter-widgets/controls",
      "_model_module_version": "1.5.0",
      "_model_name": "DescriptionStyleModel",
      "_view_count": null,
      "_view_module": "@jupyter-widgets/base",
      "_view_module_version": "1.2.0",
      "_view_name": "StyleView",
      "description_width": ""
     }
    },
    "e6e8c48bf5754158b36ab08b1c6c9ac5": {
     "model_module": "@jupyter-widgets/controls",
     "model_module_version": "1.5.0",
     "model_name": "ProgressStyleModel",
     "state": {
      "_model_module": "@jupyter-widgets/controls",
      "_model_module_version": "1.5.0",
      "_model_name": "ProgressStyleModel",
      "_view_count": null,
      "_view_module": "@jupyter-widgets/base",
      "_view_module_version": "1.2.0",
      "_view_name": "StyleView",
      "bar_color": null,
      "description_width": ""
     }
    },
    "eb6e16b421c44d318ca5f4e8b9b1cb07": {
     "model_module": "@jupyter-widgets/base",
     "model_module_version": "1.2.0",
     "model_name": "LayoutModel",
     "state": {
      "_model_module": "@jupyter-widgets/base",
      "_model_module_version": "1.2.0",
      "_model_name": "LayoutModel",
      "_view_count": null,
      "_view_module": "@jupyter-widgets/base",
      "_view_module_version": "1.2.0",
      "_view_name": "LayoutView",
      "align_content": null,
      "align_items": null,
      "align_self": null,
      "border": null,
      "bottom": null,
      "display": null,
      "flex": null,
      "flex_flow": null,
      "grid_area": null,
      "grid_auto_columns": null,
      "grid_auto_flow": null,
      "grid_auto_rows": null,
      "grid_column": null,
      "grid_gap": null,
      "grid_row": null,
      "grid_template_areas": null,
      "grid_template_columns": null,
      "grid_template_rows": null,
      "height": null,
      "justify_content": null,
      "justify_items": null,
      "left": null,
      "margin": null,
      "max_height": null,
      "max_width": null,
      "min_height": null,
      "min_width": null,
      "object_fit": null,
      "object_position": null,
      "order": null,
      "overflow": null,
      "overflow_x": null,
      "overflow_y": null,
      "padding": null,
      "right": null,
      "top": null,
      "visibility": null,
      "width": null
     }
    },
    "f93d43b298c7499a83a40d69003ffca7": {
     "model_module": "@jupyter-widgets/controls",
     "model_module_version": "1.5.0",
     "model_name": "HTMLModel",
     "state": {
      "_dom_classes": [],
      "_model_module": "@jupyter-widgets/controls",
      "_model_module_version": "1.5.0",
      "_model_name": "HTMLModel",
      "_view_count": null,
      "_view_module": "@jupyter-widgets/controls",
      "_view_module_version": "1.5.0",
      "_view_name": "HTMLView",
      "description": "",
      "description_tooltip": null,
      "layout": "IPY_MODEL_19d5a756458f4de8b2964c8994b839cd",
      "placeholder": "​",
      "style": "IPY_MODEL_9d98e58d1e3e4e1283f82eadd802ce37",
      "value": "Downloading builder script: 100%"
     }
    },
    "fa2c6acc7c424b5ba8ccf80cc1a19768": {
     "model_module": "@jupyter-widgets/base",
     "model_module_version": "1.2.0",
     "model_name": "LayoutModel",
     "state": {
      "_model_module": "@jupyter-widgets/base",
      "_model_module_version": "1.2.0",
      "_model_name": "LayoutModel",
      "_view_count": null,
      "_view_module": "@jupyter-widgets/base",
      "_view_module_version": "1.2.0",
      "_view_name": "LayoutView",
      "align_content": null,
      "align_items": null,
      "align_self": null,
      "border": null,
      "bottom": null,
      "display": null,
      "flex": null,
      "flex_flow": null,
      "grid_area": null,
      "grid_auto_columns": null,
      "grid_auto_flow": null,
      "grid_auto_rows": null,
      "grid_column": null,
      "grid_gap": null,
      "grid_row": null,
      "grid_template_areas": null,
      "grid_template_columns": null,
      "grid_template_rows": null,
      "height": null,
      "justify_content": null,
      "justify_items": null,
      "left": null,
      "margin": null,
      "max_height": null,
      "max_width": null,
      "min_height": null,
      "min_width": null,
      "object_fit": null,
      "object_position": null,
      "order": null,
      "overflow": null,
      "overflow_x": null,
      "overflow_y": null,
      "padding": null,
      "right": null,
      "top": null,
      "visibility": null,
      "width": null
     }
    },
    "fe8281abae804b518fd9467a4f2f33a8": {
     "model_module": "@jupyter-widgets/base",
     "model_module_version": "1.2.0",
     "model_name": "LayoutModel",
     "state": {
      "_model_module": "@jupyter-widgets/base",
      "_model_module_version": "1.2.0",
      "_model_name": "LayoutModel",
      "_view_count": null,
      "_view_module": "@jupyter-widgets/base",
      "_view_module_version": "1.2.0",
      "_view_name": "LayoutView",
      "align_content": null,
      "align_items": null,
      "align_self": null,
      "border": null,
      "bottom": null,
      "display": null,
      "flex": null,
      "flex_flow": null,
      "grid_area": null,
      "grid_auto_columns": null,
      "grid_auto_flow": null,
      "grid_auto_rows": null,
      "grid_column": null,
      "grid_gap": null,
      "grid_row": null,
      "grid_template_areas": null,
      "grid_template_columns": null,
      "grid_template_rows": null,
      "height": null,
      "justify_content": null,
      "justify_items": null,
      "left": null,
      "margin": null,
      "max_height": null,
      "max_width": null,
      "min_height": null,
      "min_width": null,
      "object_fit": null,
      "object_position": null,
      "order": null,
      "overflow": null,
      "overflow_x": null,
      "overflow_y": null,
      "padding": null,
      "right": null,
      "top": null,
      "visibility": null,
      "width": null
     }
    }
   }
  }
 },
 "nbformat": 4,
 "nbformat_minor": 5
}
