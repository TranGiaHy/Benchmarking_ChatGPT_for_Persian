{
 "cells": [
  {
   "cell_type": "code",
   "execution_count": 3,
   "metadata": {},
   "outputs": [],
   "source": [
    "import json\n",
    "import time\n",
    "import pandas as pd\n",
    "from openai import OpenAI\n",
    "from tqdm import tqdm\n",
    "import numpy as np\n",
    "from sklearn.metrics import accuracy_score, f1_score, precision_score, recall_score, classification_report\n",
    "from collections import Counter\n",
    "\n",
    "# Import TẤT CẢ các mẫu prompt từ file prompt.py\n",
    "from prompt import *"
   ]
  },
  {
   "cell_type": "code",
   "execution_count": null,
   "metadata": {},
   "outputs": [
    {
     "name": "stdout",
     "output_type": "stream",
     "text": [
      " Đã tải thành công 190 review.\n",
      " sử dụng 190 review đầu tiên để kiểm tra.\n"
     ]
    }
   ],
   "source": [
    "# API Key\n",
    "api_key = \"...\"  # Thay thế bằng API Key của bạn\n",
    "\n",
    "# 1. Khởi tạo Client với API Key\n",
    "client = OpenAI(api_key=api_key)\n",
    "\n",
    "# 2. Định nghĩa các model và các kịch bản prompt\n",
    "MODELS_TO_COMPARE = [\"gpt-3.5-turbo\", \"gpt-4o-mini\"]\n",
    "PROMPTS_TO_TEST = {\n",
    "    \"English Prompt (Zero-shot)\": ENGLISH_ZERO,\n",
    "    \"English Prompt (1-shot)\": ENGLISH_ONE,\n",
    "    \"English Prompt (3-shot)\": ENGLISH_THREE,\n",
    "    \"Persian Prompt (Zero-shot)\": PERSIAN_ZERO,\n",
    "    \"Persian Prompt (1-shot)\": PERSIAN_ONE,\n",
    "    \"Persian Prompt (3-shot)\": PERSIAN_THREE,\n",
    "}\n",
    "\n",
    "# 3. Tải toàn bộ dữ liệu từ file sentiment.jsonl\n",
    "try:\n",
    "    full_data = []\n",
    "    # Dùng đúng tên file dữ liệu bạn đã cung cấp\n",
    "    with open('sentiment.jsonl', 'r', encoding='utf-8') as reader:\n",
    "        for line in reader:\n",
    "            full_data.append(json.loads(line))\n",
    "    \n",
    "   \n",
    "    SAMPLE_SIZE = 190\n",
    "    all_data = full_data[:SAMPLE_SIZE] \n",
    "    \n",
    "    print(f\" Đã tải thành công {len(full_data)} review.\")\n",
    "    print(f\" sử dụng {len(all_data)} review đầu tiên để kiểm tra.\")\n",
    "\n",
    "except FileNotFoundError:\n",
    "    print(\" Lỗi: Không tìm thấy file 'sentiment.jsonl'.\")"
   ]
  },
  {
   "cell_type": "code",
   "execution_count": 5,
   "metadata": {},
   "outputs": [],
   "source": [
    "def get_answer_from_model(prompt, model_name):\n",
    "    \"\"\"\n",
    "    Hàm này nhận một prompt và tên model, sau đó trả về câu trả lời.\n",
    "    \"\"\"\n",
    "    try:\n",
    "        response = client.chat.completions.create(\n",
    "          model=model_name,\n",
    "          messages=[\n",
    "                {\"role\": \"system\", \"content\": \"You are an expert in sentiment analysis for the Persian language.\"},\n",
    "                {\"role\": \"user\", \"content\": prompt}\n",
    "            ],\n",
    "          temperature=0,\n",
    "          max_tokens=10 \n",
    "        )\n",
    "        return response.choices[0].message.content.strip()\n",
    "    except Exception as e:\n",
    "        print(f\"\\nLỗi khi gọi model {model_name}: {e}\")\n",
    "        return \"ERROR\""
   ]
  },
  {
   "cell_type": "code",
   "execution_count": 6,
   "metadata": {},
   "outputs": [],
   "source": [
    "acceptable_classes = [\n",
    "    \"POSITIVE\",\n",
    "    \"NEGATIVE\",\n",
    "    \"NEUTRAL\",\n",
    "    \"OTHER\"\n",
    "]"
   ]
  },
  {
   "cell_type": "code",
   "execution_count": 7,
   "metadata": {},
   "outputs": [],
   "source": [
    "def post_proccess_response(response):\n",
    "    response = response.upper()\n",
    "    for label in acceptable_classes:\n",
    "        if label in response:\n",
    "            return label\n",
    "    return \"OTHER\""
   ]
  },
  {
   "cell_type": "code",
   "execution_count": 8,
   "metadata": {},
   "outputs": [],
   "source": [
    "def calculate_metrics(actual, predicted):\n",
    "    accuracy = accuracy_score(actual, predicted)\n",
    "    f1 = f1_score(actual, predicted, average='weighted', zero_division=0)\n",
    "    precision = precision_score(actual, predicted, average='weighted', zero_division=0)\n",
    "    recall = recall_score(actual, predicted, average='weighted', zero_division=0)\n",
    "\n",
    "    classes = list(set(actual + predicted))\n",
    "    if 'All Classes' not in classes:\n",
    "        classes.append('All Classes')\n",
    "        \n",
    "    metrics = ['Accuracy', 'F1 Score', 'Precision', 'Recall']\n",
    "    probability_table = pd.DataFrame(index=metrics, columns=classes)\n",
    "\n",
    "    for class_label in classes:\n",
    "        if class_label == 'All Classes':\n",
    "            probability_table[class_label][\"F1 Score\"] = f1\n",
    "            probability_table[class_label][\"Precision\"] = precision\n",
    "            probability_table[class_label][\"Recall\"] = recall\n",
    "        else:\n",
    "            class_precision = precision_score(actual, predicted, labels=[class_label], average='weighted', zero_division=0)\n",
    "            class_recall = recall_score(actual, predicted, labels=[class_label], average='weighted', zero_division=0)\n",
    "            class_f1 = f1_score(actual, predicted, labels=[class_label], average='weighted', zero_division=0)\n",
    "            probability_table[class_label][\"F1 Score\"] = class_f1\n",
    "            probability_table[class_label][\"Precision\"] = class_precision\n",
    "            probability_table[class_label][\"Recall\"] = class_recall\n",
    "            \n",
    "    probability_table.fillna(value=\"-\", inplace = True)\n",
    "    probability_table['All Classes'][\"Accuracy\"] = accuracy\n",
    "    return probability_table"
   ]
  },
  {
   "cell_type": "code",
   "execution_count": 9,
   "metadata": {},
   "outputs": [
    {
     "name": "stdout",
     "output_type": "stream",
     "text": [
      "============== BẮT ĐẦU MODEL: gpt-3.5-turbo ==============\n",
      "--- 🚀 Đang chạy kịch bản: English Prompt (Zero-shot) ---\n"
     ]
    },
    {
     "name": "stderr",
     "output_type": "stream",
     "text": [
      "Querying English Prompt (Zero-shot): 100%|██████████| 190/190 [05:14<00:00,  1.65s/it]\n"
     ]
    },
    {
     "name": "stdout",
     "output_type": "stream",
     "text": [
      "--- 🎉 Hoàn thành thu thập dữ liệu cho kịch bản: English Prompt (Zero-shot) ---\n",
      "\n",
      "--- 🚀 Đang chạy kịch bản: English Prompt (1-shot) ---\n"
     ]
    },
    {
     "name": "stderr",
     "output_type": "stream",
     "text": [
      "Querying English Prompt (1-shot): 100%|██████████| 190/190 [05:08<00:00,  1.62s/it]\n"
     ]
    },
    {
     "name": "stdout",
     "output_type": "stream",
     "text": [
      "--- 🎉 Hoàn thành thu thập dữ liệu cho kịch bản: English Prompt (1-shot) ---\n",
      "\n",
      "--- 🚀 Đang chạy kịch bản: English Prompt (3-shot) ---\n"
     ]
    },
    {
     "name": "stderr",
     "output_type": "stream",
     "text": [
      "Querying English Prompt (3-shot): 100%|██████████| 190/190 [05:12<00:00,  1.65s/it]\n"
     ]
    },
    {
     "name": "stdout",
     "output_type": "stream",
     "text": [
      "--- 🎉 Hoàn thành thu thập dữ liệu cho kịch bản: English Prompt (3-shot) ---\n",
      "\n",
      "--- 🚀 Đang chạy kịch bản: Persian Prompt (Zero-shot) ---\n"
     ]
    },
    {
     "name": "stderr",
     "output_type": "stream",
     "text": [
      "Querying Persian Prompt (Zero-shot): 100%|██████████| 190/190 [05:05<00:00,  1.61s/it]\n"
     ]
    },
    {
     "name": "stdout",
     "output_type": "stream",
     "text": [
      "--- 🎉 Hoàn thành thu thập dữ liệu cho kịch bản: Persian Prompt (Zero-shot) ---\n",
      "\n",
      "--- 🚀 Đang chạy kịch bản: Persian Prompt (1-shot) ---\n"
     ]
    },
    {
     "name": "stderr",
     "output_type": "stream",
     "text": [
      "Querying Persian Prompt (1-shot): 100%|██████████| 190/190 [05:17<00:00,  1.67s/it]\n"
     ]
    },
    {
     "name": "stdout",
     "output_type": "stream",
     "text": [
      "--- 🎉 Hoàn thành thu thập dữ liệu cho kịch bản: Persian Prompt (1-shot) ---\n",
      "\n",
      "--- 🚀 Đang chạy kịch bản: Persian Prompt (3-shot) ---\n"
     ]
    },
    {
     "name": "stderr",
     "output_type": "stream",
     "text": [
      "Querying Persian Prompt (3-shot): 100%|██████████| 190/190 [05:15<00:00,  1.66s/it]\n"
     ]
    },
    {
     "name": "stdout",
     "output_type": "stream",
     "text": [
      "--- 🎉 Hoàn thành thu thập dữ liệu cho kịch bản: Persian Prompt (3-shot) ---\n",
      "\n",
      "============== BẮT ĐẦU MODEL: gpt-4o-mini ==============\n",
      "--- 🚀 Đang chạy kịch bản: English Prompt (Zero-shot) ---\n"
     ]
    },
    {
     "name": "stderr",
     "output_type": "stream",
     "text": [
      "Querying English Prompt (Zero-shot): 100%|██████████| 190/190 [05:23<00:00,  1.70s/it]\n"
     ]
    },
    {
     "name": "stdout",
     "output_type": "stream",
     "text": [
      "--- 🎉 Hoàn thành thu thập dữ liệu cho kịch bản: English Prompt (Zero-shot) ---\n",
      "\n",
      "--- 🚀 Đang chạy kịch bản: English Prompt (1-shot) ---\n"
     ]
    },
    {
     "name": "stderr",
     "output_type": "stream",
     "text": [
      "Querying English Prompt (1-shot): 100%|██████████| 190/190 [05:13<00:00,  1.65s/it]\n"
     ]
    },
    {
     "name": "stdout",
     "output_type": "stream",
     "text": [
      "--- 🎉 Hoàn thành thu thập dữ liệu cho kịch bản: English Prompt (1-shot) ---\n",
      "\n",
      "--- 🚀 Đang chạy kịch bản: English Prompt (3-shot) ---\n"
     ]
    },
    {
     "name": "stderr",
     "output_type": "stream",
     "text": [
      "Querying English Prompt (3-shot): 100%|██████████| 190/190 [05:30<00:00,  1.74s/it]\n"
     ]
    },
    {
     "name": "stdout",
     "output_type": "stream",
     "text": [
      "--- 🎉 Hoàn thành thu thập dữ liệu cho kịch bản: English Prompt (3-shot) ---\n",
      "\n",
      "--- 🚀 Đang chạy kịch bản: Persian Prompt (Zero-shot) ---\n"
     ]
    },
    {
     "name": "stderr",
     "output_type": "stream",
     "text": [
      "Querying Persian Prompt (Zero-shot): 100%|██████████| 190/190 [05:28<00:00,  1.73s/it]\n"
     ]
    },
    {
     "name": "stdout",
     "output_type": "stream",
     "text": [
      "--- 🎉 Hoàn thành thu thập dữ liệu cho kịch bản: Persian Prompt (Zero-shot) ---\n",
      "\n",
      "--- 🚀 Đang chạy kịch bản: Persian Prompt (1-shot) ---\n"
     ]
    },
    {
     "name": "stderr",
     "output_type": "stream",
     "text": [
      "Querying Persian Prompt (1-shot): 100%|██████████| 190/190 [05:40<00:00,  1.79s/it]\n"
     ]
    },
    {
     "name": "stdout",
     "output_type": "stream",
     "text": [
      "--- 🎉 Hoàn thành thu thập dữ liệu cho kịch bản: Persian Prompt (1-shot) ---\n",
      "\n",
      "--- 🚀 Đang chạy kịch bản: Persian Prompt (3-shot) ---\n"
     ]
    },
    {
     "name": "stderr",
     "output_type": "stream",
     "text": [
      "Querying Persian Prompt (3-shot): 100%|██████████| 190/190 [06:14<00:00,  1.97s/it]"
     ]
    },
    {
     "name": "stdout",
     "output_type": "stream",
     "text": [
      "--- 🎉 Hoàn thành thu thập dữ liệu cho kịch bản: Persian Prompt (3-shot) ---\n",
      "\n",
      "✨ Đã hoàn thành tất cả các thử nghiệm.\n"
     ]
    },
    {
     "name": "stderr",
     "output_type": "stream",
     "text": [
      "\n"
     ]
    }
   ],
   "source": [
    "# Dictionary để lưu kết quả cuối cùng\n",
    "final_results = {}\n",
    "\n",
    "# Bắt đầu vòng lặp lớn\n",
    "for model_name in MODELS_TO_COMPARE:\n",
    "    print(f\"============== BẮT ĐẦU MODEL: {model_name} ==============\")\n",
    "    final_results[model_name] = {}\n",
    "    \n",
    "    # Vòng lặp bên trong: chạy qua từng loại prompt\n",
    "    for prompt_name, prompt_template in PROMPTS_TO_TEST.items():\n",
    "        print(f\"--- 🚀 Đang chạy kịch bản: {prompt_name} ---\")\n",
    "        \n",
    "        model_predictions_raw = []\n",
    "        \n",
    "        # Chạy qua toàn bộ dữ liệu mẫu\n",
    "        for sample in tqdm(all_data, desc=f\"Querying {prompt_name}\"):\n",
    "            # Lưu ý: file prompt.py này dùng {review}\n",
    "            prompt = prompt_template.format(review=sample['review'])\n",
    "            answer = get_answer_from_model(prompt, model_name)\n",
    "            model_predictions_raw.append(answer)\n",
    "            time.sleep(1)\n",
    "\n",
    "        # Lưu lại danh sách các câu trả lời thô của model\n",
    "        final_results[model_name][prompt_name] = model_predictions_raw\n",
    "        print(f\"--- 🎉 Hoàn thành thu thập dữ liệu cho kịch bản: {prompt_name} ---\\n\")\n",
    "\n",
    "print(\"✨ Đã hoàn thành tất cả các thử nghiệm.\")"
   ]
  },
  {
   "cell_type": "code",
   "execution_count": 13,
   "metadata": {},
   "outputs": [
    {
     "name": "stdout",
     "output_type": "stream",
     "text": [
      "جمله زیر نظر یک شخص است. این جمله به زبان فارسی است. بار یا احساس موجود در این جمله را شناسایی کن.\n",
      "پاسخ‌ های ممکن کلمات روبرو هستند: POSITIVE, NEUTRAL, NEGATIVE, OTHER.\n",
      "زمانی که جمله دارای احساس خاصی نیست یا شامل احساسات مختلف است از OTHER استفاده کن\n",
      "\n",
      "مثال ها:\n",
      "\n",
      "مثال 1:\n",
      "نظر: طعم بد . بوی بد . فقط قیمتش خوبه .\n",
      "احساس: NEGATIVE\n",
      "\n",
      "مثال 2:\n",
      "نظر: بعد از ۵ دقیقه مزه اش رو از دست میده\n",
      "احساس: NEGATIVE\n",
      "\n",
      "مثال 3:\n",
      "نظر: طرفش خیلی نازکه تو دست نمیشه نگه داشت\n",
      "احساس: NEGATIVE\n",
      "\n",
      "مثال 4:\n",
      "نظر: اول هلو سان کوییک بعد یه مدل از سن ایچ\n",
      "احساس: NEUTRAL\n",
      "\n",
      "مثال 5:\n",
      "نظر: با بقیه چایی ها هیچ فرقی نداره چه طعم چه رنگ\n",
      "احساس: NEUTRAL\n",
      "\n",
      "مثال 6:\n",
      "نظر: در بسته بندی بهتری اگر عرضه شود خیلی بهتر است\n",
      "احساس: NEUTRAL\n",
      "\n",
      "مثال 7:\n",
      "نظر: خوبه مثل بعضی از مربا ها ابکی نیست\n",
      "احساس: POSITIVE\n",
      "\n",
      "مثال 8:\n",
      "نظر: خوب بود و در باز بودن و طعم خوبی داشت\n",
      "احساس: POSITIVE\n",
      "\n",
      "مثال 9:\n",
      "نظر: عطر و طعمش سلیقه ایه . من که راضی بودم\n",
      "احساس: POSITIVE\n",
      "\n",
      "مثال 10:\n",
      "نظر: خیلی خوب بود اما ظرفش یه کم پر دردسر بود .\n",
      "احساس: OTHER\n",
      "\n",
      "مثال 11:\n",
      "نظر: مزه اش یه جور خاصه تند تند نیس ولی متفاوته\n",
      "احساس: OTHER\n",
      "\n",
      "مثال 12:\n",
      "نظر: با اینکه آب و روغنش زیاد بود اما خوشمزه بود\n",
      "احساس: OTHER\n",
      "\n",
      "نظر: بعنوان شخصی که همیشه درگیر کار هست و فرصت درست کردن قهوه نداره خیلی عالیه ، کاش بسته های تعداد بیشتر با تنوع ساعتی که داره تولید بشه مثلا ۲۴ عددی مولتی\n",
      "احساس:\n",
      "\n"
     ]
    }
   ],
   "source": [
    "print(prompt)"
   ]
  },
  {
   "cell_type": "code",
   "execution_count": 12,
   "metadata": {},
   "outputs": [
    {
     "name": "stdout",
     "output_type": "stream",
     "text": [
      "\n",
      "\n",
      "📊=============== BÁO CÁO CHI TIẾT HIỆU NĂNG PHÂN TÍCH CẢM XÚC ===============📊\n",
      "\n",
      "\n",
      "==============================\n",
      " Báo cáo cho Model: gpt-3.5-turbo \n",
      "==============================\n",
      "\n",
      "--- Kịch bản: English Prompt (Zero-shot) ---\n",
      " F1-score (Weighted): 81.91%\n",
      "              precision    recall  f1-score   support\n",
      "\n",
      "    POSITIVE       0.92      0.92      0.92        97\n",
      "    NEGATIVE       0.79      0.88      0.83        66\n",
      "     NEUTRAL       0.25      1.00      0.40         1\n",
      "       OTHER       0.56      0.35      0.43        26\n",
      "\n",
      "    accuracy                           0.83       190\n",
      "   macro avg       0.63      0.79      0.65       190\n",
      "weighted avg       0.82      0.83      0.82       190\n",
      "\n",
      "\n",
      "--- Kịch bản: English Prompt (1-shot) ---\n",
      " F1-score (Weighted): 87.03%\n",
      "              precision    recall  f1-score   support\n",
      "\n",
      "    POSITIVE       0.96      0.91      0.93        97\n",
      "    NEGATIVE       0.89      0.89      0.89        66\n",
      "     NEUTRAL       0.20      1.00      0.33         1\n",
      "       OTHER       0.59      0.62      0.60        26\n",
      "\n",
      "    accuracy                           0.86       190\n",
      "   macro avg       0.66      0.85      0.69       190\n",
      "weighted avg       0.88      0.86      0.87       190\n",
      "\n",
      "\n",
      "--- Kịch bản: English Prompt (3-shot) ---\n",
      " F1-score (Weighted): 85.16%\n",
      "              precision    recall  f1-score   support\n",
      "\n",
      "    POSITIVE       0.96      0.88      0.91        97\n",
      "    NEGATIVE       0.92      0.89      0.91        66\n",
      "     NEUTRAL       0.00      0.00      0.00         1\n",
      "       OTHER       0.48      0.54      0.51        26\n",
      "\n",
      "    accuracy                           0.83       190\n",
      "   macro avg       0.59      0.58      0.58       190\n",
      "weighted avg       0.87      0.83      0.85       190\n",
      "\n",
      "\n",
      "--- Kịch bản: Persian Prompt (Zero-shot) ---\n",
      " F1-score (Weighted): 81.06%\n",
      "              precision    recall  f1-score   support\n",
      "\n",
      "    POSITIVE       0.94      0.87      0.90        97\n",
      "    NEGATIVE       0.88      0.79      0.83        66\n",
      "     NEUTRAL       0.08      1.00      0.14         1\n",
      "       OTHER       0.41      0.46      0.44        26\n",
      "\n",
      "    accuracy                           0.78       190\n",
      "   macro avg       0.58      0.78      0.58       190\n",
      "weighted avg       0.85      0.78      0.81       190\n",
      "\n",
      "\n",
      "--- Kịch bản: Persian Prompt (1-shot) ---\n",
      " F1-score (Weighted): 84.29%\n",
      "              precision    recall  f1-score   support\n",
      "\n",
      "    POSITIVE       0.93      0.88      0.90        97\n",
      "    NEGATIVE       0.88      0.86      0.87        66\n",
      "     NEUTRAL       0.50      1.00      0.67         1\n",
      "       OTHER       0.50      0.62      0.55        26\n",
      "\n",
      "    accuracy                           0.84       190\n",
      "   macro avg       0.70      0.84      0.75       190\n",
      "weighted avg       0.85      0.84      0.84       190\n",
      "\n",
      "\n",
      "--- Kịch bản: Persian Prompt (3-shot) ---\n",
      " F1-score (Weighted): 78.18%\n",
      "              precision    recall  f1-score   support\n",
      "\n",
      "    POSITIVE       0.97      0.72      0.83        97\n",
      "    NEGATIVE       0.93      0.77      0.84        66\n",
      "     NEUTRAL       0.00      0.00      0.00         1\n",
      "       OTHER       0.34      0.81      0.48        26\n",
      "\n",
      "    accuracy                           0.75       190\n",
      "   macro avg       0.56      0.58      0.54       190\n",
      "weighted avg       0.87      0.75      0.78       190\n",
      "\n",
      "\n",
      "\n",
      "==============================\n",
      " Báo cáo cho Model: gpt-4o-mini \n",
      "==============================\n",
      "\n",
      "--- Kịch bản: English Prompt (Zero-shot) ---\n",
      " F1-score (Weighted): 87.95%\n",
      "              precision    recall  f1-score   support\n",
      "\n",
      "    POSITIVE       0.99      0.84      0.91        97\n",
      "    NEGATIVE       0.97      0.91      0.94        66\n",
      "     NEUTRAL       0.06      1.00      0.11         1\n",
      "       OTHER       0.64      0.69      0.67        26\n",
      "\n",
      "    accuracy                           0.84       190\n",
      "   macro avg       0.66      0.86      0.65       190\n",
      "weighted avg       0.93      0.84      0.88       190\n",
      "\n",
      "\n",
      "--- Kịch bản: English Prompt (1-shot) ---\n",
      " F1-score (Weighted): 85.81%\n",
      "              precision    recall  f1-score   support\n",
      "\n",
      "    POSITIVE       0.98      0.81      0.89        97\n",
      "    NEGATIVE       0.92      0.92      0.92        66\n",
      "     NEUTRAL       0.00      0.00      0.00         1\n",
      "       OTHER       0.53      0.73      0.61        26\n",
      "\n",
      "    accuracy                           0.84       190\n",
      "   macro avg       0.61      0.62      0.61       190\n",
      "weighted avg       0.89      0.84      0.86       190\n",
      "\n",
      "\n",
      "--- Kịch bản: English Prompt (3-shot) ---\n",
      " F1-score (Weighted): 86.46%\n",
      "              precision    recall  f1-score   support\n",
      "\n",
      "    POSITIVE       0.99      0.78      0.87        97\n",
      "    NEGATIVE       0.95      0.92      0.94        66\n",
      "     NEUTRAL       0.00      0.00      0.00         1\n",
      "       OTHER       0.56      0.85      0.68        26\n",
      "\n",
      "    accuracy                           0.84       190\n",
      "   macro avg       0.63      0.64      0.62       190\n",
      "weighted avg       0.91      0.84      0.86       190\n",
      "\n",
      "\n",
      "--- Kịch bản: Persian Prompt (Zero-shot) ---\n",
      " F1-score (Weighted): 86.83%\n",
      "              precision    recall  f1-score   support\n",
      "\n",
      "    POSITIVE       0.99      0.79      0.88        97\n",
      "    NEGATIVE       0.98      0.88      0.93        66\n",
      "     NEUTRAL       0.04      1.00      0.08         1\n",
      "       OTHER       0.68      0.73      0.70        26\n",
      "\n",
      "    accuracy                           0.82       190\n",
      "   macro avg       0.67      0.85      0.65       190\n",
      "weighted avg       0.94      0.82      0.87       190\n",
      "\n",
      "\n",
      "--- Kịch bản: Persian Prompt (1-shot) ---\n",
      " F1-score (Weighted): 84.83%\n",
      "              precision    recall  f1-score   support\n",
      "\n",
      "    POSITIVE       0.99      0.78      0.87        97\n",
      "    NEGATIVE       0.94      0.91      0.92        66\n",
      "     NEUTRAL       0.00      0.00      0.00         1\n",
      "       OTHER       0.49      0.77      0.60        26\n",
      "\n",
      "    accuracy                           0.82       190\n",
      "   macro avg       0.60      0.62      0.60       190\n",
      "weighted avg       0.90      0.82      0.85       190\n",
      "\n",
      "\n",
      "--- Kịch bản: Persian Prompt (3-shot) ---\n",
      " F1-score (Weighted): 82.21%\n",
      "              precision    recall  f1-score   support\n",
      "\n",
      "    POSITIVE       0.99      0.72      0.83        97\n",
      "    NEGATIVE       0.94      0.91      0.92        66\n",
      "     NEUTRAL       0.00      0.00      0.00         1\n",
      "       OTHER       0.43      0.77      0.56        26\n",
      "\n",
      "    accuracy                           0.79       190\n",
      "   macro avg       0.59      0.60      0.58       190\n",
      "weighted avg       0.89      0.79      0.82       190\n",
      "\n",
      "\n",
      "\n",
      "📊=============== BẢNG TÓM TẮT F1-SCORE ===============📊\n",
      "| Prompt / Kịch bản          | gpt-3.5-turbo   | gpt-4o-mini   |\n",
      "|:---------------------------|:----------------|:--------------|\n",
      "| English Prompt (Zero-shot) | 81.91%          | 87.95%        |\n",
      "| English Prompt (1-shot)    | 87.03%          | 85.81%        |\n",
      "| English Prompt (3-shot)    | 85.16%          | 86.46%        |\n",
      "| Persian Prompt (Zero-shot) | 81.06%          | 86.83%        |\n",
      "| Persian Prompt (1-shot)    | 84.29%          | 84.83%        |\n",
      "| Persian Prompt (3-shot)    | 78.18%          | 82.21%        |\n"
     ]
    },
    {
     "name": "stderr",
     "output_type": "stream",
     "text": [
      "C:\\Users\\GiaHyTran\\AppData\\Local\\Temp\\ipykernel_17496\\3825645946.py:41: FutureWarning: DataFrame.applymap has been deprecated. Use DataFrame.map instead.\n",
      "  summary_df = summary_df.applymap(lambda x: f\"{x:.2f}%\" if isinstance(x, (float, int)) else x)\n"
     ]
    }
   ],
   "source": [
    "from sklearn.metrics import classification_report, f1_score\n",
    "import pandas as pd\n",
    "\n",
    "# Danh sách các nhãn hợp lệ (đảm bảo biến này tồn tại)\n",
    "acceptable_classes = [\n",
    "    \"POSITIVE\",\n",
    "    \"NEGATIVE\",\n",
    "    \"NEUTRAL\",\n",
    "    \"OTHER\"\n",
    "]\n",
    "\n",
    "# SỬA LỖI Ở ĐÂY: Lấy đáp án đúng từ biến 'all_data'\n",
    "true_answers = [sample['output'] for sample in all_data]\n",
    "\n",
    "# DataFrame để lưu trữ chỉ số F1-score cho bảng tóm tắt\n",
    "f1_results = {}\n",
    "\n",
    "print(\"\\n\\n📊=============== BÁO CÁO CHI TIẾT HIỆU NĂNG PHÂN TÍCH CẢM XÚC ===============📊\")\n",
    "\n",
    "# Vòng lặp qua kết quả của từng model\n",
    "for model_name, prompt_results in final_results.items():\n",
    "    f1_results[model_name] = {}\n",
    "    print(f\"\\n\\n{'='*30}\\n Báo cáo cho Model: {model_name} \\n{'='*30}\")\n",
    "    \n",
    "    # Vòng lặp qua từng kịch bản prompt của model đó\n",
    "    for prompt_name, raw_predictions in prompt_results.items():\n",
    "        # Sử dụng hàm post_proccess_response để chuẩn hóa dự đoán\n",
    "        processed_predictions = [post_proccess_response(pred) for pred in raw_predictions]\n",
    "        \n",
    "        # Tính toán F1-score (weighted) để lưu lại\n",
    "        f1 = f1_score(true_answers, processed_predictions, average='weighted', zero_division=0) * 100\n",
    "        f1_results[model_name][prompt_name] = f1\n",
    "        \n",
    "        print(f\"\\n--- Kịch bản: {prompt_name} ---\")\n",
    "        print(f\" F1-score (Weighted): {f1:.2f}%\")\n",
    "        # In báo cáo chi tiết (precision, recall, f1-score) cho kịch bản này\n",
    "        print(classification_report(true_answers, processed_predictions, zero_division=0, labels=acceptable_classes))\n",
    "\n",
    "# Tạo DataFrame từ kết quả đã thu thập\n",
    "summary_df = pd.DataFrame(f1_results)\n",
    "summary_df = summary_df.applymap(lambda x: f\"{x:.2f}%\" if isinstance(x, (float, int)) else x)\n",
    "summary_df.columns.name = \"Model\"\n",
    "summary_df.index.name = \"Prompt / Kịch bản\"\n",
    "\n",
    "print(\"\\n\\n📊=============== BẢNG TÓM TẮT F1-SCORE ===============📊\")\n",
    "print(summary_df.to_markdown())"
   ]
  },
  {
   "cell_type": "code",
   "execution_count": 14,
   "metadata": {},
   "outputs": [
    {
     "name": "stdout",
     "output_type": "stream",
     "text": [
      "\n",
      "\n",
      "📈=============== BIỂU ĐỒ SO SÁNH HIỆU SUẤT TRUNG BÌNH (SENTIMENT) ===============📈\n"
     ]
    },
    {
     "data": {
      "image/png": "[encoded data removed]",
      "text/plain": [
       "<Figure size 800x600 with 1 Axes>"
      ]
     },
     "metadata": {},
     "output_type": "display_data"
    }
   ],
   "source": [
    "import pandas as pd\n",
    "import matplotlib.pyplot as plt\n",
    "import seaborn as sns\n",
    "\n",
    "sentiment_data = {\n",
    "    'Experiment': [\n",
    "        'English Prompt (Zero-shot)', 'Persian Prompt (Zero-shot)',\n",
    "        'English Prompt (1-shot)', 'Persian Prompt (1-shot)',\n",
    "        'English Prompt (3-shot)', 'Persian Prompt (3-shot)'\n",
    "    ] * 2,\n",
    "    'Model': [\n",
    "        'gpt-3.5-turbo'] * 6 + ['gpt-4o-mini'] * 6\n",
    "    ,\n",
    "    'F1-Score': [\n",
    "        # gpt-3.5-turbo scores (đã sắp xếp lại)\n",
    "        81.91, 81.06, 87.03, 84.29, 85.16, 78.18,\n",
    "        # gpt-4o-mini scores (lấy từ bảng của bạn, đã sắp xếp lại)\n",
    "        85.49, 86.83, 85.74, 84.83, 86.46, 82.21\n",
    "    ]\n",
    "}\n",
    "\n",
    "df_sentiment = pd.DataFrame(sentiment_data)\n",
    "\n",
    "print(\"\\n\\n📈=============== BIỂU ĐỒ SO SÁNH HIỆU SUẤT TRUNG BÌNH (SENTIMENT) ===============📈\")\n",
    "\n",
    "# Nhóm theo model và tính điểm F1-score trung bình\n",
    "df_summary = df_sentiment.groupby('Model')['F1-Score'].mean().reset_index()\n",
    "\n",
    "# Vẽ biểu đồ\n",
    "plt.figure(figsize=(8, 6))\n",
    "sns.barplot(x='Model', y='F1-Score', data=df_summary, hue='Model', palette='YlGnBu', legend=False)\n",
    "\n",
    "# Tùy chỉnh biểu đồ\n",
    "plt.title('Average Performance Comparison (Sentiment Analysis)', fontsize=16)\n",
    "plt.ylabel('Average F1-Score (%)', fontsize=12)\n",
    "plt.xlabel('Model', fontsize=12)\n",
    "plt.ylim(0, 100)\n",
    "plt.grid(axis='y', linestyle='--', alpha=0.7)\n",
    "\n",
    "# Hiển thị giá trị trên mỗi cột\n",
    "for p in plt.gca().patches:\n",
    "    plt.gca().annotate(f\"{p.get_height():.2f}%\", (p.get_x() + p.get_width() / 2., p.get_height()),\n",
    "                       ha='center', va='center', fontsize=12, color='black', xytext=(0, 5),\n",
    "                       textcoords='offset points')\n",
    "\n",
    "plt.show()"
   ]
  },
  {
   "cell_type": "code",
   "execution_count": 15,
   "metadata": {},
   "outputs": [
    {
     "name": "stdout",
     "output_type": "stream",
     "text": [
      "\n",
      "\n",
      "📊=============== BẢNG TÓM TẮT HIỆU SUẤT CHI TIẾT (SENTIMENT) ===============📊\n",
      "| Experiment                 |   gpt-3.5-turbo |   gpt-4o-mini |\n",
      "|:---------------------------|----------------:|--------------:|\n",
      "| English Prompt (Zero-shot) |           81.91 |         85.49 |\n",
      "| Persian Prompt (Zero-shot) |           81.06 |         86.83 |\n",
      "| English Prompt (1-shot)    |           87.03 |         85.74 |\n",
      "| Persian Prompt (1-shot)    |           84.29 |         84.83 |\n",
      "| English Prompt (3-shot)    |           85.16 |         86.46 |\n",
      "| Persian Prompt (3-shot)    |           78.18 |         82.21 |\n"
     ]
    },
    {
     "name": "stderr",
     "output_type": "stream",
     "text": [
      "C:\\Users\\GiaHyTran\\AppData\\Local\\Temp\\ipykernel_17496\\1108150414.py:14: FutureWarning: The default value of observed=False is deprecated and will change to observed=True in a future version of pandas. Specify observed=False to silence this warning and retain the current behavior\n",
      "  pivot_detailed = df_sentiment.pivot_table(index='Experiment', columns='Model', values='F1-Score')\n"
     ]
    }
   ],
   "source": [
    "# Hiển thị bảng tóm tắt chi tiết\n",
    "print(\"\\n\\n📊=============== BẢNG TÓM TẮT HIỆU SUẤT CHI TIẾT (SENTIMENT) ===============📊\")\n",
    "# Tạo thứ tự mong muốn cho các hàng\n",
    "prompt_order = [\n",
    "    'English Prompt (Zero-shot)', 'Persian Prompt (Zero-shot)',\n",
    "    'English Prompt (1-shot)', 'Persian Prompt (1-shot)',\n",
    "    'English Prompt (3-shot)', 'Persian Prompt (3-shot)'\n",
    "]\n",
    "# Sắp xếp lại DataFrame theo thứ tự đã định\n",
    "df_sentiment['Experiment'] = pd.Categorical(df_sentiment['Experiment'], categories=prompt_order, ordered=True)\n",
    "df_sentiment = df_sentiment.sort_values('Experiment')\n",
    "\n",
    "# Tạo bảng pivot\n",
    "pivot_detailed = df_sentiment.pivot_table(index='Experiment', columns='Model', values='F1-Score')\n",
    "print(pivot_detailed.to_markdown(floatfmt=\".2f\"))"
   ]
  }
 ],
 "metadata": {
  "kernelspec": {
   "display_name": "Python 3",
   "language": "python",
   "name": "python3"
  },
  "language_info": {
   "codemirror_mode": {
    "name": "ipython",
    "version": 3
   },
   "file_extension": ".py",
   "mimetype": "text/x-python",
   "name": "python",
   "nbconvert_exporter": "python",
   "pygments_lexer": "ipython3",
   "version": "3.10.0"
  }
 },
 "nbformat": 4,
 "nbformat_minor": 2
}
