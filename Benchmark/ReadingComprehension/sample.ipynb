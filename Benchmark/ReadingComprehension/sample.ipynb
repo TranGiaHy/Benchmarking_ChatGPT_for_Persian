{
  "cells": [
    {
      "cell_type": "markdown",
      "metadata": {
        "id": "dHFk5yT_g1Gp"
      },
      "source": [
        "Given a sample"
      ]
    },
    {
      "cell_type": "code",
      "execution_count": null,
      "metadata": {},
      "outputs": [],
      "source": [
        "# Gỡ cài đặt các phiên bản có thể gây xung đột để làm sạch môi trường\n",
        "!pip uninstall -y numpy pandas scikit-learn hazm\n",
        "\n",
        "# Cài đặt lại các thư viện theo đúng thứ tự, bắt đầu với numpy\n",
        "!pip install numpy\n",
        "!pip install pandas scikit-learn\n",
        "!pip install -q hazm evaluate"
      ]
    },
    {
      "cell_type": "code",
      "execution_count": 1,
      "metadata": {},
      "outputs": [],
      "source": [
        "import json\n",
        "import time\n",
        "import pandas as pd\n",
        "from openai import OpenAI\n",
        "from tqdm import tqdm\n",
        "import numpy as np\n",
        "\n",
        "# Import TẤT CẢ các mẫu prompt từ file prompt.py\n",
        "from prompt import *"
      ]
    },
    {
      "cell_type": "code",
      "execution_count": null,
      "metadata": {},
      "outputs": [
        {
          "name": "stdout",
          "output_type": "stream",
          "text": [
            " Đã tải thành công 200 cặp văn bản-câu hỏi.\n",
            " sử dụng 200 mẫu để kiểm tra.\n"
          ]
        }
      ],
      "source": [
        "# !!! QUAN TRỌNG: Hãy điền API Key của bạn vào đây\n",
        "api_key = \"...\"  # Thay thế bằng API Key của bạn\n",
        "\n",
        "# 1. Khởi tạo Client với API Key\n",
        "client = OpenAI(api_key=api_key)\n",
        "\n",
        "# 2. Định nghĩa các model và các kịch bản prompt\n",
        "MODELS_TO_COMPARE = [\"gpt-3.5-turbo\", \"gpt-4o-mini\"]\n",
        "PROMPTS_TO_TEST = {\n",
        "    \"English Prompt (Zero-shot)\": ENGLISH_ZERO,\n",
        "    \"English Prompt (1-shot)\": ENGLISH_ONE,\n",
        "    \"English Prompt (3-shot)\": ENGLISH_THREE,\n",
        "    \"Persian Prompt (Zero-shot)\": PERSIAN_ZERO,\n",
        "    \"Persian Prompt (1-shot)\": PERSIAN_ONE,\n",
        "    \"Persian Prompt (3-shot)\": PERSIAN_THREE,\n",
        "}\n",
        "\n",
        "# 3. Tải toàn bộ dữ liệu từ file RC.jsonl\n",
        "try:\n",
        "    full_data = []\n",
        "    with open('RC.jsonl', 'r', encoding='utf-8') as reader:\n",
        "        for line in reader:\n",
        "            full_data.append(json.loads(line))\n",
        "    \n",
        "    # === Lấy 10 mẫu để kiểm tra ===\n",
        "    SAMPLE_SIZE = 200\n",
        "    all_data = full_data[:SAMPLE_SIZE] \n",
        "    \n",
        "    print(f\" Đã tải thành công {len(full_data)} cặp văn bản-câu hỏi.\")\n",
        "    print(f\" sử dụng {len(all_data)} mẫu để kiểm tra.\")\n",
        "\n",
        "except FileNotFoundError:\n",
        "    print(\" Lỗi: Không tìm thấy file 'RC.jsonl'.\")"
      ]
    },
    {
      "cell_type": "code",
      "execution_count": 3,
      "metadata": {},
      "outputs": [],
      "source": [
        "from hazm import Normalizer\n",
        "\n",
        "def get_answer_from_model(prompt, model_name):\n",
        "    \"\"\"\n",
        "    Hàm này nhận một prompt và tên model, sau đó trả về câu trả lời.\n",
        "    \"\"\"\n",
        "    try:\n",
        "        response = client.chat.completions.create(\n",
        "          model=model_name,\n",
        "          messages=[\n",
        "                {\"role\": \"system\", \"content\": \"You are a helpful assistant. Answer the question based on the provided context.\"},\n",
        "                {\"role\": \"user\", \"content\": prompt}\n",
        "            ],\n",
        "          temperature=0,\n",
        "          max_tokens=256\n",
        "        )\n",
        "        return response.choices[0].message.content.strip()\n",
        "    except Exception as e:\n",
        "        print(f\"\\nLỗi khi gọi model {model_name}: {e}\")\n",
        "        return \"ERROR\""
      ]
    },
    {
      "cell_type": "code",
      "execution_count": 4,
      "metadata": {},
      "outputs": [],
      "source": [
        "def preprocess_text(s, normalizer):\n",
        "    def normalize(text):\n",
        "        text = text.replace(\"پاسخ:\",\"\")\n",
        "        return normalizer.normalize(text)\n",
        "\n",
        "    def remove_punc_stopword(text):\n",
        "        exclude = [\"?\",\".\",\"!\",\"؟\",\":\",\"،\",\")\",\"(\",\"...\"]\n",
        "        return \"\".join(ch for ch in text if ch not in exclude)\n",
        "    \n",
        "    return normalize(remove_punc_stopword(s))"
      ]
    },
    {
      "cell_type": "code",
      "execution_count": 5,
      "metadata": {},
      "outputs": [],
      "source": [
        "def compute_exact_match(prediction, truth, normalizer):\n",
        "    # Đã tích hợp normalizer vào hàm\n",
        "    return int(preprocess_text(prediction, normalizer) == preprocess_text(truth, normalizer))"
      ]
    },
    {
      "cell_type": "code",
      "execution_count": 6,
      "metadata": {},
      "outputs": [],
      "source": [
        "def compute_f1(prediction, truth):\n",
        "    pred_tokens = prediction.split()\n",
        "    truth_tokens = truth.split()\n",
        "\n",
        "    if len(pred_tokens) == 0 or len(truth_tokens) == 0:\n",
        "        return int(pred_tokens == truth_tokens)\n",
        "\n",
        "    common_tokens = set(pred_tokens) & set(truth_tokens)\n",
        "\n",
        "    if len(common_tokens) == 0:\n",
        "        return 0\n",
        "\n",
        "    prec = len(common_tokens) / len(pred_tokens)\n",
        "    rec = len(common_tokens) / len(truth_tokens)\n",
        "\n",
        "    return 2 * (prec * rec) / (prec + rec)"
      ]
    },
    {
      "cell_type": "code",
      "execution_count": 7,
      "metadata": {},
      "outputs": [
        {
          "name": "stdout",
          "output_type": "stream",
          "text": [
            "============== BẮT ĐẦU MODEL: gpt-3.5-turbo ==============\n",
            "--- Đang chạy kịch bản: English Prompt (Zero-shot) ---\n"
          ]
        },
        {
          "name": "stderr",
          "output_type": "stream",
          "text": [
            "Querying English Prompt (Zero-shot): 100%|██████████| 200/200 [06:27<00:00,  1.94s/it]\n"
          ]
        },
        {
          "name": "stdout",
          "output_type": "stream",
          "text": [
            "--- Hoàn thành thu thập dữ liệu cho kịch bản: English Prompt (Zero-shot) ---\n",
            "\n",
            "--- Đang chạy kịch bản: English Prompt (1-shot) ---\n"
          ]
        },
        {
          "name": "stderr",
          "output_type": "stream",
          "text": [
            "Querying English Prompt (1-shot): 100%|██████████| 200/200 [06:09<00:00,  1.85s/it]\n"
          ]
        },
        {
          "name": "stdout",
          "output_type": "stream",
          "text": [
            "--- Hoàn thành thu thập dữ liệu cho kịch bản: English Prompt (1-shot) ---\n",
            "\n",
            "--- Đang chạy kịch bản: English Prompt (3-shot) ---\n"
          ]
        },
        {
          "name": "stderr",
          "output_type": "stream",
          "text": [
            "Querying English Prompt (3-shot): 100%|██████████| 200/200 [06:15<00:00,  1.88s/it]\n"
          ]
        },
        {
          "name": "stdout",
          "output_type": "stream",
          "text": [
            "--- Hoàn thành thu thập dữ liệu cho kịch bản: English Prompt (3-shot) ---\n",
            "\n",
            "--- Đang chạy kịch bản: Persian Prompt (Zero-shot) ---\n"
          ]
        },
        {
          "name": "stderr",
          "output_type": "stream",
          "text": [
            "Querying Persian Prompt (Zero-shot): 100%|██████████| 200/200 [06:54<00:00,  2.07s/it]\n"
          ]
        },
        {
          "name": "stdout",
          "output_type": "stream",
          "text": [
            "--- Hoàn thành thu thập dữ liệu cho kịch bản: Persian Prompt (Zero-shot) ---\n",
            "\n",
            "--- Đang chạy kịch bản: Persian Prompt (1-shot) ---\n"
          ]
        },
        {
          "name": "stderr",
          "output_type": "stream",
          "text": [
            "Querying Persian Prompt (1-shot): 100%|██████████| 200/200 [06:28<00:00,  1.94s/it]\n"
          ]
        },
        {
          "name": "stdout",
          "output_type": "stream",
          "text": [
            "--- Hoàn thành thu thập dữ liệu cho kịch bản: Persian Prompt (1-shot) ---\n",
            "\n",
            "--- Đang chạy kịch bản: Persian Prompt (3-shot) ---\n"
          ]
        },
        {
          "name": "stderr",
          "output_type": "stream",
          "text": [
            "Querying Persian Prompt (3-shot): 100%|██████████| 200/200 [16:22<00:00,  4.91s/it]   \n"
          ]
        },
        {
          "name": "stdout",
          "output_type": "stream",
          "text": [
            "--- Hoàn thành thu thập dữ liệu cho kịch bản: Persian Prompt (3-shot) ---\n",
            "\n",
            "============== BẮT ĐẦU MODEL: gpt-4o-mini ==============\n",
            "--- Đang chạy kịch bản: English Prompt (Zero-shot) ---\n"
          ]
        },
        {
          "name": "stderr",
          "output_type": "stream",
          "text": [
            "Querying English Prompt (Zero-shot): 100%|██████████| 200/200 [06:44<00:00,  2.02s/it]\n"
          ]
        },
        {
          "name": "stdout",
          "output_type": "stream",
          "text": [
            "--- Hoàn thành thu thập dữ liệu cho kịch bản: English Prompt (Zero-shot) ---\n",
            "\n",
            "--- Đang chạy kịch bản: English Prompt (1-shot) ---\n"
          ]
        },
        {
          "name": "stderr",
          "output_type": "stream",
          "text": [
            "Querying English Prompt (1-shot): 100%|██████████| 200/200 [06:50<00:00,  2.05s/it]\n"
          ]
        },
        {
          "name": "stdout",
          "output_type": "stream",
          "text": [
            "--- Hoàn thành thu thập dữ liệu cho kịch bản: English Prompt (1-shot) ---\n",
            "\n",
            "--- Đang chạy kịch bản: English Prompt (3-shot) ---\n"
          ]
        },
        {
          "name": "stderr",
          "output_type": "stream",
          "text": [
            "Querying English Prompt (3-shot): 100%|██████████| 200/200 [06:38<00:00,  1.99s/it]\n"
          ]
        },
        {
          "name": "stdout",
          "output_type": "stream",
          "text": [
            "--- Hoàn thành thu thập dữ liệu cho kịch bản: English Prompt (3-shot) ---\n",
            "\n",
            "--- Đang chạy kịch bản: Persian Prompt (Zero-shot) ---\n"
          ]
        },
        {
          "name": "stderr",
          "output_type": "stream",
          "text": [
            "Querying Persian Prompt (Zero-shot): 100%|██████████| 200/200 [06:41<00:00,  2.01s/it]\n"
          ]
        },
        {
          "name": "stdout",
          "output_type": "stream",
          "text": [
            "--- Hoàn thành thu thập dữ liệu cho kịch bản: Persian Prompt (Zero-shot) ---\n",
            "\n",
            "--- Đang chạy kịch bản: Persian Prompt (1-shot) ---\n"
          ]
        },
        {
          "name": "stderr",
          "output_type": "stream",
          "text": [
            "Querying Persian Prompt (1-shot): 100%|██████████| 200/200 [06:21<00:00,  1.91s/it]\n"
          ]
        },
        {
          "name": "stdout",
          "output_type": "stream",
          "text": [
            "--- Hoàn thành thu thập dữ liệu cho kịch bản: Persian Prompt (1-shot) ---\n",
            "\n",
            "--- Đang chạy kịch bản: Persian Prompt (3-shot) ---\n"
          ]
        },
        {
          "name": "stderr",
          "output_type": "stream",
          "text": [
            "Querying Persian Prompt (3-shot): 100%|██████████| 200/200 [06:20<00:00,  1.90s/it]"
          ]
        },
        {
          "name": "stdout",
          "output_type": "stream",
          "text": [
            "--- Hoàn thành thu thập dữ liệu cho kịch bản: Persian Prompt (3-shot) ---\n",
            "\n",
            "✨ Đã hoàn thành tất cả các thử nghiệm.\n"
          ]
        },
        {
          "name": "stderr",
          "output_type": "stream",
          "text": [
            "\n"
          ]
        }
      ],
      "source": [
        "# Dictionary để lưu kết quả cuối cùng\n",
        "final_results = {}\n",
        "\n",
        "# Bắt đầu vòng lặp lớn\n",
        "for model_name in MODELS_TO_COMPARE:\n",
        "    print(f\"============== BẮT ĐẦU MODEL: {model_name} ==============\")\n",
        "    final_results[model_name] = {}\n",
        "    \n",
        "    # Vòng lặp bên trong: chạy qua từng loại prompt\n",
        "    for prompt_name, prompt_template in PROMPTS_TO_TEST.items():\n",
        "        print(f\"--- Đang chạy kịch bản: {prompt_name} ---\")\n",
        "        \n",
        "        model_predictions = []\n",
        "        \n",
        "        # Chạy qua toàn bộ dữ liệu mẫu\n",
        "        for sample in tqdm(all_data, desc=f\"Querying {prompt_name}\"):\n",
        "            prompt = prompt_template.format(context=sample['context'], question=sample['question'])\n",
        "            answer = get_answer_from_model(prompt, model_name)\n",
        "            model_predictions.append(answer)\n",
        "            time.sleep(1)\n",
        "\n",
        "        # Lưu lại danh sách các câu trả lời của model\n",
        "        final_results[model_name][prompt_name] = model_predictions\n",
        "        print(f\"--- Hoàn thành thu thập dữ liệu cho kịch bản: {prompt_name} ---\\n\")\n",
        "\n",
        "print(\"✨ Đã hoàn thành tất cả các thử nghiệm.\")"
      ]
    },
    {
      "cell_type": "code",
      "execution_count": 9,
      "metadata": {
        "colab": {
          "base_uri": "https://localhost:8080/"
        },
        "id": "Jh9XmlV8hilr",
        "outputId": "59968b18-40d2-4af0-931d-d330687d7f5e"
      },
      "outputs": [
        {
          "name": "stdout",
          "output_type": "stream",
          "text": [
            "\n",
            "  در ادامه به شما یک متن فارسی و یک سوال نشان داده می شود. شما باید برای سوال یک پاسخ بنویسید. سعی کنید پاسخ های خود را تا حد ممکن کوتاه بدهید.\n",
            "\n",
            "  نمونه:\n",
            "\n",
            "  سوال:\n",
            "  ویتامین ای را چه موقع استفاده کنیم؟\n",
            "\n",
            "  جواب:\n",
            "  برای رفع چین و چروک پیشانی و دیگر نشانه های پیری\n",
            "\n",
            "  سوال:\n",
            "  چرا نام برج میلاد میلاد است؟\n",
            "\n",
            "  جواب:\n",
            "  به مناسبت یکصدمین زادروز روح‌الله خمینی بنیان‌گذار جمهوری اسلامی ایران\n",
            "\n",
            "  سوال:\n",
            "  متفقین به کدام کشور لقب پل پیروزی دادند؟\n",
            "\n",
            "  جواب:\n",
            "  ایران\n",
            "\n",
            "  متن:\n",
            "  '''روسیه (به روسی: Россия، واج‌نویسی: راسیا) با نام رسمی فدراسیون روسیه (Российская Федерация، واج‌نویسی: راسیسکایا فدراتسیا) که در روسیه آر. اف Рф نیز خطاب می‌شود، پهناورترین کشور جهان است که در شمال اوراسیا قرار دارد. این کشور در آسیای شمالی و اروپای خاوری واقع است و با اقیانوس آرام شمالی و اقیانوس منجمد شمالی؛ و نیز با دریای خزر، دریای سیاه، و دریای بالتیک مرز آبی دارد. روسیه با ۱۴ کشور آسیایی و اروپایی مرز زمینی، و با کشورهای پیرامون دریای برینگ، دریای ژاپن، دریای خزر، دریای سیاه، و دریای بالتیک مرز آبی دارد. روسیه با ۱۷٬۰۷۵٬۴۰۰ (هفده میلیون و هفتاد و پنج هزار و چهارصد) کیلومتر مربع وسعت، عنوان پهناورترین کشور جهان را به خود اختصاص داده.'''\n",
            "\n",
            "  سوال:\n",
            "  '''روسیه در چه قاره ای قرار دارد؟'''\n",
            "\n",
            "  جواب:\n",
            "  \n"
          ]
        }
      ],
      "source": [
        "print(prompt)"
      ]
    },
    {
      "cell_type": "code",
      "execution_count": 8,
      "metadata": {},
      "outputs": [
        {
          "name": "stdout",
          "output_type": "stream",
          "text": [
            "\n",
            "\n",
            "=============== BẢNG SO SÁNH HIỆU NĂNG ĐỌC HIỂU ===============\n",
            "\n",
            "\n",
            "=============== BẢNG TÓM TẮT KẾT QUẢ ===============\n",
            "| Prompt / Kịch bản          | ('Exact Match', 'gpt-3.5-turbo')   | ('Exact Match', 'gpt-4o-mini')   | ('F1-score', 'gpt-3.5-turbo')   | ('F1-score', 'gpt-4o-mini')   |\n",
            "|:---------------------------|:-----------------------------------|:---------------------------------|:--------------------------------|:------------------------------|\n",
            "| English Prompt (1-shot)    | 24.00%                             | 24.00%                           | 56.07%                          | 60.59%                        |\n",
            "| English Prompt (3-shot)    | 26.00%                             | 26.00%                           | 57.36%                          | 61.97%                        |\n",
            "| English Prompt (Zero-shot) | 22.00%                             | 13.00%                           | 56.13%                          | 50.23%                        |\n",
            "| Persian Prompt (1-shot)    | 18.00%                             | 19.00%                           | 50.76%                          | 56.12%                        |\n",
            "| Persian Prompt (3-shot)    | 19.50%                             | 24.00%                           | 52.11%                          | 60.37%                        |\n",
            "| Persian Prompt (Zero-shot) | 5.50%                              | 8.00%                            | 40.32%                          | 45.54%                        |\n"
          ]
        }
      ],
      "source": [
        "print(\"\\n\\n=============== BẢNG SO SÁNH HIỆU NĂNG ĐỌC HIỂU ===============\")\n",
        "\n",
        "# DataFrame để lưu trữ các chỉ số\n",
        "evaluation_results = []\n",
        "normalizer = Normalizer()\n",
        "\n",
        "# Lấy danh sách các đáp án đúng\n",
        "true_answers_list = [sample['target'] for sample in all_data]\n",
        "\n",
        "# Vòng lặp qua kết quả của từng model để tính toán\n",
        "for model_name, prompt_results in final_results.items():\n",
        "    for prompt_name, predictions in prompt_results.items():\n",
        "        f1_scores = []\n",
        "        em_scores = []\n",
        "        \n",
        "        for i in range(len(predictions)):\n",
        "            model_ans = predictions[i]\n",
        "            correct_ans_options = true_answers_list[i]\n",
        "            \n",
        "            # Tính F1 score cao nhất trong các lựa chọn đáp án đúng\n",
        "            f1_scores.append(max(compute_f1(preprocess_text(model_ans, normalizer), preprocess_text(ans, normalizer)) for ans in correct_ans_options))\n",
        "            \n",
        "            # Tính Exact Match cao nhất trong các lựa chọn đáp án đúng\n",
        "            em_scores.append(max(compute_exact_match(model_ans, ans, normalizer) for ans in correct_ans_options))\n",
        "\n",
        "        avg_f1 = np.mean(f1_scores) * 100\n",
        "        avg_em = np.mean(em_scores) * 100\n",
        "        \n",
        "        evaluation_results.append({\n",
        "            \"Model\": model_name,\n",
        "            \"Prompt / Kịch bản\": prompt_name,\n",
        "            \"F1-score\": f\"{avg_f1:.2f}%\",\n",
        "            \"Exact Match\": f\"{avg_em:.2f}%\"\n",
        "        })\n",
        "\n",
        "# Tạo và in bảng so sánh cuối cùng\n",
        "summary_df = pd.DataFrame(evaluation_results)\n",
        "pivot_df = summary_df.pivot_table(index=\"Prompt / Kịch bản\", columns=\"Model\", values=[\"F1-score\", \"Exact Match\"], aggfunc='first')\n",
        "\n",
        "print(\"\\n\\n=============== BẢNG TÓM TẮT KẾT QUẢ ===============\")\n",
        "print(pivot_df.to_markdown())"
      ]
    },
    {
      "cell_type": "code",
      "execution_count": 10,
      "metadata": {},
      "outputs": [
        {
          "name": "stdout",
          "output_type": "stream",
          "text": [
            "\n",
            "\n",
            "📈=============== BIỂU ĐỒ SO SÁNH HIỆU SUẤT TRUNG BÌNH (READING COMPREHENSION) ===============📈\n"
          ]
        },
        {
          "data": {
            "image/png": "[encoded data removed]",
            "text/plain": [
              "<Figure size 1000x600 with 1 Axes>"
            ]
          },
          "metadata": {},
          "output_type": "display_data"
        }
      ],
      "source": [
        "import pandas as pd\n",
        "import matplotlib.pyplot as plt\n",
        "import seaborn as sns\n",
        "\n",
        "rc_data = {\n",
        "    'Experiment': [\n",
        "        'English Prompt (Zero-shot)', 'Persian Prompt (Zero-shot)',\n",
        "        'English Prompt (1-shot)', 'Persian Prompt (1-shot)',\n",
        "        'English Prompt (3-shot)', 'Persian Prompt (3-shot)'\n",
        "    ] * 2,\n",
        "    'Model': [\n",
        "        'gpt-3.5-turbo'] * 6 + ['gpt-4o-mini'] * 6,\n",
        "    'Exact Match': [\n",
        "        # gpt-3.5-turbo scores\n",
        "        22.00, 5.50, 24.00, 18.00, 26.00, 19.50,\n",
        "        # gpt-4o-mini scores\n",
        "        13.00, 8.00, 24.00, 19.00, 26.00, 24.00\n",
        "    ],\n",
        "    'F1-Score': [\n",
        "        # gpt-3.5-turbo scores\n",
        "        56.13, 40.32, 56.07, 50.76, 57.36, 52.11,\n",
        "        # gpt-4o-mini scores\n",
        "        50.23, 45.54, 60.59, 56.12, 61.97, 60.37\n",
        "    ]\n",
        "}\n",
        "\n",
        "df_rc = pd.DataFrame(rc_data)\n",
        "\n",
        "print(\"\\n\\n📈=============== BIỂU ĐỒ SO SÁNH HIỆU SUẤT TRUNG BÌNH (READING COMPREHENSION) ===============📈\")\n",
        "\n",
        "# Nhóm theo model và tính điểm trung bình\n",
        "df_summary = df_rc.groupby('Model')[['Exact Match', 'F1-Score']].mean().reset_index()\n",
        "\n",
        "# Chuẩn bị dữ liệu để vẽ\n",
        "df_summary_melted = df_summary.melt(id_vars='Model', var_name='Metric', value_name='Average Score')\n",
        "\n",
        "# Vẽ biểu đồ\n",
        "plt.figure(figsize=(10, 6))\n",
        "sns.barplot(x='Metric', y='Average Score', hue='Model', data=df_summary_melted, palette='crest')\n",
        "\n",
        "# Tùy chỉnh biểu đồ\n",
        "plt.title('Average Performance Comparison (Reading Comprehension)', fontsize=16)\n",
        "plt.ylabel('Average Score (%)', fontsize=12)\n",
        "plt.xlabel('Metric', fontsize=12)\n",
        "plt.ylim(0, 100)\n",
        "plt.grid(axis='y', linestyle='--', alpha=0.7)\n",
        "\n",
        "# Hiển thị giá trị trên mỗi cột\n",
        "for p in plt.gca().patches:\n",
        "    plt.gca().annotate(f\"{p.get_height():.2f}%\", (p.get_x() + p.get_width() / 2., p.get_height()),\n",
        "                       ha='center', va='center', fontsize=12, color='black', xytext=(0, 5),\n",
        "                       textcoords='offset points')\n",
        "\n",
        "plt.show()"
      ]
    },
    {
      "cell_type": "code",
      "execution_count": 11,
      "metadata": {},
      "outputs": [
        {
          "name": "stdout",
          "output_type": "stream",
          "text": [
            "\n",
            "\n",
            "📊=============== BẢNG TÓM TẮT HIỆU SUẤT CHI TIẾT (READING COMPREHENSION) ===============📊\n",
            "| Experiment                 |   ('Exact Match', 'gpt-3.5-turbo') |   ('Exact Match', 'gpt-4o-mini') |   ('F1-Score', 'gpt-3.5-turbo') |   ('F1-Score', 'gpt-4o-mini') |\n",
            "|:---------------------------|-----------------------------------:|---------------------------------:|--------------------------------:|------------------------------:|\n",
            "| English Prompt (Zero-shot) |                              22.00 |                            13.00 |                           56.13 |                         50.23 |\n",
            "| Persian Prompt (Zero-shot) |                               5.50 |                             8.00 |                           40.32 |                         45.54 |\n",
            "| English Prompt (1-shot)    |                              24.00 |                            24.00 |                           56.07 |                         60.59 |\n",
            "| Persian Prompt (1-shot)    |                              18.00 |                            19.00 |                           50.76 |                         56.12 |\n",
            "| English Prompt (3-shot)    |                              26.00 |                            26.00 |                           57.36 |                         61.97 |\n",
            "| Persian Prompt (3-shot)    |                              19.50 |                            24.00 |                           52.11 |                         60.37 |\n"
          ]
        },
        {
          "name": "stderr",
          "output_type": "stream",
          "text": [
            "C:\\Users\\GiaHyTran\\AppData\\Local\\Temp\\ipykernel_6584\\439187645.py:13: FutureWarning: The default value of observed=False is deprecated and will change to observed=True in a future version of pandas. Specify observed=False to silence this warning and retain the current behavior\n",
            "  pivot_detailed = df_rc.pivot_table(index='Experiment', columns='Model', values=['Exact Match', 'F1-Score'])\n"
          ]
        }
      ],
      "source": [
        "# Hiển thị bảng tóm tắt chi tiết\n",
        "print(\"\\n\\n📊=============== BẢNG TÓM TẮT HIỆU SUẤT CHI TIẾT (READING COMPREHENSION) ===============📊\")\n",
        "# Sắp xếp lại DataFrame theo thứ tự mong muốn\n",
        "prompt_order = [\n",
        "    'English Prompt (Zero-shot)', 'Persian Prompt (Zero-shot)',\n",
        "    'English Prompt (1-shot)', 'Persian Prompt (1-shot)',\n",
        "    'English Prompt (3-shot)', 'Persian Prompt (3-shot)'\n",
        "]\n",
        "df_rc['Experiment'] = pd.Categorical(df_rc['Experiment'], categories=prompt_order, ordered=True)\n",
        "df_rc = df_rc.sort_values('Experiment')\n",
        "\n",
        "# Tạo bảng pivot\n",
        "pivot_detailed = df_rc.pivot_table(index='Experiment', columns='Model', values=['Exact Match', 'F1-Score'])\n",
        "print(pivot_detailed.to_markdown(floatfmt=\".2f\"))"
      ]
    }
  ],
  "metadata": {
    "colab": {
      "provenance": []
    },
    "kernelspec": {
      "display_name": "Python 3",
      "name": "python3"
    },
    "language_info": {
      "codemirror_mode": {
        "name": "ipython",
        "version": 3
      },
      "file_extension": ".py",
      "mimetype": "text/x-python",
      "name": "python",
      "nbconvert_exporter": "python",
      "pygments_lexer": "ipython3",
      "version": "3.10.0"
    }
  },
  "nbformat": 4,
  "nbformat_minor": 0
}
