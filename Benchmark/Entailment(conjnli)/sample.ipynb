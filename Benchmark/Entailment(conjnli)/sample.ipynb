{
 "cells": [
  {
   "cell_type": "markdown",
   "metadata": {},
   "source": [
    "Import thư viện"
   ]
  },
  {
   "cell_type": "code",
   "execution_count": 8,
   "metadata": {},
   "outputs": [],
   "source": [
    "import json\n",
    "import time\n",
    "import pandas as pd  # Thư viện để tạo và hiển thị bảng đẹp mắt\n",
    "from openai import OpenAI\n",
    "from tqdm import tqdm\n",
    "from sklearn.metrics import accuracy_score\n",
    "import matplotlib.pyplot as plt\n",
    "import seaborn as sns\n",
    "\n",
    "# Import TẤT CẢ các mẫu prompt từ file prompt.py\n",
    "from prompt import *"
   ]
  },
  {
   "cell_type": "markdown",
   "metadata": {
    "collapsed": false,
    "id": "8417aff8bf4b1a14"
   },
   "source": [
    "Chạy API key và Lấy sample"
   ]
  },
  {
   "cell_type": "code",
   "execution_count": null,
   "metadata": {},
   "outputs": [
    {
     "name": "stdout",
     "output_type": "stream",
     "text": [
      " Đã tải thành công 200 mẫu dữ liệu từ 'data.jsonl'.\n"
     ]
    }
   ],
   "source": [
    "# !!! QUAN TRỌNG: Hãy điền API Key của bạn vào đây\n",
    "api_key = \"...\"  # Thay thế bằng API Key của bạn\n",
    "\n",
    "# 1. Khởi tạo Client với API Key\n",
    "client = OpenAI(api_key=api_key)\n",
    "\n",
    "# 2. Định nghĩa các \"thí sinh\" (model) và tất cả các \"bài thi\" (prompt)\n",
    "MODELS_TO_COMPARE = [\"gpt-3.5-turbo\", \"gpt-4o-mini\"]\n",
    "PROMPTS_TO_TEST = {\n",
    "    # Key là tên sẽ hiển thị trong bảng, Value là biến prompt từ file prompt.py\n",
    "    \"English Prompt (1-shot)\": ENGLISH_ONE,\n",
    "    \"Persian Prompt (1-shot)\": PERSIAN_ONE,\n",
    "    \"English Prompt (3-shot)\": ENGLISH_THREE,\n",
    "    \"Persian Prompt (3-shot)\": PERSIAN_THREE,\n",
    "    \"English Prompt (Zero-shot)\": ENGLISH_ZERO,\n",
    "    \"Persian Prompt (Zero-shot)\": PERSIAN_ZERO\n",
    "}\n",
    "\n",
    "# 3. Tải toàn bộ dữ liệu từ file data.jsonl\n",
    "try:\n",
    "    all_data = []\n",
    "    with open('data.jsonl', 'r', encoding='utf-8') as reader:\n",
    "        for line in reader:\n",
    "            all_data.append(json.loads(line))\n",
    "    print(f\" Đã tải thành công {len(all_data)} mẫu dữ liệu từ 'data.jsonl'.\")\n",
    "except FileNotFoundError:\n",
    "    print(\" Lỗi: Không tìm thấy file 'data.jsonl'. Hãy chắc chắn file này nằm cùng thư mục.\")"
   ]
  },
  {
   "cell_type": "markdown",
   "metadata": {},
   "source": [
    "Hàm nhận prompt và TÊN MODEL, trả về câu trả lời."
   ]
  },
  {
   "cell_type": "code",
   "execution_count": null,
   "metadata": {},
   "outputs": [],
   "source": [
    "def get_answer_from_model(prompt, model_name):\n",
    "    \"\"\"\n",
    "    Hàm này nhận một prompt và tên model, sau đó trả về câu trả lời.\n",
    "    \"\"\"\n",
    "    try:\n",
    "        response = client.chat.completions.create(\n",
    "          model=model_name,\n",
    "          messages=[\n",
    "                {\"role\": \"system\", \"content\": \"You are a helpful assistant for natural language inference.\"},\n",
    "                {\"role\": \"user\", \"content\": prompt}\n",
    "            ],\n",
    "          temperature=0,\n",
    "          max_tokens=15\n",
    "        )\n",
    "        return response.choices[0].message.content.strip()\n",
    "    except Exception as e:\n",
    "        # In ra lỗi nếu có vấn đề với API nhưng không dừng chương trình\n",
    "        print(f\"\\nLỗi khi gọi model {model_name}: {e}\")\n",
    "        return \"ERROR\""
   ]
  },
  {
   "cell_type": "code",
   "execution_count": 4,
   "metadata": {},
   "outputs": [],
   "source": [
    "final_results = {}"
   ]
  },
  {
   "cell_type": "code",
   "execution_count": 48,
   "metadata": {},
   "outputs": [
    {
     "name": "stdout",
     "output_type": "stream",
     "text": [
      "============== BẮT ĐẦU MODEL: gpt-3.5-turbo ==============\n",
      "--- 🚀 Đang chạy kịch bản: English Prompt (1-shot) ---\n"
     ]
    },
    {
     "name": "stderr",
     "output_type": "stream",
     "text": [
      "Querying English Prompt (1-shot): 100%|██████████| 200/200 [05:22<00:00,  1.61s/it]\n"
     ]
    },
    {
     "name": "stdout",
     "output_type": "stream",
     "text": [
      "--- 🎉 Hoàn thành. Accuracy: 32.50% ---\n",
      "\n",
      "--- 🚀 Đang chạy kịch bản: Persian Prompt (1-shot) ---\n"
     ]
    },
    {
     "name": "stderr",
     "output_type": "stream",
     "text": [
      "Querying Persian Prompt (1-shot): 100%|██████████| 200/200 [05:24<00:00,  1.62s/it]\n"
     ]
    },
    {
     "name": "stdout",
     "output_type": "stream",
     "text": [
      "--- 🎉 Hoàn thành. Accuracy: 34.50% ---\n",
      "\n",
      "--- 🚀 Đang chạy kịch bản: English Prompt (3-shot) ---\n"
     ]
    },
    {
     "name": "stderr",
     "output_type": "stream",
     "text": [
      "Querying English Prompt (3-shot): 100%|██████████| 200/200 [05:34<00:00,  1.67s/it]\n"
     ]
    },
    {
     "name": "stdout",
     "output_type": "stream",
     "text": [
      "--- 🎉 Hoàn thành. Accuracy: 12.00% ---\n",
      "\n",
      "--- 🚀 Đang chạy kịch bản: Persian Prompt (3-shot) ---\n"
     ]
    },
    {
     "name": "stderr",
     "output_type": "stream",
     "text": [
      "Querying Persian Prompt (3-shot): 100%|██████████| 200/200 [05:31<00:00,  1.66s/it]\n"
     ]
    },
    {
     "name": "stdout",
     "output_type": "stream",
     "text": [
      "--- 🎉 Hoàn thành. Accuracy: 43.50% ---\n",
      "\n",
      "--- 🚀 Đang chạy kịch bản: English Prompt (Zero-shot) ---\n"
     ]
    },
    {
     "name": "stderr",
     "output_type": "stream",
     "text": [
      "Querying English Prompt (Zero-shot): 100%|██████████| 200/200 [05:31<00:00,  1.66s/it]\n"
     ]
    },
    {
     "name": "stdout",
     "output_type": "stream",
     "text": [
      "--- 🎉 Hoàn thành. Accuracy: 24.00% ---\n",
      "\n",
      "--- 🚀 Đang chạy kịch bản: Persian Prompt (Zero-shot) ---\n"
     ]
    },
    {
     "name": "stderr",
     "output_type": "stream",
     "text": [
      "Querying Persian Prompt (Zero-shot): 100%|██████████| 200/200 [05:38<00:00,  1.69s/it]\n"
     ]
    },
    {
     "name": "stdout",
     "output_type": "stream",
     "text": [
      "--- 🎉 Hoàn thành. Accuracy: 24.00% ---\n",
      "\n",
      "============== BẮT ĐẦU MODEL: gpt-4o-mini ==============\n",
      "--- 🚀 Đang chạy kịch bản: English Prompt (1-shot) ---\n"
     ]
    },
    {
     "name": "stderr",
     "output_type": "stream",
     "text": [
      "Querying English Prompt (1-shot): 100%|██████████| 200/200 [05:32<00:00,  1.66s/it]\n"
     ]
    },
    {
     "name": "stdout",
     "output_type": "stream",
     "text": [
      "--- 🎉 Hoàn thành. Accuracy: 60.50% ---\n",
      "\n",
      "--- 🚀 Đang chạy kịch bản: Persian Prompt (1-shot) ---\n"
     ]
    },
    {
     "name": "stderr",
     "output_type": "stream",
     "text": [
      "Querying Persian Prompt (1-shot): 100%|██████████| 200/200 [05:32<00:00,  1.66s/it]\n"
     ]
    },
    {
     "name": "stdout",
     "output_type": "stream",
     "text": [
      "--- 🎉 Hoàn thành. Accuracy: 50.50% ---\n",
      "\n",
      "--- 🚀 Đang chạy kịch bản: English Prompt (3-shot) ---\n"
     ]
    },
    {
     "name": "stderr",
     "output_type": "stream",
     "text": [
      "Querying English Prompt (3-shot): 100%|██████████| 200/200 [05:26<00:00,  1.63s/it]\n"
     ]
    },
    {
     "name": "stdout",
     "output_type": "stream",
     "text": [
      "--- 🎉 Hoàn thành. Accuracy: 61.50% ---\n",
      "\n",
      "--- 🚀 Đang chạy kịch bản: Persian Prompt (3-shot) ---\n"
     ]
    },
    {
     "name": "stderr",
     "output_type": "stream",
     "text": [
      "Querying Persian Prompt (3-shot): 100%|██████████| 200/200 [05:31<00:00,  1.66s/it]\n"
     ]
    },
    {
     "name": "stdout",
     "output_type": "stream",
     "text": [
      "--- 🎉 Hoàn thành. Accuracy: 51.00% ---\n",
      "\n",
      "--- 🚀 Đang chạy kịch bản: English Prompt (Zero-shot) ---\n"
     ]
    },
    {
     "name": "stderr",
     "output_type": "stream",
     "text": [
      "Querying English Prompt (Zero-shot): 100%|██████████| 200/200 [05:15<00:00,  1.58s/it]\n"
     ]
    },
    {
     "name": "stdout",
     "output_type": "stream",
     "text": [
      "--- 🎉 Hoàn thành. Accuracy: 59.50% ---\n",
      "\n",
      "--- 🚀 Đang chạy kịch bản: Persian Prompt (Zero-shot) ---\n"
     ]
    },
    {
     "name": "stderr",
     "output_type": "stream",
     "text": [
      "Querying Persian Prompt (Zero-shot): 100%|██████████| 200/200 [05:43<00:00,  1.72s/it]"
     ]
    },
    {
     "name": "stdout",
     "output_type": "stream",
     "text": [
      "--- 🎉 Hoàn thành. Accuracy: 44.50% ---\n",
      "\n",
      "✨ Đã hoàn thành tất cả các thử nghiệm.\n"
     ]
    },
    {
     "name": "stderr",
     "output_type": "stream",
     "text": [
      "\n"
     ]
    }
   ],
   "source": [
    "# Dictionary để lưu kết quả cuối cùng\n",
    "final_results = {}\n",
    "\n",
    "# Lấy danh sách nhãn đúng một lần duy nhất\n",
    "true_labels = [sample['target'] for sample in all_data]\n",
    "\n",
    "# Bắt đầu vòng lặp lớn\n",
    "for model_name in MODELS_TO_COMPARE:\n",
    "    print(f\"============== BẮT ĐẦU MODEL: {model_name} ==============\")\n",
    "    final_results[model_name] = {}\n",
    "    \n",
    "    # Vòng lặp bên trong: chạy qua từng loại prompt\n",
    "    for prompt_name, prompt_template in PROMPTS_TO_TEST.items():\n",
    "        print(f\"--- 🚀 Đang chạy kịch bản: {prompt_name} ---\")\n",
    "        \n",
    "        model_predictions = []\n",
    "        \n",
    "        # Chạy qua toàn bộ dữ liệu cho kịch bản hiện tại\n",
    "        for sample in tqdm(all_data, desc=f\"Querying {prompt_name}\"):\n",
    "            # Lưu ý: file prompt.py của bạn dùng {premise} và {hypothesis}\n",
    "            prompt = prompt_template.format(premise=sample['Fa_premise'], hypothesis=sample['Fa_hypothesis'])\n",
    "            answer = get_answer_from_model(prompt, model_name)\n",
    "            model_predictions.append(answer)\n",
    "            time.sleep(1) # Chờ 1 giây để tránh bị giới hạn API\n",
    "\n",
    "        # Chuẩn hóa kết quả và tính accuracy\n",
    "        normalized_predictions = []\n",
    "        for pred in model_predictions:\n",
    "            # Xóa khoảng trắng, dấu nháy đơn và chuyển về chữ thường\n",
    "            clean_pred = str(pred).strip().lower().replace(\"'\", \"\")\n",
    "            if clean_pred.startswith('e'):\n",
    "                normalized_predictions.append('e')\n",
    "            elif clean_pred.startswith('c'):\n",
    "                normalized_predictions.append('c')\n",
    "            elif clean_pred.startswith('n'):\n",
    "                normalized_predictions.append('n')\n",
    "            else:\n",
    "                normalized_predictions.append('unknown') # Dành cho các câu trả lời không hợp lệ\n",
    "        \n",
    "        accuracy = accuracy_score(true_labels, normalized_predictions)\n",
    "        # Lưu kết quả accuracy (dưới dạng %) vào dictionary\n",
    "        final_results[model_name][prompt_name] = accuracy * 100\n",
    "        print(f\"--- 🎉 Hoàn thành. Accuracy: {accuracy*100:.2f}% ---\\n\")\n",
    "\n",
    "print(\"✨ Đã hoàn thành tất cả các thử nghiệm.\")"
   ]
  },
  {
   "cell_type": "code",
   "execution_count": 49,
   "metadata": {
    "ExecuteTime": {
     "end_time": "2024-03-09T20:08:45.742117Z",
     "start_time": "2024-03-09T20:08:45.732644Z"
    },
    "colab": {
     "base_uri": "https://localhost:8080/"
    },
    "executionInfo": {
     "elapsed": 4,
     "status": "ok",
     "timestamp": 1710508487293,
     "user": {
      "displayName": "mostafa masoudi",
      "userId": "03531015598649878255"
     },
     "user_tz": -210
    },
    "id": "fed76f5deade2ed3",
    "outputId": "0ed188b3-52b6-482c-930d-0ad363a62643"
   },
   "outputs": [
    {
     "name": "stdout",
     "output_type": "stream",
     "text": [
      "    به شما یک پیش فرض و یک فرضیه در مورد آن پیش فرض ارائه می شود. \n",
      "     شما باید با انتخاب یکی از پاسخ های زیر تصمیم بگیرید که آیا فرضیه مستلزم پیش فرض است:\n",
      "     'e': فرضیه به طور منطقی از اطلاعات موجود در پیش فرض ناشی می شود. \n",
      "     'c': فرضیه از نظر منطقی از اطلاعات موجود در پیش فرض نادرست است. \n",
      "     'n': تشخیص درست یا نادرست بودن فرضیه بدون اطلاعات بیشتر ممکن نیست.\n",
      "     قسمت اطلاعات را به طور کامل بخوانید و از بین سه برچسب پاسخ، پاسخ صحیح را انتخاب کنید. \n",
      "     پیش فرض را به طور کامل بخوانید تا مطمئن شوید که پیش فرض را شامل می شود.\n",
      "    \n",
      "    پیش فرض:\n",
      "    ''' بخشی از شهر ژوهانسبورگ است و در نزدیکی حومه طبقه بالای سندتون قرار دارد.'''\n",
      "    فرضیه:\n",
      "    ''' بخشی از شهر دوربان است و در نزدیکی حومه طبقه بالا سندتون قرار دارد.'''\n",
      "    پاسخ:\n",
      "\n"
     ]
    }
   ],
   "source": [
    "print(prompt)"
   ]
  },
  {
   "cell_type": "code",
   "execution_count": 50,
   "metadata": {},
   "outputs": [
    {
     "name": "stdout",
     "output_type": "stream",
     "text": [
      "\n",
      "\n",
      "📊=============== BẢNG SO SÁNH HIỆU NĂNG TOÀN DIỆN ===============📊\n",
      "| Prompt / Kịch bản          | gpt-3.5-turbo   | gpt-4o-mini   |\n",
      "|:---------------------------|:----------------|:--------------|\n",
      "| English Prompt (1-shot)    | 32.50%          | 60.50%        |\n",
      "| Persian Prompt (1-shot)    | 34.50%          | 50.50%        |\n",
      "| English Prompt (3-shot)    | 12.00%          | 61.50%        |\n",
      "| Persian Prompt (3-shot)    | 43.50%          | 51.00%        |\n",
      "| English Prompt (Zero-shot) | 24.00%          | 59.50%        |\n",
      "| Persian Prompt (Zero-shot) | 24.00%          | 44.50%        |\n"
     ]
    },
    {
     "name": "stderr",
     "output_type": "stream",
     "text": [
      "C:\\Users\\GiaHyTran\\AppData\\Local\\Temp\\ipykernel_18140\\3013447151.py:5: FutureWarning: DataFrame.applymap has been deprecated. Use DataFrame.map instead.\n",
      "  results_df = results_df.applymap(lambda x: f\"{x:.2f}%\" if isinstance(x, float) else x)\n"
     ]
    }
   ],
   "source": [
    "# Chuyển dictionary kết quả thành một DataFrame của pandas\n",
    "results_df = pd.DataFrame(final_results)\n",
    "\n",
    "# Định dạng lại các số để chỉ hiển thị 2 chữ số thập phân và thêm ký tự '%'\n",
    "results_df = results_df.applymap(lambda x: f\"{x:.2f}%\" if isinstance(x, float) else x)\n",
    "\n",
    "# Đặt lại tên cho các cột và hàng của bảng\n",
    "results_df.columns.name = \"Model\"\n",
    "results_df.index.name = \"Prompt / Kịch bản\"\n",
    "\n",
    "print(\"\\n\\n📊=============== BẢNG SO SÁNH HIỆU NĂNG TOÀN DIỆN ===============📊\")\n",
    "# In ra bảng dưới dạng Markdown, có thể copy/paste dễ dàng vào báo cáo\n",
    "print(results_df.to_markdown())"
   ]
  },
  {
   "cell_type": "code",
   "execution_count": 10,
   "metadata": {},
   "outputs": [
    {
     "name": "stdout",
     "output_type": "stream",
     "text": [
      "\n",
      "\n",
      "📈=============== BIỂU ĐỒ SO SÁNH HIỆU SUẤT NLI ===============📈\n"
     ]
    },
    {
     "data": {
      "image/png": "[encoded data removed]",
      "text/plain": [
       "<Figure size 1200x700 with 1 Axes>"
      ]
     },
     "metadata": {},
     "output_type": "display_data"
    }
   ],
   "source": [
    "print(\"\\n\\n📈=============== BIỂU ĐỒ SO SÁNH HIỆU SUẤT NLI ===============📈\")\n",
    "\n",
    "\n",
    "# Dữ liệu hiệu suất NLI trực tiếp từ bảng bạn cung cấp\n",
    "nli_data = {\n",
    "    'Prompt / Kịch bản': [\n",
    "        'English Prompt (1-shot)', 'Persian Prompt (1-shot)',\n",
    "        'English Prompt (3-shot)', 'Persian Prompt (3-shot)',\n",
    "        'English Prompt (Zero-shot)', 'Persian Prompt (Zero-shot)'\n",
    "    ],\n",
    "    'gpt-3.5-turbo': [32.50, 34.50, 12.00, 43.50, 24.00, 24.00],\n",
    "    'gpt-4o-mini': [60.50, 50.50, 61.50, 51.00, 59.50, 44.50]\n",
    "}\n",
    "\n",
    "\n",
    "nli_df_plot = pd.DataFrame(nli_data)\n",
    "\n",
    "\n",
    "# Chuyển đổi DataFrame từ dạng rộng sang dạng dài để vẽ biểu đồ\n",
    "nli_df_melted = nli_df_plot.melt(\n",
    "    id_vars='Prompt / Kịch bản',\n",
    "    value_vars=['gpt-3.5-turbo', 'gpt-4o-mini'],\n",
    "    var_name='Model',\n",
    "    value_name='Accuracy'\n",
    ")\n",
    "\n",
    "\n",
    "# Vẽ biểu đồ cột\n",
    "plt.figure(figsize=(12, 7))\n",
    "sns.barplot(data=nli_df_melted, x='Prompt / Kịch bản', y='Accuracy', hue='Model', palette='viridis')\n",
    "\n",
    "\n",
    "# Tùy chỉnh biểu đồ\n",
    "plt.title('So sánh hiệu suất các Model trên tác vụ NLI', fontsize=16, weight='bold')\n",
    "plt.ylabel('Độ chính xác (Accuracy %)', fontsize=12)\n",
    "plt.xlabel('Kịch bản Prompt', fontsize=12)\n",
    "plt.xticks(rotation=45, ha='right')\n",
    "plt.ylim(0, 100)\n",
    "plt.legend(title='Model', fontsize=10)\n",
    "plt.grid(axis='y', linestyle='--', alpha=0.7)\n",
    "plt.tight_layout()\n",
    "\n",
    "\n",
    "# Hiển thị biểu đồ\n",
    "plt.show()"
   ]
  },
  {
   "cell_type": "code",
   "execution_count": 1,
   "metadata": {},
   "outputs": [
    {
     "data": {
      "image/png": "[encoded data removed]",
      "text/plain": [
       "<Figure size 800x500 with 1 Axes>"
      ]
     },
     "metadata": {},
     "output_type": "display_data"
    }
   ],
   "source": [
    "import matplotlib.pyplot as plt\n",
    "\n",
    "# Hiệu suất từng prompt của tác vụ NLI\n",
    "gpt_35_turbo_nli = [32.5, 34.5, 12.0, 43.5, 24.0, 24.0]\n",
    "gpt_4o_mini_nli = [60.5, 50.5, 61.5, 51.0, 59.5, 44.5]\n",
    "\n",
    "# Tính trung bình\n",
    "avg_35 = sum(gpt_35_turbo_nli) / len(gpt_35_turbo_nli)\n",
    "avg_4o = sum(gpt_4o_mini_nli) / len(gpt_4o_mini_nli)\n",
    "\n",
    "# Vẽ biểu đồ\n",
    "models = ['gpt-3.5-turbo', 'gpt-4o-mini']\n",
    "avg_scores = [avg_35, avg_4o]\n",
    "\n",
    "plt.figure(figsize=(8, 5))\n",
    "bars = plt.bar(models, avg_scores, color=['skyblue', 'lightgreen'])\n",
    "\n",
    "# Gắn nhãn trên cột\n",
    "for bar in bars:\n",
    "    height = bar.get_height()\n",
    "    plt.text(bar.get_x() + bar.get_width()/2, height + 1,\n",
    "             f'{height:.2f}%', ha='center', va='bottom', fontsize=12)\n",
    "\n",
    "# Tùy chỉnh biểu đồ\n",
    "plt.title('Hiệu suất trung bình trên tác vụ NLI', fontsize=14)\n",
    "plt.ylabel('Tỉ lệ chính xác trung bình (%)')\n",
    "plt.ylim(0, 70)\n",
    "plt.grid(axis='y', linestyle='--', alpha=0.7)\n",
    "\n",
    "plt.tight_layout()\n",
    "plt.show()\n"
   ]
  }
 ],
 "metadata": {
  "colab": {
   "authorship_tag": "ABX9TyO5SnFvKKEeMF3jwoHwZdmv",
   "collapsed_sections": [
    "8ddf05a07279b34c",
    "dbb94a7e759b90e9"
   ],
   "provenance": []
  },
  "kernelspec": {
   "display_name": "Python 3",
   "name": "python3"
  },
  "language_info": {
   "codemirror_mode": {
    "name": "ipython",
    "version": 3
   },
   "file_extension": ".py",
   "mimetype": "text/x-python",
   "name": "python",
   "nbconvert_exporter": "python",
   "pygments_lexer": "ipython3",
   "version": "3.10.0"
  }
 },
 "nbformat": 4,
 "nbformat_minor": 0
}
