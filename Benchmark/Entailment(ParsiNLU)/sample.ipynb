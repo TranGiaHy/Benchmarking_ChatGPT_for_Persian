{
 "cells": [
  {
   "cell_type": "code",
   "execution_count": null,
   "metadata": {},
   "outputs": [],
   "source": [
    "import json\n",
    "import time\n",
    "import pandas as pd  # Thư viện để tạo và hiển thị bảng đẹp mắt\n",
    "from openai import OpenAI\n",
    "from tqdm import tqdm\n",
    "from sklearn.metrics import accuracy_score, classification_report\n",
    "\n",
    "# Import TẤT CẢ các mẫu prompt từ file prompt.py\n",
    "# Điều này cho phép chúng ta dễ dàng gọi tên các prompt sau này\n",
    "from prompt import *"
   ]
  },
  {
   "cell_type": "markdown",
   "metadata": {
    "collapsed": false,
    "id": "8417aff8bf4b1a14"
   },
   "source": [
    "Given a sample"
   ]
  },
  {
   "cell_type": "code",
   "execution_count": null,
   "metadata": {},
   "outputs": [
    {
     "name": "stdout",
     "output_type": "stream",
     "text": [
      " Đã tải thành công 201 review.\n",
      " sử dụng 201 review để kiểm tra.\n"
     ]
    }
   ],
   "source": [
    "# !!! QUAN TRỌNG: Hãy điền API Key của bạn vào đây\n",
    "api_key = \"...\"  # Thay thế bằng API Key của bạn\n",
    "\n",
    "# 1. Khởi tạo Client với API Key\n",
    "client = OpenAI(api_key=api_key)\n",
    "\n",
    "# 2. Định nghĩa các \"thí sinh\" (model) và tất cả các \"bài thi\" (prompt)\n",
    "MODELS_TO_COMPARE = [\"gpt-3.5-turbo\", \"gpt-4o-mini\"]\n",
    "PROMPTS_TO_TEST = {\n",
    "    # Key là tên sẽ hiển thị trong bảng, Value là biến prompt từ file prompt.py\n",
    "    \"English Prompt (1-shot)\": ENGLISH_ONE,\n",
    "    \"Persian Prompt (1-shot)\": PERSIAN_ONE,\n",
    "    \"English Prompt (3-shot)\": ENGLISH_THREE,\n",
    "    \"Persian Prompt (3-shot)\": PERSIAN_THREE,\n",
    "    \"English Prompt (Zero-shot)\": ENGLISH_ZERO,\n",
    "    \"Persian Prompt (Zero-shot)\": PERSIAN_ZERO\n",
    "}\n",
    "\n",
    "# 3. Tải toàn bộ dữ liệu từ file entailment(ParsiNLU).jsonl\n",
    "try:\n",
    "    full_data = []\n",
    "    # Dùng đúng tên file dữ liệu bạn đã cung cấp\n",
    "    with open('entailment(ParsiNLU).jsonl', 'r', encoding='utf-8') as reader:\n",
    "        for line in reader:\n",
    "            full_data.append(json.loads(line))\n",
    "    \n",
    "    SAMPLE_SIZE = 201\n",
    "    all_data = full_data[:SAMPLE_SIZE] \n",
    "    \n",
    "    print(f\" Đã tải thành công {len(full_data)} review.\")\n",
    "    print(f\" sử dụng {len(all_data)} review để kiểm tra.\")\n",
    "\n",
    "except FileNotFoundError:\n",
    "    print(\" Lỗi: Không tìm thấy file 'entailment(ParsiNLU).jsonl'.\")"
   ]
  },
  {
   "cell_type": "code",
   "execution_count": 13,
   "metadata": {},
   "outputs": [],
   "source": [
    "def get_answer_from_model(prompt, model_name):\n",
    "    \"\"\"\n",
    "    Hàm này nhận một prompt và tên model, sau đó trả về câu trả lời.\n",
    "    \"\"\"\n",
    "    try:\n",
    "        response = client.chat.completions.create(\n",
    "          model=model_name,\n",
    "          messages=[\n",
    "                {\"role\": \"system\", \"content\": \"You are an expert in natural language inference.\"},\n",
    "                {\"role\": \"user\", \"content\": prompt}\n",
    "            ],\n",
    "          temperature=0,\n",
    "          max_tokens=20  # Tăng nhẹ max_tokens vì model có thể trả về từ đầy đủ\n",
    "        )\n",
    "        # Lấy nội dung, xóa khoảng trắng và chuyển về chữ thường để dễ so sánh\n",
    "        return response.choices[0].message.content.strip().lower()\n",
    "    except Exception as e:\n",
    "        print(f\"\\nLỗi khi gọi model {model_name}: {e}\")\n",
    "        return \"ERROR\""
   ]
  },
  {
   "cell_type": "code",
   "execution_count": null,
   "metadata": {},
   "outputs": [
    {
     "name": "stdout",
     "output_type": "stream",
     "text": [
      "============== BẮT ĐẦU MODEL: gpt-3.5-turbo ==============\n",
      "--- 🚀 Đang chạy kịch bản: English Prompt (1-shot) ---\n"
     ]
    },
    {
     "name": "stderr",
     "output_type": "stream",
     "text": [
      "Querying English Prompt (1-shot): 100%|██████████| 201/201 [05:41<00:00,  1.70s/it]\n"
     ]
    },
    {
     "name": "stdout",
     "output_type": "stream",
     "text": [
      "--- 🎉 Hoàn thành thu thập dữ liệu cho kịch bản: English Prompt (1-shot) ---\n",
      "\n",
      "--- 🚀 Đang chạy kịch bản: Persian Prompt (1-shot) ---\n"
     ]
    },
    {
     "name": "stderr",
     "output_type": "stream",
     "text": [
      "Querying Persian Prompt (1-shot): 100%|██████████| 201/201 [05:31<00:00,  1.65s/it]\n"
     ]
    },
    {
     "name": "stdout",
     "output_type": "stream",
     "text": [
      "--- 🎉 Hoàn thành thu thập dữ liệu cho kịch bản: Persian Prompt (1-shot) ---\n",
      "\n",
      "--- 🚀 Đang chạy kịch bản: English Prompt (3-shot) ---\n"
     ]
    },
    {
     "name": "stderr",
     "output_type": "stream",
     "text": [
      "Querying English Prompt (3-shot): 100%|██████████| 201/201 [05:49<00:00,  1.74s/it]\n"
     ]
    },
    {
     "name": "stdout",
     "output_type": "stream",
     "text": [
      "--- 🎉 Hoàn thành thu thập dữ liệu cho kịch bản: English Prompt (3-shot) ---\n",
      "\n",
      "--- 🚀 Đang chạy kịch bản: Persian Prompt (3-shot) ---\n"
     ]
    },
    {
     "name": "stderr",
     "output_type": "stream",
     "text": [
      "Querying Persian Prompt (3-shot): 100%|██████████| 201/201 [05:37<00:00,  1.68s/it]\n"
     ]
    },
    {
     "name": "stdout",
     "output_type": "stream",
     "text": [
      "--- 🎉 Hoàn thành thu thập dữ liệu cho kịch bản: Persian Prompt (3-shot) ---\n",
      "\n",
      "--- 🚀 Đang chạy kịch bản: English Prompt (Zero-shot) ---\n"
     ]
    },
    {
     "name": "stderr",
     "output_type": "stream",
     "text": [
      "Querying English Prompt (Zero-shot): 100%|██████████| 201/201 [05:54<00:00,  1.76s/it]\n"
     ]
    },
    {
     "name": "stdout",
     "output_type": "stream",
     "text": [
      "--- 🎉 Hoàn thành thu thập dữ liệu cho kịch bản: English Prompt (Zero-shot) ---\n",
      "\n",
      "--- 🚀 Đang chạy kịch bản: Persian Prompt (Zero-shot) ---\n"
     ]
    },
    {
     "name": "stderr",
     "output_type": "stream",
     "text": [
      "Querying Persian Prompt (Zero-shot): 100%|██████████| 201/201 [05:33<00:00,  1.66s/it]\n"
     ]
    },
    {
     "name": "stdout",
     "output_type": "stream",
     "text": [
      "--- 🎉 Hoàn thành thu thập dữ liệu cho kịch bản: Persian Prompt (Zero-shot) ---\n",
      "\n",
      "============== BẮT ĐẦU MODEL: gpt-4o-mini ==============\n",
      "--- 🚀 Đang chạy kịch bản: English Prompt (1-shot) ---\n"
     ]
    },
    {
     "name": "stderr",
     "output_type": "stream",
     "text": [
      "Querying English Prompt (1-shot): 100%|██████████| 201/201 [05:38<00:00,  1.69s/it]\n"
     ]
    },
    {
     "name": "stdout",
     "output_type": "stream",
     "text": [
      "--- 🎉 Hoàn thành thu thập dữ liệu cho kịch bản: English Prompt (1-shot) ---\n",
      "\n",
      "--- 🚀 Đang chạy kịch bản: Persian Prompt (1-shot) ---\n"
     ]
    },
    {
     "name": "stderr",
     "output_type": "stream",
     "text": [
      "Querying Persian Prompt (1-shot): 100%|██████████| 201/201 [06:14<00:00,  1.86s/it]\n"
     ]
    },
    {
     "name": "stdout",
     "output_type": "stream",
     "text": [
      "--- 🎉 Hoàn thành thu thập dữ liệu cho kịch bản: Persian Prompt (1-shot) ---\n",
      "\n",
      "--- 🚀 Đang chạy kịch bản: English Prompt (3-shot) ---\n"
     ]
    },
    {
     "name": "stderr",
     "output_type": "stream",
     "text": [
      "Querying English Prompt (3-shot): 100%|██████████| 201/201 [05:32<00:00,  1.65s/it]\n"
     ]
    },
    {
     "name": "stdout",
     "output_type": "stream",
     "text": [
      "--- 🎉 Hoàn thành thu thập dữ liệu cho kịch bản: English Prompt (3-shot) ---\n",
      "\n",
      "--- 🚀 Đang chạy kịch bản: Persian Prompt (3-shot) ---\n"
     ]
    },
    {
     "name": "stderr",
     "output_type": "stream",
     "text": [
      "Querying Persian Prompt (3-shot): 100%|██████████| 201/201 [06:30<00:00,  1.95s/it]\n"
     ]
    },
    {
     "name": "stdout",
     "output_type": "stream",
     "text": [
      "--- 🎉 Hoàn thành thu thập dữ liệu cho kịch bản: Persian Prompt (3-shot) ---\n",
      "\n",
      "--- 🚀 Đang chạy kịch bản: English Prompt (Zero-shot) ---\n"
     ]
    },
    {
     "name": "stderr",
     "output_type": "stream",
     "text": [
      "Querying English Prompt (Zero-shot): 100%|██████████| 201/201 [06:26<00:00,  1.92s/it]\n"
     ]
    },
    {
     "name": "stdout",
     "output_type": "stream",
     "text": [
      "--- 🎉 Hoàn thành thu thập dữ liệu cho kịch bản: English Prompt (Zero-shot) ---\n",
      "\n",
      "--- 🚀 Đang chạy kịch bản: Persian Prompt (Zero-shot) ---\n"
     ]
    },
    {
     "name": "stderr",
     "output_type": "stream",
     "text": [
      "Querying Persian Prompt (Zero-shot): 100%|██████████| 201/201 [06:35<00:00,  1.97s/it]"
     ]
    },
    {
     "name": "stdout",
     "output_type": "stream",
     "text": [
      "--- 🎉 Hoàn thành thu thập dữ liệu cho kịch bản: Persian Prompt (Zero-shot) ---\n",
      "\n",
      "✨ Đã hoàn thành tất cả các thử nghiệm.\n"
     ]
    },
    {
     "name": "stderr",
     "output_type": "stream",
     "text": [
      "\n"
     ]
    }
   ],
   "source": [
    "# Dictionary để lưu kết quả dự đoán của tất cả các kịch bản\n",
    "all_predictions = {}\n",
    "\n",
    "# Bắt đầu vòng lặp lớn\n",
    "for model_name in MODELS_TO_COMPARE:\n",
    "    print(f\"============== BẮT ĐẦU MODEL: {model_name} ==============\")\n",
    "    all_predictions[model_name] = {}\n",
    "    \n",
    "    # Vòng lặp bên trong: chạy qua từng loại prompt\n",
    "    for prompt_name, prompt_template in PROMPTS_TO_TEST.items():\n",
    "        print(f\"--- 🚀 Đang chạy kịch bản: {prompt_name} ---\")\n",
    "        \n",
    "        model_predictions_for_prompt = []\n",
    "        \n",
    "        # Chạy qua toàn bộ dữ liệu cho kịch bản hiện tại\n",
    "        for sample in tqdm(all_data, desc=f\"Querying {prompt_name}\"):\n",
    "            prompt = prompt_template.format(premise=sample['premise'], hypothesis=sample['hypothesis'])\n",
    "            answer = get_answer_from_model(prompt, model_name)\n",
    "            model_predictions_for_prompt.append(answer)\n",
    "            time.sleep(1)\n",
    "\n",
    "        # Lưu kết quả dự đoán của model này cho kịch bản prompt này\n",
    "        all_predictions[model_name][prompt_name] = model_predictions_for_prompt\n",
    "        print(f\"--- 🎉 Hoàn thành thu thập dữ liệu cho kịch bản: {prompt_name} ---\\n\")\n",
    "\n",
    "print(\"✨ Đã hoàn thành tất cả các thử nghiệm.\")"
   ]
  },
  {
   "cell_type": "code",
   "execution_count": 15,
   "metadata": {
    "ExecuteTime": {
     "end_time": "2024-03-09T20:08:45.742117Z",
     "start_time": "2024-03-09T20:08:45.732644Z"
    },
    "colab": {
     "base_uri": "https://localhost:8080/"
    },
    "executionInfo": {
     "elapsed": 4,
     "status": "ok",
     "timestamp": 1710508487293,
     "user": {
      "displayName": "mostafa masoudi",
      "userId": "03531015598649878255"
     },
     "user_tz": -210
    },
    "id": "fed76f5deade2ed3",
    "outputId": "0ed188b3-52b6-482c-930d-0ad363a62643"
   },
   "outputs": [
    {
     "name": "stdout",
     "output_type": "stream",
     "text": [
      "هدف وظیفه‌ی استنتاج زبان طبیعی تشخیص رابطه‌ی نتیجه‌گیری بین یک <فرضیه> با توجه به یک <پیش‌فرض> است.\n",
      "رابطه‌ یا برچسب میان آن‌ها می‌تواند یکی از سه نوع تناظر، تناقض یا ناشناخته باشد.\n",
      "- تناظر : اگر جمله <فرضیه> به طور منطقی نتیجه‌ای از جمله <پیش‌فرض> باشد\n",
      "- تناقض : اگر جمله <فرضیه> با جمله <پیش‌فرض> در تناقض باشد\n",
      "- ناشناخته : اگر رابطه‌ای قطعی بین جمله <پیش‌فرض> و جمله <فرضیه> وجود نداشته باشد و هیچ تناظر یا تناقضی نتوان برقرار کرد\n",
      "\n",
      "الگوی نمونه:\n",
      "<پیش‌فرض><sep><فرضیه>\n",
      "<برچسب>:\n",
      "    تناقض یا تناظر یا ناشناخته\n",
      "\n",
      "برای نمونه تست زیر نام محتمل‌ترین برچسب را چاپ کن:\n",
      "<شهرستان پیرس ۸۹۰٫۹۶ کیلومترمربع مساحت دارد.><sep><شهرستان پیرس، کمتر از 1 میلیون کیلومتر مربع وسعت دارد>\n",
      "<برچسب>:\n",
      "    ?\n"
     ]
    }
   ],
   "source": [
    "print(prompt)"
   ]
  },
  {
   "cell_type": "code",
   "execution_count": 19,
   "metadata": {},
   "outputs": [
    {
     "name": "stdout",
     "output_type": "stream",
     "text": [
      "\n",
      "\n",
      "📊=============== BẢNG SO SÁNH HIỆU NĂNG (ParsiNLU) ===============📊\n",
      "\n",
      "\n",
      "============== Báo cáo chi tiết cho Model: gpt-3.5-turbo ==============\n",
      "\n",
      "--- Kịch bản: English Prompt (1-shot) ---\n",
      "               precision    recall  f1-score   support\n",
      "\n",
      "contradiction      0.540     0.403     0.462        67\n",
      "   entailment      0.500     0.045     0.082        67\n",
      "      neutral      0.800     0.060     0.111        67\n",
      "\n",
      "    micro avg      0.557     0.169     0.260       201\n",
      "    macro avg      0.613     0.169     0.218       201\n",
      " weighted avg      0.613     0.169     0.218       201\n",
      "\n",
      "\n",
      "--- Kịch bản: Persian Prompt (1-shot) ---\n",
      "               precision    recall  f1-score   support\n",
      "\n",
      "contradiction      0.450     0.940     0.609        67\n",
      "   entailment      0.620     0.463     0.530        67\n",
      "      neutral      0.700     0.104     0.182        67\n",
      "\n",
      "    micro avg      0.505     0.502     0.504       201\n",
      "    macro avg      0.590     0.502     0.440       201\n",
      " weighted avg      0.590     0.502     0.440       201\n",
      "\n",
      "\n",
      "--- Kịch bản: English Prompt (3-shot) ---\n",
      "               precision    recall  f1-score   support\n",
      "\n",
      "contradiction      0.365     0.522     0.429        67\n",
      "   entailment      0.500     0.030     0.056        67\n",
      "      neutral      0.000     0.000     0.000        67\n",
      "\n",
      "    micro avg      0.366     0.184     0.245       201\n",
      "    macro avg      0.288     0.184     0.162       201\n",
      " weighted avg      0.288     0.184     0.162       201\n",
      "\n",
      "\n",
      "--- Kịch bản: Persian Prompt (3-shot) ---\n",
      "               precision    recall  f1-score   support\n",
      "\n",
      "contradiction      0.407     0.746     0.526        67\n",
      "   entailment      0.630     0.254     0.362        67\n",
      "      neutral      0.372     0.239     0.291        67\n",
      "\n",
      "    micro avg      0.430     0.413     0.421       201\n",
      "    macro avg      0.469     0.413     0.393       201\n",
      " weighted avg      0.469     0.413     0.393       201\n",
      "\n",
      "\n",
      "--- Kịch bản: English Prompt (Zero-shot) ---\n",
      "               precision    recall  f1-score   support\n",
      "\n",
      "contradiction      0.333     0.045     0.079        67\n",
      "   entailment      1.000     0.045     0.086        67\n",
      "      neutral      0.000     0.000     0.000        67\n",
      "\n",
      "    micro avg      0.500     0.030     0.056       201\n",
      "    macro avg      0.444     0.030     0.055       201\n",
      " weighted avg      0.444     0.030     0.055       201\n",
      "\n",
      "\n",
      "--- Kịch bản: Persian Prompt (Zero-shot) ---\n",
      "               precision    recall  f1-score   support\n",
      "\n",
      "contradiction      0.491     0.776     0.601        67\n",
      "   entailment      0.492     0.478     0.485        67\n",
      "      neutral      0.467     0.209     0.289        67\n",
      "\n",
      "     accuracy                          0.488       201\n",
      "    macro avg      0.483     0.488     0.458       201\n",
      " weighted avg      0.483     0.488     0.458       201\n",
      "\n",
      "\n",
      "\n",
      "============== Báo cáo chi tiết cho Model: gpt-4o-mini ==============\n",
      "\n",
      "--- Kịch bản: English Prompt (1-shot) ---\n",
      "               precision    recall  f1-score   support\n",
      "\n",
      "contradiction      0.795     0.925     0.855        67\n",
      "   entailment      0.836     0.761     0.797        67\n",
      "      neutral      0.738     0.672     0.703        67\n",
      "\n",
      "    micro avg      0.790     0.786     0.788       201\n",
      "    macro avg      0.790     0.786     0.785       201\n",
      " weighted avg      0.790     0.786     0.785       201\n",
      "\n",
      "\n",
      "--- Kịch bản: Persian Prompt (1-shot) ---\n",
      "               precision    recall  f1-score   support\n",
      "\n",
      "contradiction      0.803     0.910     0.853        67\n",
      "   entailment      0.737     0.836     0.783        67\n",
      "      neutral      0.771     0.552     0.643        67\n",
      "\n",
      "    micro avg      0.770     0.766     0.768       201\n",
      "    macro avg      0.770     0.766     0.760       201\n",
      " weighted avg      0.770     0.766     0.760       201\n",
      "\n",
      "\n",
      "--- Kịch bản: English Prompt (3-shot) ---\n",
      "               precision    recall  f1-score   support\n",
      "\n",
      "contradiction      0.773     0.761     0.767        67\n",
      "   entailment      0.868     0.687     0.767        67\n",
      "      neutral      0.617     0.746     0.676        67\n",
      "\n",
      "    micro avg      0.735     0.731     0.733       201\n",
      "    macro avg      0.753     0.731     0.736       201\n",
      " weighted avg      0.753     0.731     0.736       201\n",
      "\n",
      "\n",
      "--- Kịch bản: Persian Prompt (3-shot) ---\n",
      "               precision    recall  f1-score   support\n",
      "\n",
      "contradiction      0.698     0.896     0.784        67\n",
      "   entailment      0.760     0.851     0.803        67\n",
      "      neutral      0.789     0.448     0.571        67\n",
      "\n",
      "    micro avg      0.739     0.731     0.735       201\n",
      "    macro avg      0.749     0.731     0.720       201\n",
      " weighted avg      0.749     0.731     0.720       201\n",
      "\n",
      "\n",
      "--- Kịch bản: English Prompt (Zero-shot) ---\n",
      "               precision    recall  f1-score   support\n",
      "\n",
      "contradiction      0.760     0.567     0.650        67\n",
      "   entailment      0.821     0.343     0.484        67\n",
      "      neutral      0.824     0.209     0.333        67\n",
      "\n",
      "    micro avg      0.789     0.373     0.507       201\n",
      "    macro avg      0.802     0.373     0.489       201\n",
      " weighted avg      0.802     0.373     0.489       201\n",
      "\n",
      "\n",
      "--- Kịch bản: Persian Prompt (Zero-shot) ---\n",
      "               precision    recall  f1-score   support\n",
      "\n",
      "contradiction      0.685     0.940     0.792        67\n",
      "   entailment      0.767     0.687     0.724        67\n",
      "      neutral      0.744     0.433     0.547        67\n",
      "\n",
      "    micro avg      0.723     0.687     0.704       201\n",
      "    macro avg      0.732     0.687     0.688       201\n",
      " weighted avg      0.732     0.687     0.688       201\n",
      "\n",
      "\n",
      "\n",
      "📊=============== BẢNG TÓM TẮT ACCURACY ===============📊\n",
      "| Prompt / Kịch bản          | gpt-3.5-turbo   | gpt-4o-mini   |\n",
      "|:---------------------------|:----------------|:--------------|\n",
      "| English Prompt (1-shot)    | 16.92%          | 78.61%        |\n",
      "| Persian Prompt (1-shot)    | 50.25%          | 76.62%        |\n",
      "| English Prompt (3-shot)    | 18.41%          | 73.13%        |\n",
      "| Persian Prompt (3-shot)    | 41.29%          | 73.13%        |\n",
      "| English Prompt (Zero-shot) | 2.99%           | 37.31%        |\n",
      "| Persian Prompt (Zero-shot) | 48.76%          | 68.66%        |\n"
     ]
    },
    {
     "name": "stderr",
     "output_type": "stream",
     "text": [
      "C:\\Users\\GiaHyTran\\AppData\\Local\\Temp\\ipykernel_25712\\722653556.py:82: FutureWarning: DataFrame.applymap has been deprecated. Use DataFrame.map instead.\n",
      "  summary_df = summary_df.applymap(lambda x: f\"{x:.2f}%\" if isinstance(x, (float, int)) else x)\n"
     ]
    }
   ],
   "source": [
    "from hazm import Normalizer\n",
    "\n",
    "print(\"\\n\\n📊=============== BẢNG SO SÁNH HIỆU NĂNG (ParsiNLU) ===============📊\")\n",
    "\n",
    "# 1. Ánh xạ từ nhãn 'c', 'e', 'n' sang từ đầy đủ bằng tiếng Anh\n",
    "English_label_mapping = lambda x: {\n",
    "    'c': 'contradiction',\n",
    "    'e': 'entailment',\n",
    "    'n': 'neutral'\n",
    "}.get(str(x).lower(), 'unknown')\n",
    "\n",
    "# 2. Lấy danh sách nhãn đúng từ dữ liệu và \"dịch\" chúng sang từ đầy đủ\n",
    "true_labels_short = [sample['target'] for sample in all_data]\n",
    "true_labels_full = [English_label_mapping(label) for label in true_labels_short]\n",
    "\n",
    "# 3. Các nhãn có thể có (dạng từ đầy đủ) để báo cáo\n",
    "english_labels_full = ['contradiction', 'entailment', 'neutral']\n",
    "\n",
    "# DataFrame để lưu trữ chỉ số Accuracy\n",
    "accuracy_results = {}\n",
    "\n",
    "# === HÀM SỬA LỖI QUAN TRỌNG ===\n",
    "def post_process_predictions(predictions, normalizer):\n",
    "    \"\"\"Chuẩn hóa và lọc các dự đoán không hợp lệ, hiểu cả tiếng Anh và Ba Tư.\"\"\"\n",
    "    processed = []\n",
    "    # Bản đồ dịch ngược từ Ba Tư sang Anh\n",
    "    persian_to_english_map = {\n",
    "        'تناقض': 'contradiction',\n",
    "        'تناظر': 'entailment',\n",
    "        'ناشناخته': 'neutral'\n",
    "    }\n",
    "    \n",
    "    for pred in predictions:\n",
    "        # Chuẩn hóa cả câu trả lời của model\n",
    "        normalized_pred = normalizer.normalize(pred.lower())\n",
    "        found = False\n",
    "        \n",
    "        # Kiểm tra các từ khóa tiếng Anh\n",
    "        for label in english_labels_full:\n",
    "            if label in normalized_pred:\n",
    "                processed.append(label)\n",
    "                found = True\n",
    "                break\n",
    "        if found:\n",
    "            continue\n",
    "            \n",
    "        # Nếu không tìm thấy, kiểm tra các từ khóa tiếng Ba Tư\n",
    "        for fa_label, en_label in persian_to_english_map.items():\n",
    "            if fa_label in normalized_pred:\n",
    "                processed.append(en_label)\n",
    "                found = True\n",
    "                break\n",
    "        if not found:\n",
    "            processed.append(\"unknown\") # Gán nhãn lỗi nếu không tìm thấy\n",
    "            \n",
    "    return processed\n",
    "\n",
    "# 4. Vòng lặp qua kết quả của từng model để tính toán và in báo cáo chi tiết\n",
    "normalizer = Normalizer()\n",
    "for model_name, prompt_results in all_predictions.items():\n",
    "    accuracy_results[model_name] = {}\n",
    "    print(f\"\\n\\n============== Báo cáo chi tiết cho Model: {model_name} ==============\")\n",
    "    for prompt_name, predictions in prompt_results.items():\n",
    "        print(f\"\\n--- Kịch bản: {prompt_name} ---\")\n",
    "        \n",
    "        # Sử dụng hàm mới để làm sạch dự đoán\n",
    "        processed_predictions = post_process_predictions(predictions, normalizer)\n",
    "        \n",
    "        # In báo cáo chi tiết (precision, recall, f1-score)\n",
    "        print(classification_report(true_labels_full, processed_predictions,\n",
    "                                      labels=english_labels_full,\n",
    "                                      target_names=english_labels_full,\n",
    "                                      zero_division=0,\n",
    "                                      digits=3))\n",
    "        \n",
    "        # Tính và lưu lại accuracy\n",
    "        accuracy = accuracy_score(true_labels_full, processed_predictions)\n",
    "        accuracy_results[model_name][prompt_name] = accuracy * 100\n",
    "\n",
    "# 5. Tạo và in bảng so sánh cuối cùng\n",
    "summary_df = pd.DataFrame(accuracy_results)\n",
    "summary_df = summary_df.applymap(lambda x: f\"{x:.2f}%\" if isinstance(x, (float, int)) else x)\n",
    "summary_df.columns.name = \"Model\"\n",
    "summary_df.index.name = \"Prompt / Kịch bản\"\n",
    "\n",
    "print(\"\\n\\n📊=============== BẢNG TÓM TẮT ACCURACY ===============📊\")\n",
    "print(summary_df.to_markdown())"
   ]
  },
  {
   "cell_type": "code",
   "execution_count": 24,
   "metadata": {},
   "outputs": [
    {
     "name": "stdout",
     "output_type": "stream",
     "text": [
      "\n",
      "\n",
      "📈=============== BIỂU ĐỒ SO SÁNH HIỆU SUẤT TRUNG BÌNH (NLU) ===============📈\n"
     ]
    },
    {
     "data": {
      "image/png": "[encoded data removed]",
      "text/plain": [
       "<Figure size 800x600 with 1 Axes>"
      ]
     },
     "metadata": {},
     "output_type": "display_data"
    },
    {
     "name": "stdout",
     "output_type": "stream",
     "text": [
      "\n",
      "\n",
      "📊=============== BẢNG TÓM TẮT HIỆU SUẤT CHI TIẾT (NLU) ===============📊\n",
      "| Experiment                 |   gpt-3.5-turbo |   gpt-4o-mini |\n",
      "|:---------------------------|----------------:|--------------:|\n",
      "| English Prompt (1-shot)    |           16.91 |         71.14 |\n",
      "| English Prompt (3-shot)    |           18.41 |         73.13 |\n",
      "| English Prompt (Zero-shot) |            2.99 |         37.31 |\n",
      "| Persian Prompt (1-shot)    |           50.25 |         69.15 |\n",
      "| Persian Prompt (3-shot)    |           41.29 |         73.13 |\n",
      "| Persian Prompt (Zero-shot) |           48.76 |         68.66 |\n"
     ]
    }
   ],
   "source": [
    "import pandas as pd\n",
    "import matplotlib.pyplot as plt\n",
    "import seaborn as sns\n",
    "\n",
    "nlu_data = {\n",
    "    'Experiment': [\n",
    "        'English Prompt (1-shot)', 'Persian Prompt (1-shot)', 'English Prompt (3-shot)',\n",
    "        'Persian Prompt (3-shot)', 'English Prompt (Zero-shot)', 'Persian Prompt (Zero-shot)'\n",
    "    ] * 2,\n",
    "    'Model': [\n",
    "        'gpt-3.5-turbo'] * 6 + ['gpt-4o-mini'] * 6\n",
    "    ,\n",
    "    'Accuracy': [\n",
    "        # gpt-3.5-turbo scores (lấy từ cột Accuracy trong bảng của bạn)\n",
    "        16.91, 50.25, 18.41, 41.29, 2.99, 48.76,\n",
    "        # gpt-4o-mini scores\n",
    "        71.14, 69.15, 73.13, 73.13, 37.31, 68.66\n",
    "    ]\n",
    "}\n",
    "\n",
    "df_nlu = pd.DataFrame(nlu_data)\n",
    "\n",
    "print(\"\\n\\n📈=============== BIỂU ĐỒ SO SÁNH HIỆU SUẤT TRUNG BÌNH (NLU) ===============📈\")\n",
    "\n",
    "# Nhóm theo model và tính điểm accuracy trung bình\n",
    "df_summary = df_nlu.groupby('Model')['Accuracy'].mean().reset_index()\n",
    "\n",
    "# Vẽ biểu đồ\n",
    "plt.figure(figsize=(8, 6))\n",
    "sns.barplot(x='Model', y='Accuracy', data=df_summary, hue='Model', palette='viridis', legend=False)\n",
    "\n",
    "# Tùy chỉnh biểu đồ\n",
    "plt.title('Biểu đồ so sánh hiệu suất của tác vụ NLU', fontsize=16)\n",
    "plt.ylabel('Average Accuracy (%)', fontsize=12)\n",
    "plt.xlabel('Model', fontsize=12)\n",
    "plt.ylim(0, 100)\n",
    "plt.grid(axis='y', linestyle='--', alpha=0.7)\n",
    "\n",
    "# Hiển thị giá trị trên mỗi cột\n",
    "for p in plt.gca().patches:\n",
    "    plt.gca().annotate(f\"{p.get_height():.2f}%\", (p.get_x() + p.get_width() / 2., p.get_height()),\n",
    "                       ha='center', va='center', fontsize=12, color='black', xytext=(0, 5),\n",
    "                       textcoords='offset points')\n",
    "\n",
    "plt.show()\n",
    "\n",
    "# Hiển thị bảng tóm tắt chi tiết\n",
    "print(\"\\n\\n📊=============== BẢNG TÓM TẮT HIỆU SUẤT CHI TIẾT (NLU) ===============📊\")\n",
    "pivot_detailed = df_nlu.pivot_table(index='Experiment', columns='Model', values='Accuracy')\n",
    "print(pivot_detailed.to_markdown(floatfmt=\".2f\"))"
   ]
  }
 ],
 "metadata": {
  "colab": {
   "authorship_tag": "ABX9TyO5SnFvKKEeMF3jwoHwZdmv",
   "collapsed_sections": [
    "8ddf05a07279b34c",
    "dbb94a7e759b90e9"
   ],
   "provenance": []
  },
  "kernelspec": {
   "display_name": "Python 3",
   "name": "python3"
  },
  "language_info": {
   "codemirror_mode": {
    "name": "ipython",
    "version": 3
   },
   "file_extension": ".py",
   "mimetype": "text/x-python",
   "name": "python",
   "nbconvert_exporter": "python",
   "pygments_lexer": "ipython3",
   "version": "3.10.0"
  }
 },
 "nbformat": 4,
 "nbformat_minor": 0
}
