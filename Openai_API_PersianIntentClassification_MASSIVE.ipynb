{
 "cells": [
  {
   "cell_type": "code",
   "execution_count": 3,
   "metadata": {
    "colab": {
     "base_uri": "https://localhost:8080/"
    },
    "executionInfo": {
     "elapsed": 23942,
     "status": "ok",
     "timestamp": 1690117933935,
     "user": {
      "displayName": "sepehr Kamahi",
      "userId": "01436967772755110359"
     },
     "user_tz": -210
    },
    "id": "_R0FWsOjyztz",
    "outputId": "abe01c74-f26c-4e99-d71c-13392645d156"
   },
   "outputs": [
    {
     "name": "stdout",
     "output_type": "stream",
     "text": [
      "^C\n"
     ]
    },
    {
     "name": "stderr",
     "output_type": "stream",
     "text": [
      "\n",
      "[notice] A new release of pip is available: 24.0 -> 25.1.1\n",
      "[notice] To update, run: C:\\Users\\GiaHyTran\\AppData\\Local\\Programs\\Python\\Python311\\python.exe -m pip install --upgrade pip\n",
      "\n",
      "[notice] A new release of pip is available: 24.0 -> 25.1.1\n",
      "[notice] To update, run: C:\\Users\\GiaHyTran\\AppData\\Local\\Programs\\Python\\Python311\\python.exe -m pip install --upgrade pip\n"
     ]
    }
   ],
   "source": [
    "!pip install -q openai\n",
    "!pip install -q datasets==2.12.0"
   ]
  },
  {
   "cell_type": "markdown",
   "metadata": {
    "id": "RoxM_fWHfQWL"
   },
   "source": [
    "Downloading dataset"
   ]
  },
  {
   "cell_type": "code",
   "execution_count": 1,
   "metadata": {
    "executionInfo": {
     "elapsed": 5,
     "status": "ok",
     "timestamp": 1690117938743,
     "user": {
      "displayName": "sepehr Kamahi",
      "userId": "01436967772755110359"
     },
     "user_tz": -210
    },
    "id": "zxyxYmSAjGw7"
   },
   "outputs": [
    {
     "name": "stderr",
     "output_type": "stream",
     "text": [
      "c:\\Users\\GiaHyTran\\AppData\\Local\\Programs\\Python\\Python310\\lib\\site-packages\\tqdm\\auto.py:21: TqdmWarning: IProgress not found. Please update jupyter and ipywidgets. See https://ipywidgets.readthedocs.io/en/stable/user_install.html\n",
      "  from .autonotebook import tqdm as notebook_tqdm\n"
     ]
    }
   ],
   "source": [
    "import json\n",
    "import time\n",
    "import pandas as pd\n",
    "from openai import OpenAI\n",
    "from tqdm import tqdm\n",
    "from sklearn.metrics import accuracy_score, f1_score, precision_score, recall_score\n",
    "from collections import Counter\n",
    "import matplotlib.pyplot as plt\n",
    "import numpy as np\n",
    "import seaborn as sns\n",
    "from datasets import load_dataset"
   ]
  },
  {
   "cell_type": "code",
   "execution_count": null,
   "metadata": {},
   "outputs": [],
   "source": [
    "# API Key\n",
    "api_key = \"...\"  # Thay thế bằng API Key của bạn\n",
    "\n",
    "# Khởi tạo client \n",
    "client = OpenAI(api_key=api_key)\n",
    "\n",
    "# Định nghĩa các model để so sánh\n",
    "MODELS_TO_COMPARE = [\"gpt-3.5-turbo\", \"gpt-4o-mini\"]"
   ]
  },
  {
   "cell_type": "markdown",
   "metadata": {},
   "source": [
    "### Hàm gọi API chung"
   ]
  },
  {
   "cell_type": "code",
   "execution_count": 25,
   "metadata": {},
   "outputs": [],
   "source": [
    "def get_completion(prompt, model=\"gpt-3.5-turbo\"):\n",
    "    \"\"\"\n",
    "    Hàm này nhận một prompt và tên model, sau đó trả về câu trả lời.\n",
    "    \"\"\"\n",
    "    try:\n",
    "        messages = [{\"role\": \"user\", \"content\": prompt}]\n",
    "        response = client.chat.completions.create(\n",
    "            model=model,\n",
    "            messages=messages,\n",
    "            temperature=0,\n",
    "        )\n",
    "        return response.choices[0].message.content.strip()\n",
    "    except Exception as e:\n",
    "        print(f\"\\nLỗi khi gọi model {model}: {e}\")\n",
    "        return \"ERROR\"\n",
    "\n",
    "def get_completion_from_messages(messages, model=\"gpt-3.5-turbo\", temperature=0):\n",
    "    \"\"\"\n",
    "    Hàm này nhận một chuỗi messages và tên model, trả về câu trả lời.\n",
    "    \"\"\"\n",
    "    try:\n",
    "        response = client.chat.completions.create(\n",
    "            model=model,\n",
    "            messages=messages,\n",
    "            temperature=temperature,\n",
    "        )\n",
    "        return response.choices[0].message.content.strip()\n",
    "    except Exception as e:\n",
    "        print(f\"\\nLỗi khi gọi model {model}: {e}\")\n",
    "        return \"ERROR\""
   ]
  },
  {
   "cell_type": "code",
   "execution_count": 3,
   "metadata": {},
   "outputs": [],
   "source": [
    "def calculate_metrics(actual, predicted, acceptable_classes):\n",
    "    \"\"\"\n",
    "    Hàm này từ code gốc của bạn, dùng để tính toán và trả về các chỉ số.\n",
    "    \"\"\"\n",
    "    # Lọc ra các cặp (dự đoán, thực tế) mà dự đoán nằm trong danh sách hợp lệ\n",
    "    valid_pairs = [(act, pred) for act, pred in zip(actual, predicted) if pred in acceptable_classes]\n",
    "    if not valid_pairs:\n",
    "        return {'Accuracy': 0, 'F1 Score': 0, 'Precision': 0, 'Recall': 0}\n",
    "        \n",
    "    valid_actual = [pair[0] for pair in valid_pairs]\n",
    "    valid_predicted = [pair[1] for pair in valid_pairs]\n",
    "\n",
    "    accuracy = accuracy_score(valid_actual, valid_predicted)\n",
    "    f1 = f1_score(valid_actual, valid_predicted, average='weighted', zero_division=0)\n",
    "    precision = precision_score(valid_actual, valid_predicted, average='weighted', zero_division=0)\n",
    "    recall = recall_score(valid_actual, valid_predicted, average='weighted', zero_division=0)\n",
    "    \n",
    "    return {'Accuracy': accuracy, 'F1 Score': f1, 'Precision': precision, 'Recall': recall}"
   ]
  },
  {
   "cell_type": "code",
   "execution_count": 4,
   "metadata": {},
   "outputs": [],
   "source": [
    "def create_demonstration_prompt(demonstration_df, label_map):\n",
    "    \"\"\"\n",
    "    Hàm này tạo ra chuỗi ví dụ cho kịch bản few-shot.\n",
    "    \"\"\"\n",
    "    result = \"\"\n",
    "    for index, row in demonstration_df.iterrows():\n",
    "        result += f\"Utterance: {row['utt']}\\nIntent: {label_map[row['intent']]}\\n\"\n",
    "    return result"
   ]
  },
  {
   "cell_type": "markdown",
   "metadata": {},
   "source": [
    "### Tải dữ liệu từ Hugging Face"
   ]
  },
  {
   "cell_type": "code",
   "execution_count": 50,
   "metadata": {
    "colab": {
     "base_uri": "https://localhost:8080/",
     "height": 201
    },
    "executionInfo": {
     "elapsed": 22179,
     "status": "ok",
     "timestamp": 1690117966503,
     "user": {
      "displayName": "sepehr Kamahi",
      "userId": "01436967772755110359"
     },
     "user_tz": -210
    },
    "id": "U-CjaAsvdnq1",
    "outputId": "ad40a40b-95a0-4388-cc87-7d8c19f55d4c"
   },
   "outputs": [
    {
     "name": "stdout",
     "output_type": "stream",
     "text": [
      "Đang tải bộ dữ liệu MASSIVE...\n"
     ]
    },
    {
     "name": "stderr",
     "output_type": "stream",
     "text": [
      "Using the latest cached version of the dataset since AmazonScience/massive couldn't be found on the Hugging Face Hub\n",
      "Found the latest cached dataset configuration 'fa-IR' at C:\\Users\\GiaHyTran\\.cache\\huggingface\\datasets\\AmazonScience___massive\\fa-IR\\1.0.0\\71d360eb7d7a18565ff8c10609cebf714fce3cc390e173ba5b02ffd48543cdc1 (last modified on Thu Jul 10 21:41:22 2025).\n"
     ]
    }
   ],
   "source": [
    "# Tải và xử lý dữ liệu từ Hugging Face\n",
    "print(\"Đang tải bộ dữ liệu MASSIVE...\")\n",
    "dataset = load_dataset(\"AmazonScience/massive\")\n",
    "train_df = pd.DataFrame(dataset['train'])\n",
    "test_df = pd.DataFrame(dataset['test'])\n",
    "\n",
    "# Lọc ngôn ngữ Persian (fa-IR)\n",
    "train_df_fa = train_df[train_df['locale'] == 'fa-IR'].copy()\n",
    "test_df_fa = test_df[test_df['locale'] == 'fa-IR'].copy()"
   ]
  },
  {
   "cell_type": "markdown",
   "metadata": {},
   "source": [
    "### Khám phá và phân thích dữ liệu (EDA)"
   ]
  },
  {
   "cell_type": "code",
   "execution_count": null,
   "metadata": {},
   "outputs": [
    {
     "name": "stdout",
     "output_type": "stream",
     "text": [
      "         id locale partition  scenario  intent  \\\n",
      "9710  14447  fa-IR     train        12      49   \n",
      "8313  12365  fa-IR     train         1      42   \n",
      "2960   4369  fa-IR     train         8      18   \n",
      "3058   4507  fa-IR     train         3      45   \n",
      "6933  10307  fa-IR     train         3      51   \n",
      "\n",
      "                                                 utt  \\\n",
      "9710   میانگین درآمد سرانه بین مردم آسیا و اروپا چقدر...   \n",
      "8313           قطار از نکا چه ساعتی راه می افتد   \n",
      "2960                                به لامپ ها وصل شو   \n",
      "3058                     آهنگ هایی مربوط به ابی پخش کن   \n",
      "6933                               با من چکرز بازی کن   \n",
      "\n",
      "                                             annot_utt worker_id  \\\n",
      "9710   میانگین درآمد سرانه بین مردم [place_name : آسی...        21   \n",
      "8313   [transport_type : قطار] از [place_name : نکا] ...        14   \n",
      "2960                                به لامپ ها وصل شو        17   \n",
      "3058       آهنگ هایی مربوط به [artist_name : ابی] پخش کن         8   \n",
      "6933          با من [game_name : چکرز] بازی کن         8   \n",
      "\n",
      "                                            slot_method  \\\n",
      "9710   {'slot': ['place_name'], 'method': ['translati...   \n",
      "8313   {'slot': ['transport_type', 'place_name'], 'me...   \n",
      "2960                           {'slot': [], 'method': []}   \n",
      "3058   {'slot': ['artist_name'], 'method': ['localiza...   \n",
      "6933     {'slot': ['game_name'], 'method': ['unchanged']}   \n",
      "\n",
      "                                               judgments  \n",
      "9710   {'worker_id': ['8', '3', '21'], 'intent_score'...  \n",
      "8313   {'worker_id': ['14', '8', '21'], 'intent_score...  \n",
      "2960   {'worker_id': ['3', '8', '14'], 'intent_score'...  \n",
      "3058   {'worker_id': ['14', '8', '21'], 'intent_score...  \n",
      "6933   {'worker_id': ['3', '14', '8'], 'intent_score'...  \n",
      "         id locale partition  scenario  intent  \\\n",
      "2402  13983  fa-IR      test        12      26   \n",
      "2864  16652  fa-IR      test         7      44   \n",
      "2167  12468  fa-IR      test         1       2   \n",
      "507    3029  fa-IR      test        15       7   \n",
      "1817  10406  fa-IR      test         3      51   \n",
      "\n",
      "                                            utt  \\\n",
      "2402                                  عواقب رنج   \n",
      "2864               آیا ایمیل نصرت یک پیوست داشت   \n",
      "2167             یک بلیط قطار به نکا برایم پیدا کن   \n",
      "507                          من از این آهنگ متنفرم   \n",
      "1817       بازی شطرنج را برای خودم و خودت باز کن   \n",
      "\n",
      "                                             annot_utt worker_id  \\\n",
      "2402                                        عواقب رنج        21   \n",
      "2864          آیا ایمیل [person : نصرت] یک پیوست داشت         8   \n",
      "2167   یک بلیط [transport_type : قطار] به [place_name...        14   \n",
      "507                          من از این آهنگ متنفرم         8   \n",
      "1817   بازی [game_name : شطرنج] را برای خودم و خودت ب...         8   \n",
      "\n",
      "                                            slot_method  \\\n",
      "2402                           {'slot': [], 'method': []}   \n",
      "2864     {'slot': ['person'], 'method': ['localization']}   \n",
      "2167   {'slot': ['transport_type', 'place_name'], 'me...   \n",
      "507                            {'slot': [], 'method': []}   \n",
      "1817   {'slot': ['game_name'], 'method': ['localizati...   \n",
      "\n",
      "                                               judgments  \n",
      "2402   {'worker_id': ['14', '3', '21'], 'intent_score...  \n",
      "2864   {'worker_id': ['8', '21', '3'], 'intent_score'...  \n",
      "2167   {'worker_id': ['14', '21', '8'], 'intent_score...  \n",
      "507    {'worker_id': ['21', '14', '8'], 'intent_score...  \n",
      "1817   {'worker_id': ['21', '14', '8'], 'intent_score...  \n"
     ]
    }
   ],
   "source": [
    "# Xem một vài mẫu\n",
    "print(train_df_fa.sample(n=5, random_state=42))\n",
    "print(test_df_fa.sample(n=5, random_state=42))"
   ]
  },
  {
   "cell_type": "code",
   "execution_count": 6,
   "metadata": {
    "colab": {
     "base_uri": "https://localhost:8080/"
    },
    "executionInfo": {
     "elapsed": 462,
     "status": "ok",
     "timestamp": 1690117970353,
     "user": {
      "displayName": "sepehr Kamahi",
      "userId": "01436967772755110359"
     },
     "user_tz": -210
    },
    "id": "bXoqIP_0r8Ay",
    "outputId": "825c1d2f-6131-48d4-e200-8364827e47cb"
   },
   "outputs": [
    {
     "data": {
      "text/plain": [
       "DatasetDict({\n",
       "    train: Dataset({\n",
       "        features: ['id', 'locale', 'partition', 'scenario', 'intent', 'utt', 'annot_utt', 'worker_id', 'slot_method', 'judgments'],\n",
       "        num_rows: 11514\n",
       "    })\n",
       "    validation: Dataset({\n",
       "        features: ['id', 'locale', 'partition', 'scenario', 'intent', 'utt', 'annot_utt', 'worker_id', 'slot_method', 'judgments'],\n",
       "        num_rows: 2033\n",
       "    })\n",
       "    test: Dataset({\n",
       "        features: ['id', 'locale', 'partition', 'scenario', 'intent', 'utt', 'annot_utt', 'worker_id', 'slot_method', 'judgments'],\n",
       "        num_rows: 2974\n",
       "    })\n",
       "})"
      ]
     },
     "execution_count": 6,
     "metadata": {},
     "output_type": "execute_result"
    }
   ],
   "source": [
    "dataset"
   ]
  },
  {
   "cell_type": "code",
   "execution_count": 7,
   "metadata": {
    "colab": {
     "base_uri": "https://localhost:8080/"
    },
    "executionInfo": {
     "elapsed": 2482,
     "status": "ok",
     "timestamp": 1690117975873,
     "user": {
      "displayName": "sepehr Kamahi",
      "userId": "01436967772755110359"
     },
     "user_tz": -210
    },
    "id": "dh7PUVULje5e",
    "outputId": "a75dda81-23c7-40e5-bdaa-bb62e669ea16"
   },
   "outputs": [
    {
     "data": {
      "text/plain": [
       "0        48\n",
       "1        48\n",
       "2        46\n",
       "3        46\n",
       "4        46\n",
       "         ..\n",
       "11509    17\n",
       "11510    44\n",
       "11511    44\n",
       "11512    44\n",
       "11513    44\n",
       "Name: intent, Length: 11514, dtype: int64"
      ]
     },
     "execution_count": 7,
     "metadata": {},
     "output_type": "execute_result"
    }
   ],
   "source": [
    "train = pd.DataFrame(dataset['train'])\n",
    "train['intent']"
   ]
  },
  {
   "cell_type": "code",
   "execution_count": 8,
   "metadata": {
    "colab": {
     "base_uri": "https://localhost:8080/"
    },
    "executionInfo": {
     "elapsed": 4,
     "status": "ok",
     "timestamp": 1690117975874,
     "user": {
      "displayName": "sepehr Kamahi",
      "userId": "01436967772755110359"
     },
     "user_tz": -210
    },
    "id": "u0WlhU0omQO-",
    "outputId": "ed210ca4-2dba-4fe4-d576-8b586ca49fe1"
   },
   "outputs": [
    {
     "data": {
      "text/plain": [
       "intent\n",
       "45    639\n",
       "36    283\n",
       "58    193\n",
       "20    150\n",
       "51    112\n",
       "Name: count, dtype: int64"
      ]
     },
     "execution_count": 8,
     "metadata": {},
     "output_type": "execute_result"
    }
   ],
   "source": [
    "train = train[train['scenario'] == 3] #play subset\n",
    "train['intent'].value_counts()"
   ]
  },
  {
   "cell_type": "code",
   "execution_count": 9,
   "metadata": {
    "colab": {
     "base_uri": "https://localhost:8080/",
     "height": 467
    },
    "executionInfo": {
     "elapsed": 3,
     "status": "ok",
     "timestamp": 1690117977364,
     "user": {
      "displayName": "sepehr Kamahi",
      "userId": "01436967772755110359"
     },
     "user_tz": -210
    },
    "id": "mMVsX89vjp7g",
    "outputId": "c66d7403-ad6b-436e-8096-4b42f0645948"
   },
   "outputs": [
    {
     "data": {
      "text/html": [
       "<div>\n",
       "<style scoped>\n",
       "    .dataframe tbody tr th:only-of-type {\n",
       "        vertical-align: middle;\n",
       "    }\n",
       "\n",
       "    .dataframe tbody tr th {\n",
       "        vertical-align: top;\n",
       "    }\n",
       "\n",
       "    .dataframe thead th {\n",
       "        text-align: right;\n",
       "    }\n",
       "</style>\n",
       "<table border=\"1\" class=\"dataframe\">\n",
       "  <thead>\n",
       "    <tr style=\"text-align: right;\">\n",
       "      <th></th>\n",
       "      <th>id</th>\n",
       "      <th>locale</th>\n",
       "      <th>partition</th>\n",
       "      <th>scenario</th>\n",
       "      <th>intent</th>\n",
       "      <th>utt</th>\n",
       "      <th>annot_utt</th>\n",
       "      <th>worker_id</th>\n",
       "      <th>slot_method</th>\n",
       "      <th>judgments</th>\n",
       "    </tr>\n",
       "  </thead>\n",
       "  <tbody>\n",
       "    <tr>\n",
       "      <th>22</th>\n",
       "      <td>34</td>\n",
       "      <td>fa-IR</td>\n",
       "      <td>train</td>\n",
       "      <td>3</td>\n",
       "      <td>45</td>\n",
       "      <td>من میخوام دوباره آهنگ ابی را گوش بدم</td>\n",
       "      <td>من میخوام دوباره آهنگ [artist_name : ابی] را گ...</td>\n",
       "      <td>3</td>\n",
       "      <td>{'slot': ['artist_name'], 'method': ['localiza...</td>\n",
       "      <td>{'worker_id': ['21', '14', '8'], 'intent_score...</td>\n",
       "    </tr>\n",
       "    <tr>\n",
       "      <th>23</th>\n",
       "      <td>35</td>\n",
       "      <td>fa-IR</td>\n",
       "      <td>train</td>\n",
       "      <td>3</td>\n",
       "      <td>45</td>\n",
       "      <td>من میخوام آن موزیک را دوباره پخش کنم</td>\n",
       "      <td>من میخوام آن [media_type : موزیک] را دوباره پخ...</td>\n",
       "      <td>3</td>\n",
       "      <td>{'slot': ['media_type'], 'method': ['translati...</td>\n",
       "      <td>{'worker_id': ['14', '3', '8'], 'intent_score'...</td>\n",
       "    </tr>\n",
       "    <tr>\n",
       "      <th>43</th>\n",
       "      <td>66</td>\n",
       "      <td>fa-IR</td>\n",
       "      <td>train</td>\n",
       "      <td>3</td>\n",
       "      <td>45</td>\n",
       "      <td>لطفا خاطر خواه از ایوان بند را پخش کن</td>\n",
       "      <td>لطفا [song_name : خاطر خواه] از [artist_name :...</td>\n",
       "      <td>3</td>\n",
       "      <td>{'slot': ['song_name', 'artist_name'], 'method...</td>\n",
       "      <td>{'worker_id': ['8', '9', '21'], 'intent_score'...</td>\n",
       "    </tr>\n",
       "    <tr>\n",
       "      <th>46</th>\n",
       "      <td>72</td>\n",
       "      <td>fa-IR</td>\n",
       "      <td>train</td>\n",
       "      <td>3</td>\n",
       "      <td>45</td>\n",
       "      <td>آهنگ از ایوان بند پخش کن</td>\n",
       "      <td>آهنگ از ایوان بند پخش کن</td>\n",
       "      <td>3</td>\n",
       "      <td>{'slot': [], 'method': []}</td>\n",
       "      <td>{'worker_id': ['8', '21', '14'], 'intent_score...</td>\n",
       "    </tr>\n",
       "    <tr>\n",
       "      <th>47</th>\n",
       "      <td>73</td>\n",
       "      <td>fa-IR</td>\n",
       "      <td>train</td>\n",
       "      <td>3</td>\n",
       "      <td>45</td>\n",
       "      <td>لطفا بهترین آهنگ من را پخش کن</td>\n",
       "      <td>لطفا بهترین آهنگ من را پخش کن</td>\n",
       "      <td>3</td>\n",
       "      <td>{'slot': [], 'method': []}</td>\n",
       "      <td>{'worker_id': ['8', '3', '14'], 'intent_score'...</td>\n",
       "    </tr>\n",
       "    <tr>\n",
       "      <th>...</th>\n",
       "      <td>...</td>\n",
       "      <td>...</td>\n",
       "      <td>...</td>\n",
       "      <td>...</td>\n",
       "      <td>...</td>\n",
       "      <td>...</td>\n",
       "      <td>...</td>\n",
       "      <td>...</td>\n",
       "      <td>...</td>\n",
       "      <td>...</td>\n",
       "    </tr>\n",
       "    <tr>\n",
       "      <th>671</th>\n",
       "      <td>995</td>\n",
       "      <td>fa-IR</td>\n",
       "      <td>train</td>\n",
       "      <td>3</td>\n",
       "      <td>45</td>\n",
       "      <td>من میخوام ترس را گوش بدم</td>\n",
       "      <td>من میخوام [song_name : ترس] را گوش بدم</td>\n",
       "      <td>8</td>\n",
       "      <td>{'slot': ['song_name'], 'method': ['localizati...</td>\n",
       "      <td>{'worker_id': ['8', '21', '14'], 'intent_score...</td>\n",
       "    </tr>\n",
       "    <tr>\n",
       "      <th>672</th>\n",
       "      <td>996</td>\n",
       "      <td>fa-IR</td>\n",
       "      <td>train</td>\n",
       "      <td>3</td>\n",
       "      <td>45</td>\n",
       "      <td>آهنگ ترس را جستجو کن و آن را پخش کن</td>\n",
       "      <td>آهنگ [song_name : ترس] را جستجو کن و آن را پخش کن</td>\n",
       "      <td>8</td>\n",
       "      <td>{'slot': ['song_name'], 'method': ['localizati...</td>\n",
       "      <td>{'worker_id': ['14', '8', '21'], 'intent_score...</td>\n",
       "    </tr>\n",
       "    <tr>\n",
       "      <th>679</th>\n",
       "      <td>1005</td>\n",
       "      <td>fa-IR</td>\n",
       "      <td>train</td>\n",
       "      <td>3</td>\n",
       "      <td>45</td>\n",
       "      <td>از آخرین لیست آهنگ های من ابی پخش کن</td>\n",
       "      <td>از آخرین لیست آهنگ های من [artist_name : ابی] ...</td>\n",
       "      <td>8</td>\n",
       "      <td>{'slot': ['artist_name'], 'method': ['localiza...</td>\n",
       "      <td>{'worker_id': ['8', '21', '14'], 'intent_score...</td>\n",
       "    </tr>\n",
       "    <tr>\n",
       "      <th>680</th>\n",
       "      <td>1006</td>\n",
       "      <td>fa-IR</td>\n",
       "      <td>train</td>\n",
       "      <td>3</td>\n",
       "      <td>45</td>\n",
       "      <td>من میخوام آهنگ عشق را در لیست آهنگ های راک خود...</td>\n",
       "      <td>من میخوام آهنگ [artist_name : عشق] را در لیست ...</td>\n",
       "      <td>8</td>\n",
       "      <td>{'slot': ['artist_name', 'music_genre'], 'meth...</td>\n",
       "      <td>{'worker_id': ['8', '1', '14'], 'intent_score'...</td>\n",
       "    </tr>\n",
       "    <tr>\n",
       "      <th>700</th>\n",
       "      <td>1034</td>\n",
       "      <td>fa-IR</td>\n",
       "      <td>train</td>\n",
       "      <td>3</td>\n",
       "      <td>45</td>\n",
       "      <td>آهنگ ابی را پخش کن</td>\n",
       "      <td>آهنگ [artist_name : ابی] را پخش کن</td>\n",
       "      <td>8</td>\n",
       "      <td>{'slot': ['artist_name'], 'method': ['localiza...</td>\n",
       "      <td>{'worker_id': ['14', '21', '8'], 'intent_score...</td>\n",
       "    </tr>\n",
       "  </tbody>\n",
       "</table>\n",
       "<p>100 rows × 10 columns</p>\n",
       "</div>"
      ],
      "text/plain": [
       "         id locale partition  scenario  intent  \\\n",
       "22       34  fa-IR     train         3      45   \n",
       "23       35  fa-IR     train         3      45   \n",
       "43       66  fa-IR     train         3      45   \n",
       "46       72  fa-IR     train         3      45   \n",
       "47       73  fa-IR     train         3      45   \n",
       "..      ...    ...       ...       ...     ...   \n",
       "671     995  fa-IR     train         3      45   \n",
       "672     996  fa-IR     train         3      45   \n",
       "679    1005  fa-IR     train         3      45   \n",
       "680    1006  fa-IR     train         3      45   \n",
       "700    1034  fa-IR     train         3      45   \n",
       "\n",
       "                                                 utt  \\\n",
       "22            من میخوام دوباره آهنگ ابی را گوش بدم   \n",
       "23            من میخوام آن موزیک را دوباره پخش کنم   \n",
       "43           لطفا خاطر خواه از ایوان بند را پخش کن   \n",
       "46                         آهنگ از ایوان بند پخش کن   \n",
       "47                       لطفا بهترین آهنگ من را پخش کن   \n",
       "..                                               ...   \n",
       "671                           من میخوام ترس را گوش بدم   \n",
       "672          آهنگ ترس را جستجو کن و آن را پخش کن   \n",
       "679        از آخرین لیست آهنگ های من ابی پخش کن   \n",
       "680   من میخوام آهنگ عشق را در لیست آهنگ های راک خود...   \n",
       "700                               آهنگ ابی را پخش کن   \n",
       "\n",
       "                                             annot_utt worker_id  \\\n",
       "22    من میخوام دوباره آهنگ [artist_name : ابی] را گ...         3   \n",
       "23    من میخوام آن [media_type : موزیک] را دوباره پخ...         3   \n",
       "43    لطفا [song_name : خاطر خواه] از [artist_name :...         3   \n",
       "46                         آهنگ از ایوان بند پخش کن         3   \n",
       "47                       لطفا بهترین آهنگ من را پخش کن         3   \n",
       "..                                               ...       ...   \n",
       "671          من میخوام [song_name : ترس] را گوش بدم         8   \n",
       "672   آهنگ [song_name : ترس] را جستجو کن و آن را پخش کن         8   \n",
       "679   از آخرین لیست آهنگ های من [artist_name : ابی] ...         8   \n",
       "680   من میخوام آهنگ [artist_name : عشق] را در لیست ...         8   \n",
       "700               آهنگ [artist_name : ابی] را پخش کن         8   \n",
       "\n",
       "                                            slot_method  \\\n",
       "22    {'slot': ['artist_name'], 'method': ['localiza...   \n",
       "23    {'slot': ['media_type'], 'method': ['translati...   \n",
       "43    {'slot': ['song_name', 'artist_name'], 'method...   \n",
       "46                            {'slot': [], 'method': []}   \n",
       "47                            {'slot': [], 'method': []}   \n",
       "..                                                ...   \n",
       "671   {'slot': ['song_name'], 'method': ['localizati...   \n",
       "672   {'slot': ['song_name'], 'method': ['localizati...   \n",
       "679   {'slot': ['artist_name'], 'method': ['localiza...   \n",
       "680   {'slot': ['artist_name', 'music_genre'], 'meth...   \n",
       "700   {'slot': ['artist_name'], 'method': ['localiza...   \n",
       "\n",
       "                                               judgments  \n",
       "22    {'worker_id': ['21', '14', '8'], 'intent_score...  \n",
       "23    {'worker_id': ['14', '3', '8'], 'intent_score'...  \n",
       "43    {'worker_id': ['8', '9', '21'], 'intent_score'...  \n",
       "46    {'worker_id': ['8', '21', '14'], 'intent_score...  \n",
       "47    {'worker_id': ['8', '3', '14'], 'intent_score'...  \n",
       "..                                                 ...  \n",
       "671   {'worker_id': ['8', '21', '14'], 'intent_score...  \n",
       "672   {'worker_id': ['14', '8', '21'], 'intent_score...  \n",
       "679   {'worker_id': ['8', '21', '14'], 'intent_score...  \n",
       "680   {'worker_id': ['8', '1', '14'], 'intent_score'...  \n",
       "700   {'worker_id': ['14', '21', '8'], 'intent_score...  \n",
       "\n",
       "[100 rows x 10 columns]"
      ]
     },
     "execution_count": 9,
     "metadata": {},
     "output_type": "execute_result"
    }
   ],
   "source": [
    "train.head(100\n",
    "           )"
   ]
  },
  {
   "cell_type": "markdown",
   "metadata": {},
   "source": [
    "### Tiền xử lý dữ liệu (Preprossing)"
   ]
  },
  {
   "cell_type": "code",
   "execution_count": 10,
   "metadata": {
    "colab": {
     "base_uri": "https://localhost:8080/"
    },
    "executionInfo": {
     "elapsed": 3104,
     "status": "ok",
     "timestamp": 1690117984789,
     "user": {
      "displayName": "sepehr Kamahi",
      "userId": "01436967772755110359"
     },
     "user_tz": -210
    },
    "id": "TMGs0qlGkC4x",
    "outputId": "a2bd221f-9758-48e8-cc96-f498fbfe8736"
   },
   "outputs": [
    {
     "data": {
      "text/plain": [
       "0       48\n",
       "1       46\n",
       "2        1\n",
       "3       41\n",
       "4       40\n",
       "        ..\n",
       "2969    33\n",
       "2970    44\n",
       "2971    44\n",
       "2972    44\n",
       "2973    44\n",
       "Name: intent, Length: 2974, dtype: int64"
      ]
     },
     "execution_count": 10,
     "metadata": {},
     "output_type": "execute_result"
    }
   ],
   "source": [
    "# Chuyển thành DataFrame của Pandas\n",
    "train_df = pd.DataFrame(dataset['train'])\n",
    "test_df = pd.DataFrame(dataset['test'])\n",
    "test_df['intent']"
   ]
  },
  {
   "cell_type": "code",
   "execution_count": 11,
   "metadata": {
    "colab": {
     "base_uri": "https://localhost:8080/",
     "height": 206
    },
    "executionInfo": {
     "elapsed": 8,
     "status": "ok",
     "timestamp": 1690117986162,
     "user": {
      "displayName": "sepehr Kamahi",
      "userId": "01436967772755110359"
     },
     "user_tz": -210
    },
    "id": "5a7AA30tsAT2",
    "outputId": "b22c56df-408f-4740-9abd-12b64b181176"
   },
   "outputs": [
    {
     "data": {
      "text/html": [
       "<div>\n",
       "<style scoped>\n",
       "    .dataframe tbody tr th:only-of-type {\n",
       "        vertical-align: middle;\n",
       "    }\n",
       "\n",
       "    .dataframe tbody tr th {\n",
       "        vertical-align: top;\n",
       "    }\n",
       "\n",
       "    .dataframe thead th {\n",
       "        text-align: right;\n",
       "    }\n",
       "</style>\n",
       "<table border=\"1\" class=\"dataframe\">\n",
       "  <thead>\n",
       "    <tr style=\"text-align: right;\">\n",
       "      <th></th>\n",
       "      <th>id</th>\n",
       "      <th>locale</th>\n",
       "      <th>partition</th>\n",
       "      <th>scenario</th>\n",
       "      <th>intent</th>\n",
       "      <th>utt</th>\n",
       "      <th>annot_utt</th>\n",
       "      <th>worker_id</th>\n",
       "      <th>slot_method</th>\n",
       "      <th>judgments</th>\n",
       "    </tr>\n",
       "  </thead>\n",
       "  <tbody>\n",
       "    <tr>\n",
       "      <th>0</th>\n",
       "      <td>0</td>\n",
       "      <td>fa-IR</td>\n",
       "      <td>test</td>\n",
       "      <td>16</td>\n",
       "      <td>48</td>\n",
       "      <td>این هفته ساعت پنج صبح بیدارم کن</td>\n",
       "      <td>[date : این هفته] ساعت [time : پنج صبح] بیدارم کن</td>\n",
       "      <td>8</td>\n",
       "      <td>{'slot': ['time', 'date'], 'method': ['transla...</td>\n",
       "      <td>{'worker_id': ['3', '21', '8'], 'intent_score'...</td>\n",
       "    </tr>\n",
       "    <tr>\n",
       "      <th>1</th>\n",
       "      <td>3</td>\n",
       "      <td>fa-IR</td>\n",
       "      <td>test</td>\n",
       "      <td>10</td>\n",
       "      <td>46</td>\n",
       "      <td>ساکت</td>\n",
       "      <td>ساکت</td>\n",
       "      <td>17</td>\n",
       "      <td>{'slot': [], 'method': []}</td>\n",
       "      <td>{'worker_id': ['3', '8', '21'], 'intent_score'...</td>\n",
       "    </tr>\n",
       "    <tr>\n",
       "      <th>2</th>\n",
       "      <td>8</td>\n",
       "      <td>fa-IR</td>\n",
       "      <td>test</td>\n",
       "      <td>8</td>\n",
       "      <td>1</td>\n",
       "      <td>صورتی همان چیزی است که نیاز داریم</td>\n",
       "      <td>[color_type : صورتی] همان چیزی است که نیاز داریم</td>\n",
       "      <td>3</td>\n",
       "      <td>{'slot': ['color_type'], 'method': ['translati...</td>\n",
       "      <td>{'worker_id': ['3', '21', '8'], 'intent_score'...</td>\n",
       "    </tr>\n",
       "    <tr>\n",
       "      <th>3</th>\n",
       "      <td>14</td>\n",
       "      <td>fa-IR</td>\n",
       "      <td>test</td>\n",
       "      <td>8</td>\n",
       "      <td>41</td>\n",
       "      <td>و تاریک شده است</td>\n",
       "      <td>و تاریک شده است</td>\n",
       "      <td>5</td>\n",
       "      <td>{'slot': [], 'method': []}</td>\n",
       "      <td>{'worker_id': ['21', '14', '3'], 'intent_score...</td>\n",
       "    </tr>\n",
       "    <tr>\n",
       "      <th>4</th>\n",
       "      <td>19</td>\n",
       "      <td>fa-IR</td>\n",
       "      <td>test</td>\n",
       "      <td>8</td>\n",
       "      <td>40</td>\n",
       "      <td>علی چراغ‌های اتاق خواب را خاموش کن</td>\n",
       "      <td>علی چراغ‌های [house_place : اتاق] خواب را خامو...</td>\n",
       "      <td>3</td>\n",
       "      <td>{'slot': ['house_place'], 'method': ['translat...</td>\n",
       "      <td>{'worker_id': ['8', '14', '3'], 'intent_score'...</td>\n",
       "    </tr>\n",
       "  </tbody>\n",
       "</table>\n",
       "</div>"
      ],
      "text/plain": [
       "   id locale partition  scenario  intent                                       utt  \\\n",
       "0   0  fa-IR      test        16      48        این هفته ساعت پنج صبح بیدارم کن   \n",
       "1   3  fa-IR      test        10      46                                     ساکت   \n",
       "2   8  fa-IR      test         8       1        صورتی همان چیزی است که نیاز داریم   \n",
       "3  14  fa-IR      test         8      41                        و تاریک شده است   \n",
       "4  19  fa-IR      test         8      40  علی چراغ‌های اتاق خواب را خاموش کن   \n",
       "\n",
       "                                             annot_utt worker_id  \\\n",
       "0   [date : این هفته] ساعت [time : پنج صبح] بیدارم کن         8   \n",
       "1                                                ساکت        17   \n",
       "2    [color_type : صورتی] همان چیزی است که نیاز داریم         3   \n",
       "3                                     و تاریک شده است         5   \n",
       "4   علی چراغ‌های [house_place : اتاق] خواب را خامو...         3   \n",
       "\n",
       "                                           slot_method  \\\n",
       "0  {'slot': ['time', 'date'], 'method': ['transla...   \n",
       "1                          {'slot': [], 'method': []}   \n",
       "2  {'slot': ['color_type'], 'method': ['translati...   \n",
       "3                          {'slot': [], 'method': []}   \n",
       "4  {'slot': ['house_place'], 'method': ['translat...   \n",
       "\n",
       "                                             judgments  \n",
       "0  {'worker_id': ['3', '21', '8'], 'intent_score'...  \n",
       "1  {'worker_id': ['3', '8', '21'], 'intent_score'...  \n",
       "2  {'worker_id': ['3', '21', '8'], 'intent_score'...  \n",
       "3  {'worker_id': ['21', '14', '3'], 'intent_score...  \n",
       "4  {'worker_id': ['8', '14', '3'], 'intent_score'...  "
      ]
     },
     "execution_count": 11,
     "metadata": {},
     "output_type": "execute_result"
    }
   ],
   "source": [
    "test_df.head()"
   ]
  },
  {
   "cell_type": "code",
   "execution_count": 12,
   "metadata": {
    "colab": {
     "base_uri": "https://localhost:8080/"
    },
    "executionInfo": {
     "elapsed": 7,
     "status": "ok",
     "timestamp": 1690117986163,
     "user": {
      "displayName": "sepehr Kamahi",
      "userId": "01436967772755110359"
     },
     "user_tz": -210
    },
    "id": "GQTJvO0iqG5Z",
    "outputId": "9c9bbd5f-7678-4a42-cc9b-5fab48f51405"
   },
   "outputs": [
    {
     "name": "stdout",
     "output_type": "stream",
     "text": [
      "0\n",
      "106\n",
      "intent\n",
      "47    81\n",
      "27    25\n",
      "Name: count, dtype: int64\n",
      "-----------------------------------------------------------\n",
      "1\n",
      "124\n",
      "intent\n",
      "42    51\n",
      "2     35\n",
      "54    23\n",
      "11    15\n",
      "Name: count, dtype: int64\n",
      "-----------------------------------------------------------\n",
      "2\n",
      "402\n",
      "intent\n",
      "50    209\n",
      "32    126\n",
      "30     67\n",
      "Name: count, dtype: int64\n",
      "-----------------------------------------------------------\n",
      "3\n",
      "387\n",
      "intent\n",
      "45    176\n",
      "36     72\n",
      "58     63\n",
      "20     41\n",
      "51     35\n",
      "Name: count, dtype: int64\n",
      "-----------------------------------------------------------\n",
      "4\n",
      "124\n",
      "intent\n",
      "22    124\n",
      "Name: count, dtype: int64\n",
      "-----------------------------------------------------------\n",
      "5\n",
      "103\n",
      "intent\n",
      "0     88\n",
      "38    15\n",
      "Name: count, dtype: int64\n",
      "-----------------------------------------------------------\n",
      "6\n",
      "94\n",
      "intent\n",
      "6     43\n",
      "19    31\n",
      "55    20\n",
      "Name: count, dtype: int64\n",
      "-----------------------------------------------------------\n",
      "7\n",
      "271\n",
      "intent\n",
      "44    119\n",
      "33    114\n",
      "17     26\n",
      "15     12\n",
      "Name: count, dtype: int64\n",
      "-----------------------------------------------------------\n",
      "8\n",
      "220\n",
      "intent\n",
      "40    43\n",
      "1     36\n",
      "56    36\n",
      "18    27\n",
      "34    26\n",
      "31    21\n",
      "8     18\n",
      "24    10\n",
      "41     3\n",
      "Name: count, dtype: int64\n",
      "-----------------------------------------------------------\n",
      "9\n",
      "189\n",
      "intent\n",
      "12    169\n",
      "25     19\n",
      "5       1\n",
      "Name: count, dtype: int64\n",
      "-----------------------------------------------------------\n",
      "10\n",
      "62\n",
      "intent\n",
      "46    32\n",
      "14    13\n",
      "35    11\n",
      "29     6\n",
      "Name: count, dtype: int64\n",
      "-----------------------------------------------------------\n",
      "11\n",
      "142\n",
      "intent\n",
      "53    52\n",
      "59    51\n",
      "21    39\n",
      "Name: count, dtype: int64\n",
      "-----------------------------------------------------------\n",
      "12\n",
      "288\n",
      "intent\n",
      "49    141\n",
      "26     57\n",
      "10     39\n",
      "4      26\n",
      "39     25\n",
      "Name: count, dtype: int64\n",
      "-----------------------------------------------------------\n",
      "13\n",
      "72\n",
      "intent\n",
      "9    72\n",
      "Name: count, dtype: int64\n",
      "-----------------------------------------------------------\n",
      "14\n",
      "57\n",
      "intent\n",
      "3     35\n",
      "16    22\n",
      "Name: count, dtype: int64\n",
      "-----------------------------------------------------------\n",
      "15\n",
      "81\n",
      "intent\n",
      "43    36\n",
      "57    35\n",
      "28     6\n",
      "7      4\n",
      "Name: count, dtype: int64\n",
      "-----------------------------------------------------------\n",
      "16\n",
      "96\n",
      "intent\n",
      "48    41\n",
      "23    34\n",
      "52    21\n",
      "Name: count, dtype: int64\n",
      "-----------------------------------------------------------\n",
      "17\n",
      "156\n",
      "intent\n",
      "13    156\n",
      "Name: count, dtype: int64\n",
      "-----------------------------------------------------------\n"
     ]
    }
   ],
   "source": [
    "for i in range(18):\n",
    "    print(i)\n",
    "    print(len(test_df[test_df['scenario'] == i]))\n",
    "    print(test_df[test_df['scenario'] == i]['intent'].value_counts())\n",
    "    print('-----------------------------------------------------------')"
   ]
  },
  {
   "cell_type": "code",
   "execution_count": 13,
   "metadata": {
    "colab": {
     "base_uri": "https://localhost:8080/"
    },
    "executionInfo": {
     "elapsed": 4,
     "status": "ok",
     "timestamp": 1690117989616,
     "user": {
      "displayName": "sepehr Kamahi",
      "userId": "01436967772755110359"
     },
     "user_tz": -210
    },
    "id": "WE9BKL43shfN",
    "outputId": "e1bbd86a-2a89-4146-a203-4db2d8caabb1"
   },
   "outputs": [
    {
     "data": {
      "text/plain": [
       "intent\n",
       "45    176\n",
       "36     72\n",
       "58     63\n",
       "20     41\n",
       "51     35\n",
       "Name: count, dtype: int64"
      ]
     },
     "execution_count": 13,
     "metadata": {},
     "output_type": "execute_result"
    }
   ],
   "source": [
    "# Lọc ra tập con \"play\" (scenario == 3) như trong notebook gốc\n",
    "train_data = train_df_fa[train_df_fa['scenario'] == 3].copy()\n",
    "test_data_full = test_df_fa[test_df_fa['scenario'] == 3].copy()\n",
    "test_data_full['intent'].value_counts()"
   ]
  },
  {
   "cell_type": "code",
   "execution_count": 14,
   "metadata": {
    "colab": {
     "base_uri": "https://localhost:8080/",
     "height": 368
    },
    "executionInfo": {
     "elapsed": 463,
     "status": "ok",
     "timestamp": 1690117992443,
     "user": {
      "displayName": "sepehr Kamahi",
      "userId": "01436967772755110359"
     },
     "user_tz": -210
    },
    "id": "cxjePNxetUgv",
    "outputId": "51cccc5f-7f5c-4855-9e99-5a82667a1918"
   },
   "outputs": [
    {
     "name": "stderr",
     "output_type": "stream",
     "text": [
      "C:\\Users\\GiaHyTran\\AppData\\Local\\Temp\\ipykernel_20748\\3286241878.py:2: FutureWarning: DataFrameGroupBy.apply operated on the grouping columns. This behavior is deprecated, and in a future version of pandas the grouping columns will be excluded from the operation. Either pass `include_groups=False` to exclude the groupings or explicitly select the grouping columns after groupby to silence this warning.\n",
      "  test_prompt = test_data_full.groupby('intent').apply(lambda x: x.sample(n_test_sample))\n"
     ]
    },
    {
     "data": {
      "text/html": [
       "<div>\n",
       "<style scoped>\n",
       "    .dataframe tbody tr th:only-of-type {\n",
       "        vertical-align: middle;\n",
       "    }\n",
       "\n",
       "    .dataframe tbody tr th {\n",
       "        vertical-align: top;\n",
       "    }\n",
       "\n",
       "    .dataframe thead th {\n",
       "        text-align: right;\n",
       "    }\n",
       "</style>\n",
       "<table border=\"1\" class=\"dataframe\">\n",
       "  <thead>\n",
       "    <tr style=\"text-align: right;\">\n",
       "      <th></th>\n",
       "      <th></th>\n",
       "      <th>id</th>\n",
       "      <th>locale</th>\n",
       "      <th>partition</th>\n",
       "      <th>scenario</th>\n",
       "      <th>intent</th>\n",
       "      <th>utt</th>\n",
       "      <th>annot_utt</th>\n",
       "      <th>worker_id</th>\n",
       "      <th>slot_method</th>\n",
       "      <th>judgments</th>\n",
       "    </tr>\n",
       "    <tr>\n",
       "      <th>intent</th>\n",
       "      <th></th>\n",
       "      <th></th>\n",
       "      <th></th>\n",
       "      <th></th>\n",
       "      <th></th>\n",
       "      <th></th>\n",
       "      <th></th>\n",
       "      <th></th>\n",
       "      <th></th>\n",
       "      <th></th>\n",
       "      <th></th>\n",
       "    </tr>\n",
       "  </thead>\n",
       "  <tbody>\n",
       "    <tr>\n",
       "      <th>20</th>\n",
       "      <th>1689</th>\n",
       "      <td>9760</td>\n",
       "      <td>fa-IR</td>\n",
       "      <td>test</td>\n",
       "      <td>3</td>\n",
       "      <td>20</td>\n",
       "      <td>پخش را متوقف کن</td>\n",
       "      <td>پخش را [player_setting : متوقف کن]</td>\n",
       "      <td>3</td>\n",
       "      <td>{'slot': ['player_setting'], 'method': ['trans...</td>\n",
       "      <td>{'worker_id': ['8', '14', '21'], 'intent_score...</td>\n",
       "    </tr>\n",
       "    <tr>\n",
       "      <th>36</th>\n",
       "      <th>1609</th>\n",
       "      <td>9284</td>\n",
       "      <td>fa-IR</td>\n",
       "      <td>test</td>\n",
       "      <td>3</td>\n",
       "      <td>36</td>\n",
       "      <td>موج اف. ام. را روشن کن</td>\n",
       "      <td>موج اف. ام. را روشن کن</td>\n",
       "      <td>8</td>\n",
       "      <td>{'slot': [], 'method': []}</td>\n",
       "      <td>{'worker_id': ['14', '21', '8'], 'intent_score...</td>\n",
       "    </tr>\n",
       "    <tr>\n",
       "      <th>45</th>\n",
       "      <th>531</th>\n",
       "      <td>3146</td>\n",
       "      <td>fa-IR</td>\n",
       "      <td>test</td>\n",
       "      <td>3</td>\n",
       "      <td>45</td>\n",
       "      <td>قطعه اول از لیست آهنگ های ابی من پخش کن</td>\n",
       "      <td>قطعه اول از لیست آهنگ های [artist_name : ابی] ...</td>\n",
       "      <td>8</td>\n",
       "      <td>{'slot': ['artist_name'], 'method': ['localiza...</td>\n",
       "      <td>{'worker_id': ['21', '14', '8'], 'intent_score...</td>\n",
       "    </tr>\n",
       "    <tr>\n",
       "      <th>51</th>\n",
       "      <th>1815</th>\n",
       "      <td>10399</td>\n",
       "      <td>fa-IR</td>\n",
       "      <td>test</td>\n",
       "      <td>3</td>\n",
       "      <td>51</td>\n",
       "      <td>لطفا بازی شطرنج را باز کن و با من بازی کن</td>\n",
       "      <td>لطفا بازی [game_name : شطرنج] را باز کن و با م...</td>\n",
       "      <td>3</td>\n",
       "      <td>{'slot': ['game_name'], 'method': ['translatio...</td>\n",
       "      <td>{'worker_id': ['14', '8', '1'], 'intent_score'...</td>\n",
       "    </tr>\n",
       "    <tr>\n",
       "      <th>58</th>\n",
       "      <th>2001</th>\n",
       "      <td>11437</td>\n",
       "      <td>fa-IR</td>\n",
       "      <td>test</td>\n",
       "      <td>3</td>\n",
       "      <td>58</td>\n",
       "      <td>لطفا فایل صوتی برای من پخش کن</td>\n",
       "      <td>لطفا فایل صوتی برای من پخش کن</td>\n",
       "      <td>3</td>\n",
       "      <td>{'slot': [], 'method': []}</td>\n",
       "      <td>{'worker_id': ['9', '3', '8'], 'intent_score':...</td>\n",
       "    </tr>\n",
       "  </tbody>\n",
       "</table>\n",
       "</div>"
      ],
      "text/plain": [
       "               id locale partition  scenario  intent  \\\n",
       "intent                                                 \n",
       "20     1689   9760  fa-IR      test         3      20   \n",
       "36     1609   9284  fa-IR      test         3      36   \n",
       "45     531    3146  fa-IR      test         3      45   \n",
       "51     1815  10399  fa-IR      test         3      51   \n",
       "58     2001  11437  fa-IR      test         3      58   \n",
       "\n",
       "                                                     utt  \\\n",
       "intent                                                    \n",
       "20     1689                        پخش را متوقف کن   \n",
       "36     1609                   موج اف. ام. را روشن کن   \n",
       "45     531     قطعه اول از لیست آهنگ های ابی من پخش کن   \n",
       "51     1815  لطفا بازی شطرنج را باز کن و با من بازی کن   \n",
       "58     2001           لطفا فایل صوتی برای من پخش کن   \n",
       "\n",
       "                                                   annot_utt worker_id  \\\n",
       "intent                                                                      \n",
       "20     1689              پخش را [player_setting : متوقف کن]         3   \n",
       "36     1609                          موج اف. ام. را روشن کن         8   \n",
       "45     531   قطعه اول از لیست آهنگ های [artist_name : ابی] ...         8   \n",
       "51     1815  لطفا بازی [game_name : شطرنج] را باز کن و با م...         3   \n",
       "58     2001           لطفا فایل صوتی برای من پخش کن         3   \n",
       "\n",
       "                                                 slot_method  \\\n",
       "intent                                                        \n",
       "20     1689  {'slot': ['player_setting'], 'method': ['trans...   \n",
       "36     1609                          {'slot': [], 'method': []}   \n",
       "45     531   {'slot': ['artist_name'], 'method': ['localiza...   \n",
       "51     1815  {'slot': ['game_name'], 'method': ['translatio...   \n",
       "58     2001                          {'slot': [], 'method': []}   \n",
       "\n",
       "                                                     judgments  \n",
       "intent                                                          \n",
       "20     1689  {'worker_id': ['8', '14', '21'], 'intent_score...  \n",
       "36     1609  {'worker_id': ['14', '21', '8'], 'intent_score...  \n",
       "45     531   {'worker_id': ['21', '14', '8'], 'intent_score...  \n",
       "51     1815  {'worker_id': ['14', '8', '1'], 'intent_score'...  \n",
       "58     2001  {'worker_id': ['9', '3', '8'], 'intent_score':...  "
      ]
     },
     "execution_count": 14,
     "metadata": {},
     "output_type": "execute_result"
    }
   ],
   "source": [
    "n_test_sample = 1\n",
    "test_prompt = test_data_full.groupby('intent').apply(lambda x: x.sample(n_test_sample))\n",
    "\n",
    "test_prompt.head()"
   ]
  },
  {
   "cell_type": "code",
   "execution_count": 15,
   "metadata": {},
   "outputs": [
    {
     "name": "stdout",
     "output_type": "stream",
     "text": [
      "✅ Đã tải và xử lý 387 dữ liệu thành công.\n",
      "  -> Sử dụng 387 mẫu để kiểm tra.\n"
     ]
    }
   ],
   "source": [
    "# === Lấy 10 mẫu để kiểm tra ===\n",
    "SAMPLE_SIZE = 387 \n",
    "test_data = test_data_full.sample(n=SAMPLE_SIZE, random_state=42)\n",
    "\n",
    "print(f\"✅ Đã tải và xử lý {len(test_data_full)} dữ liệu thành công.\")\n",
    "print(f\"  -> Sử dụng {len(test_data)} mẫu để kiểm tra.\")"
   ]
  },
  {
   "cell_type": "code",
   "execution_count": 16,
   "metadata": {
    "colab": {
     "base_uri": "https://localhost:8080/",
     "height": 206
    },
    "executionInfo": {
     "elapsed": 446,
     "status": "ok",
     "timestamp": 1690118048326,
     "user": {
      "displayName": "sepehr Kamahi",
      "userId": "01436967772755110359"
     },
     "user_tz": -210
    },
    "id": "JwHjLOf-tRwM",
    "outputId": "d0cbb3d2-9e98-471a-9743-6c825c6bf716"
   },
   "outputs": [
    {
     "name": "stderr",
     "output_type": "stream",
     "text": [
      "C:\\Users\\GiaHyTran\\AppData\\Local\\Temp\\ipykernel_20748\\1098398067.py:3: FutureWarning: DataFrameGroupBy.apply operated on the grouping columns. This behavior is deprecated, and in a future version of pandas the grouping columns will be excluded from the operation. Either pass `include_groups=False` to exclude the groupings or explicitly select the grouping columns after groupby to silence this warning.\n",
      "  demonstration = train.groupby('intent').apply(lambda x: x.sample(n_sample_each_group, random_state=42)).reset_index(drop=True)\n"
     ]
    },
    {
     "data": {
      "text/html": [
       "<div>\n",
       "<style scoped>\n",
       "    .dataframe tbody tr th:only-of-type {\n",
       "        vertical-align: middle;\n",
       "    }\n",
       "\n",
       "    .dataframe tbody tr th {\n",
       "        vertical-align: top;\n",
       "    }\n",
       "\n",
       "    .dataframe thead th {\n",
       "        text-align: right;\n",
       "    }\n",
       "</style>\n",
       "<table border=\"1\" class=\"dataframe\">\n",
       "  <thead>\n",
       "    <tr style=\"text-align: right;\">\n",
       "      <th></th>\n",
       "      <th>id</th>\n",
       "      <th>locale</th>\n",
       "      <th>partition</th>\n",
       "      <th>scenario</th>\n",
       "      <th>intent</th>\n",
       "      <th>utt</th>\n",
       "      <th>annot_utt</th>\n",
       "      <th>worker_id</th>\n",
       "      <th>slot_method</th>\n",
       "      <th>judgments</th>\n",
       "    </tr>\n",
       "  </thead>\n",
       "  <tbody>\n",
       "    <tr>
